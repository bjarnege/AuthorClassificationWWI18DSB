{
 "cells": [
  {
   "cell_type": "code",
   "execution_count": 23,
   "metadata": {},
   "outputs": [],
   "source": [
    "import pandas as pd\n",
    "import re\n",
    "from tqdm import tqdm\n",
    "import numpy as np\n",
    "import nltk.data\n",
    "from pandas_profiling import ProfileReport\n",
    "import sys\n",
    "sys.path.append(\"../src\")\n",
    "import Preprocessing\n",
    "import fasttext\n",
    "from sklearn.model_selection import train_test_split\n",
    "from sklearn.metrics import classification_report\n",
    "from xgboost import XGBRegressor\n",
    "from sklearn.metrics import confusion_matrix\n",
    "from sklearn.metrics import mean_absolute_error"
   ]
  },
  {
   "cell_type": "code",
   "execution_count": 2,
   "metadata": {},
   "outputs": [],
   "source": [
    "tokenizer = nltk.data.load('tokenizers/punkt/english.pickle')\n",
    "df = pd.read_csv(\"../resource/data/blogtext.csv\", nrows=200_000)"
   ]
  },
  {
   "cell_type": "markdown",
   "metadata": {},
   "source": [
    "### Filtering"
   ]
  },
  {
   "cell_type": "code",
   "execution_count": 3,
   "metadata": {},
   "outputs": [],
   "source": [
    "# filter for a mininmal number of letters in a tweet:\n",
    "df = df[df[\"text\"].str.count(r\"[a-zA-Z]\") >= 50]\n",
    "df = df.reset_index(drop=True)"
   ]
  },
  {
   "cell_type": "markdown",
   "metadata": {},
   "source": [
    "### Feature Engineering"
   ]
  },
  {
   "cell_type": "code",
   "execution_count": 4,
   "metadata": {},
   "outputs": [],
   "source": [
    "#def findDates(text):\n",
    "#    try:\n",
    "#        return len([date for date in\\\n",
    "#                    datefinder.find_dates(text)])\n",
    "#    except:\n",
    "#        return 0"
   ]
  },
  {
   "cell_type": "code",
   "execution_count": 5,
   "metadata": {},
   "outputs": [],
   "source": [
    "def buildFeatures(text):\n",
    "    text_split = text.split()\n",
    "    len_text = len(text)\n",
    "    sentence_split = tokenizer.tokenize(text)\n",
    "    \n",
    "    # find the number of urls in the text\n",
    "    keywords = [\"urlLink\",\"http\",\"www\"]\n",
    "    nb_urls = sum((any(keyword in pattern for keyword in keywords))\\\n",
    "               for pattern in text.split())\n",
    "    # find the number of mails in the text\n",
    "    nb_mails = len(re.findall(r\"([a-zA-Z0-9+._-]+@[a-zA-Z0-9._-]+\\.[a-zA-Z0-9_-]+|\\bmail\\b)\"\\\n",
    "                      ,text))\n",
    "    \n",
    "    # find the number of dates in the text\n",
    "#    nb_dates = findDates(text)\n",
    "     \n",
    "    # find characteristics about the usage of letters, numbers and symbols\n",
    "    uppercase_ratio = len(re.findall(r'[A-Z]', text))/len_text\n",
    "    lowercase_ratio = len(re.findall(r'[a-z]', text))/len_text\n",
    "    number_ratio = len(re.findall(r'[0-9]', text))/len_text\n",
    "    symbol_ratio = len(re.findall(r'[$-/:-?{-~!\"^_`\\[\\]]', text))/len_text\n",
    "\n",
    "    # find characteristics about the letters per word\n",
    "    sentence_len_word = [len(word) for word in text_split]\n",
    "    avg_letters_per_word = np.mean([len(word) for word in text_split])\n",
    "    var_letters_per_word = np.var([len(word) for word in text_split])\n",
    "    unique_words_ratio = len(set(text_split))/len(text_split)\n",
    "\n",
    "    # find characteristics about the letters per sentence\n",
    "    sentence_len_list = [len(sentence) for sentence in sentence_split]\n",
    "    avg_letters_per_sentence = np.mean(sentence_len_list)\n",
    "    var_letters_per_sentence = np.var(sentence_len_list)\n",
    "    \n",
    "    # find characteristics about the words per sentence\n",
    "    words_per_sentence_len_list = [len(sentence.split()) for sentence in sentence_split]\n",
    "    avg_words_per_sentence = np.mean(words_per_sentence_len_list)\n",
    "    var_words_per_sentence = np.var(words_per_sentence_len_list)\n",
    "    \n",
    "    # find the trumps\n",
    "    uppercase_per_sentence_ratio = [len(re.findall(r'[A-Z]', sentence))/len(sentence)\\\n",
    "                                    for sentence in sentence_split]\n",
    "    max_sentence_uppercase_ratio = max(uppercase_per_sentence_ratio)\n",
    "    max_sentence_uppercase_len = len(sentence_split[uppercase_per_sentence_ratio.index(max_sentence_uppercase_ratio)])\n",
    "    \n",
    "    return len_text, nb_urls, nb_mails,\\\n",
    "           uppercase_ratio, lowercase_ratio, number_ratio, symbol_ratio,\\\n",
    "           avg_letters_per_word, var_letters_per_word, unique_words_ratio,\\\n",
    "           avg_letters_per_sentence, var_letters_per_sentence,\\\n",
    "           avg_words_per_sentence, var_words_per_sentence,\\\n",
    "           max_sentence_uppercase_ratio, max_sentence_uppercase_len        \n",
    "           "
   ]
  },
  {
   "cell_type": "code",
   "execution_count": 6,
   "metadata": {},
   "outputs": [
    {
     "name": "stderr",
     "output_type": "stream",
     "text": [
      "100%|██████████| 197080/197080 [04:00<00:00, 820.34it/s] \n"
     ]
    }
   ],
   "source": [
    "# append the data\n",
    "features = [buildFeatures(text) for text  in tqdm(df[\"text\"])]\n",
    "\n",
    "# append the data\n",
    "columns = [\"Text length\", \"Number URLs\", \"Number mails\",\\\n",
    "          \"Uppercase ratio\", \"Lowercase ratio\", \"Number ratio\", \"Symbol ratio\",\\\n",
    "          \"Average letters per word\", \"Variance of letters per word\", \"Unique words ratio\",\\\n",
    "          \"Average letters per sentence\", \"Variance of letters per sentence\",\\\n",
    "          \"Average words per sentence\", \"Variance of words per sentence\",\\\n",
    "          \"Maximal uppercase ratio per sentence\", \"Length of the maximal uppercase ratio sentence\"]\n",
    "\n",
    "# merge the features with the original dataset\n",
    "df_preprocessed = df.merge(pd.DataFrame(features, columns=columns), left_index=True, right_index=True)"
   ]
  },
  {
   "cell_type": "markdown",
   "metadata": {},
   "source": [
    "### Text Preprocessing"
   ]
  },
  {
   "cell_type": "code",
   "execution_count": 7,
   "metadata": {},
   "outputs": [
    {
     "name": "stderr",
     "output_type": "stream",
     "text": [
      "100%|██████████| 197080/197080 [1:24:07<00:00, 39.05it/s]  \n",
      "Warning : `load_model` does not return WordVectorModel or SupervisedModel any more, but a `FastText` object which is very similar.\n",
      "100%|██████████| 197080/197080 [00:30<00:00, 6486.58it/s]\n"
     ]
    }
   ],
   "source": [
    "# use the preprocessing  module\n",
    "preprocessor = Preprocessing.Preprocessing()\n",
    "df_preprocessed[\"text_preprocessed\"] = preprocessor.ProcessMany(df_preprocessed[\"text\"])\n",
    "\n",
    "# predict the main language\n",
    "model = fasttext.load_model('../src/data/lid.176.ftz')\n",
    "df_preprocessed[\"main_language\"] = [model.predict(text)[0][0].split(\"__\")[-1] for text in tqdm(df_preprocessed[\"text_preprocessed\"])]"
   ]
  },
  {
   "cell_type": "code",
   "execution_count": 231,
   "metadata": {},
   "outputs": [],
   "source": [
    "# drop unnecassary features\n",
    "df_filtered = df_preprocessed[~(df_preprocessed[\"main_language\"] == \"en\")]\\\n",
    "                .drop([\"id\",\"text\",\"date\",\"main_language\"], axis= 1)"
   ]
  },
  {
   "cell_type": "markdown",
   "metadata": {},
   "source": [
    "### Clustering"
   ]
  },
  {
   "cell_type": "markdown",
   "metadata": {},
   "source": [
    "### Transformation"
   ]
  },
  {
   "cell_type": "code",
   "execution_count": 232,
   "metadata": {},
   "outputs": [],
   "source": [
    "from sklearn.compose import make_column_transformer\n",
    "from sklearn.preprocessing import OneHotEncoder\n",
    "from sklearn.feature_extraction.text import TfidfVectorizer\n",
    "from sklearn.model_selection import train_test_split\n",
    "from sklearn.preprocessing import StandardScaler\n",
    "\n",
    "class StackedTransformation:\n",
    "    \n",
    "    def  __init__(self, X=None, y=None, numerical_transformer=None, text_transformer=None, text_features=None):\n",
    "        self.X = X\n",
    "        self.y = y\n",
    "        self.numerical_transformer = numerical_transformer\n",
    "        self.text_transformer = text_transformer\n",
    "        self.text_features = text_features\n",
    "        \n",
    "    def data_split(self, X, y, test_size= 0.2):\n",
    "        self.X_train, self.X_test, self.y_train, self.y_test = train_test_split(X, y, test_size=test_size, random_state=42)\n",
    "        return self.X_train, self.X_test, self.y_train, self.y_test\n",
    "        \n",
    "    def build_transformer(self, X=None, y=None,\\\n",
    "                          numerical_transformer=None, text_transformer=None, text_features=None):\n",
    "        # check if variables are present\n",
    "        if X == None:\n",
    "            X = self.X\n",
    "        if y == None:\n",
    "            y = self.y\n",
    "        if numerical_transformer == None:\n",
    "            numerical_transformer = self.numerical_transformer\n",
    "        if text_transformer == None:\n",
    "            text_transformer = self.text_transformer\n",
    "        if text_features == None:\n",
    "            text_features = self.text_features\n",
    "\n",
    "        # split the data\n",
    "        \n",
    "        self.data_split(X, y)\n",
    "        \n",
    "        # Create datasets for each classifier\n",
    "        self.X_train_text = self.X_train[text_features]\n",
    "        self.X_test_text =  self.X_test[text_features]\n",
    "        \n",
    "        self.X_train_numerical = self.X_train.drop(text_features, axis=1)\n",
    "        self.X_test_numerical = self.X_test.drop(text_features, axis=1)\n",
    "\n",
    "        # create transformers \n",
    "        self.numerical_transformer = numerical_transformer\n",
    "        self.text_transformer = text_transformer\n",
    "        \n",
    "        #create transformed training batches\n",
    "        self.X_train_numerical_transformed = self.numerical_transformer.fit_transform(self.X_train_numerical)\n",
    "        self.X_test_numerical_transformed = self.numerical_transformer.transform(self.X_test_numerical)\n",
    "\n",
    "        self.X_train_text_transformed = self.text_transformer.fit_transform(self.X_train_text)\n",
    "        self.X_test_text_transformed = self.text_transformer.transform(self.X_test_text)\n",
    "\n",
    "    def transform_one(self, text):\n",
    "        entry = pd.DataFrame(columns=text.keys())\n",
    "        entry = entry.append(text, ignore_index=True)\n",
    "        \n",
    "        # create datasets for each transformer\n",
    "        entry_text = entry[text_features]\n",
    "        entry_numerical = entry.drop(text_features, axis=1)\n",
    "        \n",
    "        entry_numerical_transformed = self.numerical_transformer.transform(entry_numerical)\n",
    "        entry_text_transformed = self.text_transformer.transform(entry_text)\n",
    "        \n",
    "        return {\"transformed_text\": entry_text_transformed,\\\n",
    "               \"transformed_numerical\": entry_numerical_transformed}\n"
   ]
  },
  {
   "cell_type": "code",
   "execution_count": 233,
   "metadata": {},
   "outputs": [],
   "source": [
    "X,y = df_filtered.drop(\"gender\", axis=1),df_filtered[\"gender\"]"
   ]
  },
  {
   "cell_type": "code",
   "execution_count": 239,
   "metadata": {},
   "outputs": [],
   "source": [
    "text_transformer = TfidfVectorizer(ngram_range=(1,1))\n",
    "numerical_transformer = make_column_transformer((OneHotEncoder(handle_unknown=\"ignore\"), [\"age\", \"topic\", \"sign\"])\\\n",
    "                                                       , remainder=StandardScaler())\n",
    "\n",
    "text_features = \"text_preprocessed\"\n",
    "stacking = StackedTransformation(X, y, numerical_transformer, text_transformer, text_features)\n",
    "stacking.build_transformer()"
   ]
  },
  {
   "cell_type": "markdown",
   "metadata": {},
   "source": [
    "### Training "
   ]
  },
  {
   "cell_type": "code",
   "execution_count": 240,
   "metadata": {},
   "outputs": [],
   "source": [
    "class StackedModelling:\n",
    "    \n",
    "    def __init__(self,  numerical_model, numerical_model_params,\\\n",
    "                text_model, text_model_params, stacked_transformation_instnace):\n",
    "        \n",
    "        pass"
   ]
  },
  {
   "cell_type": "markdown",
   "metadata": {},
   "source": [
    "### Parameter Tuning "
   ]
  },
  {
   "cell_type": "markdown",
   "metadata": {},
   "source": [
    "### Model Evaluation "
   ]
  },
  {
   "cell_type": "code",
   "execution_count": 241,
   "metadata": {},
   "outputs": [
    {
     "name": "stdout",
     "output_type": "stream",
     "text": [
      "[[337  77]\n",
      " [112 343]]\n"
     ]
    }
   ],
   "source": [
    "# test numerical model\n",
    "X_train_numerical_transformed = stacking.numerical_transformer.fit_transform(stacking.X_train_numerical)\n",
    "clf = XGBClassifier()\n",
    "clf.fit(X_train_numerical_transformed, stacking.y_train)\n",
    "y_pred = clf.predict(stacking.numerical_transformer.transform(stacking.X_test_numerical))\n",
    "\n",
    "# print mae\n",
    "print(confusion_matrix(stacking.y_test , y_pred))\n"
   ]
  },
  {
   "cell_type": "code",
   "execution_count": 242,
   "metadata": {},
   "outputs": [
    {
     "name": "stdout",
     "output_type": "stream",
     "text": [
      "[[234 180]\n",
      " [135 320]]\n"
     ]
    }
   ],
   "source": [
    "# test text model\n",
    "X_train_text_transformed = stacking.text_transformer.fit_transform(stacking.X_train_text.values)\n",
    "clf = XGBClassifier()\n",
    "clf.fit(X_train_text_transformed, stacking.y_train)\n",
    "y_pred = clf.predict(stacking.text_transformer.transform(stacking.X_test_text))\n",
    "\n",
    "# print \n",
    "print(confusion_matrix(stacking.y_test , y_pred))\n"
   ]
  }
 ],
 "metadata": {
  "kernelspec": {
   "display_name": "Python 3",
   "language": "python",
   "name": "python3"
  },
  "language_info": {
   "codemirror_mode": {
    "name": "ipython",
    "version": 3
   },
   "file_extension": ".py",
   "mimetype": "text/x-python",
   "name": "python",
   "nbconvert_exporter": "python",
   "pygments_lexer": "ipython3",
   "version": "3.8.3"
  }
 },
 "nbformat": 4,
 "nbformat_minor": 4
}
