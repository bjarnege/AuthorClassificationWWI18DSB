{
 "cells": [
  {
   "cell_type": "code",
   "execution_count": 1,
   "metadata": {},
   "outputs": [
    {
     "name": "stderr",
     "output_type": "stream",
     "text": [
      "/home/bigdata/anaconda3/lib/python3.8/site-packages/spacy/util.py:275: UserWarning: [W031] Model 'en_core_web_sm' (2.2.5) requires spaCy v2.2 and is incompatible with the current spaCy version (2.3.5). This may lead to unexpected results or runtime errors. To resolve this, download a newer compatible model or retrain your custom model with the current spaCy version. For more details and available updates, run: python -m spacy validate\n",
      "  warnings.warn(warn_msg)\n"
     ]
    }
   ],
   "source": [
    "# universally modules\n",
    "import sys\n",
    "sys.path.append(\"../src\")\n",
    "import numpy as np\n",
    "import pandas as pd\n",
    "\n",
    "# preprocessing and transformation modules\n",
    "import fasttext\n",
    "import Preprocessing\n",
    "from Features import buildFeatures\n",
    "from Modelling import StackingModelling\n",
    "from ModelSelection import ModelSelection, process_case\n",
    "from Transformation import StackedTransformation, transformation\n",
    "\n",
    "# model algorithm\n",
    "from sklearn.svm import LinearSVC, LinearSVR\n",
    "from xgboost import XGBRegressor, XGBClassifier\n",
    "from sklearn.linear_model import SGDClassifier, SGDRegressor\n"
   ]
  },
  {
   "cell_type": "code",
   "execution_count": 2,
   "metadata": {},
   "outputs": [],
   "source": [
    "# read datasets:\n",
    "df_full_preprocessed = pd.read_pickle(\"./df_full_preprocessed.pkl\")\n",
    "df_full_preprocessed = df_full_preprocessed.sample(1_000)\n",
    "df_eval_results_age =  pd.read_pickle(\"./Model Selection/pd_df_cv_age_2020-12-27 09:47:05.199850.pkl\")\n",
    "df_eval_results_sign =  pd.read_pickle(\"./Model Selection/pd_df_cv_sign_2020-12-27 07:12:32.465884.pkl\")\n",
    "df_eval_results_topic =  pd.read_pickle(\"./Model Selection/pd_df_cv_topic_2021-01-04 19:33:32.751170.pkl\")\n",
    "df_eval_results_gender =  pd.read_pickle(\"./Model Selection/pd_df_cv_gender_2020-12-25 00:31:53.679084.pkl\")"
   ]
  },
  {
   "cell_type": "markdown",
   "metadata": {},
   "source": [
    "## Pipeline erstellen"
   ]
  },
  {
   "cell_type": "code",
   "execution_count": 3,
   "metadata": {},
   "outputs": [],
   "source": [
    "# Bestimmen der besten Lernalgorithmen und Optimierungsparameter für die jeweilige Zielvariable\n",
    "# und bauen der daraus resultierenden Pipeline\n",
    "\n",
    "class BuildPipeline:\n",
    "    \n",
    "    def __init__(self, df_eval_results_variable, df_preprocessed, algo_type):\n",
    "        self.df_eval_results_variable = df_eval_results_variable\n",
    "        self.target_variable = df_eval_results_age[\"target_variable\"].values[0]\n",
    "        self.categorial_variables = df_eval_results_age[\"categorial_variables\"].values[0]\n",
    "        self.X = df_preprocessed.drop(self.target_variable, axis=1)\n",
    "        self.y = df_preprocessed[self.target_variable]\n",
    "\n",
    "        self.algo_type = algo_type\n",
    "        \n",
    "    def best_model_and_params(self):\n",
    "        # get best textual_model\n",
    "        self.best_text_model = self.df_eval_results_variable[self.df_eval_results_variable[\"CV_text_best_score\"] ==\\\n",
    "                                              self.df_eval_results_variable[\"CV_text_best_score\"].max()]\n",
    "\n",
    "        self.best_text_algo = self.best_text_model[\"ml_algorithms_params\"].values[0][0]\n",
    "        self.best_text_params = self.best_text_model[\"CV_text_best_params\"].values[0]\n",
    "\n",
    "        # get best numerical model\n",
    "        self.best_numerical_model = self.df_eval_results_variable[self.df_eval_results_variable[\"CV_numerical_best_score\"]\\\n",
    "                                                  == self.df_eval_results_variable[\"CV_numerical_best_score\"].max()]\n",
    "\n",
    "        self.best_numerical_algo = self.best_numerical_model[\"ml_algorithms_params\"].values[0][0]\n",
    "        self.best_numerical_params = self.best_numerical_model[\"CV_text_best_params\"].values[0]\n",
    "    \n",
    "    def build_transformation(self):\n",
    "        min_df_exponent = self.best_text_model[\"min_df_exponents\"].values[0]\n",
    "        ngram_range = self.best_text_model[\"n_gram_range\"].values[0]\n",
    "        text_features = self.best_text_model[\"text_features\"].values[0]\n",
    "        use_idf = self.best_text_model[\"use_tfidf\"].values[0]\n",
    "        self.transformation = transformation(self.X, self.y, self.target_variable, self.categorial_variables,\\\n",
    "                                             min_df_exponent, ngram_range, text_features, use_idf)\n",
    "    \n",
    "    def build_model(self):\n",
    "        self.modelling = StackingModelling(self.best_numerical_algo, self.best_numerical_params,\\\n",
    "                                     self.best_text_algo, self.best_text_params, self.transformation)\n",
    "        \n",
    "        self.modelling.fit()\n",
    "        print(self.modelling.create_report(self.transformation.X_test, self.transformation.y_test, self.algo_type))\n",
    "    \n",
    "    \n",
    "    def fit(self):\n",
    "        self.best_model_and_params()\n",
    "        self.build_transformation()\n",
    "        self.build_model()\n",
    "        \n",
    "    def predict(self, X):\n",
    "        return self.modelling.weighted_prediction(X, algo_type=self.algo_type)\n",
    "# Erstellen der Transformation für text und numerischen Datensatz"
   ]
  },
  {
   "cell_type": "code",
   "execution_count": 13,
   "metadata": {},
   "outputs": [
    {
     "name": "stdout",
     "output_type": "stream",
     "text": [
      "Numerical model finished!\n",
      "Text model finished!\n",
      "Weights have been optimized:\n",
      "                Textual model weight: 0.5637359655357802\n",
      "                Numerical model weight: 0.43626403446421974\n",
      "Absolute loss textual model              1202.463787\n",
      "Absolute loss numerical model            1553.811524\n",
      "Absolute loss equally weighted model     1218.612798\n",
      "Absolute loss optimized weights model    1200.910874\n",
      "dtype: float64\n",
      "Numerical model finished!\n",
      "Text model finished!\n",
      "Weights have been optimized:\n",
      "                Textual model weight: 0.4858801731307771\n",
      "                Numerical model weight: 0.5141198268692229\n",
      "Absolute loss textual model              182.683116\n",
      "Absolute loss numerical model            172.648670\n",
      "Absolute loss equally weighted model     177.665893\n",
      "Absolute loss optimized weights model    177.524204\n",
      "dtype: float64\n",
      "Numerical model finished!\n",
      "Text model finished!\n",
      "Weights have been optimized:\n",
      "                Textual model weight: 0.48500633194736814\n",
      "                Numerical model weight: 0.5149936680526319\n",
      "Absolute loss textual model              184.207359\n",
      "Absolute loss numerical model            173.481231\n",
      "Absolute loss equally weighted model     178.844295\n",
      "Absolute loss optimized weights model    178.683471\n",
      "dtype: float64\n",
      "Numerical model finished!\n",
      "Text model finished!\n",
      "Weights have been optimized:\n",
      "                Textual model weight: 0.47551556073882834\n",
      "                Numerical model weight: 0.5244844392611717\n",
      "Absolute loss textual model              191.346432\n",
      "Absolute loss numerical model            173.481231\n",
      "Absolute loss equally weighted model     182.413832\n",
      "Absolute loss optimized weights model    181.976415\n",
      "dtype: float64\n"
     ]
    }
   ],
   "source": [
    "age_model = BuildPipeline(df_eval_results_age, df_full_preprocessed, \"regression\")\n",
    "age_model.fit()\n",
    "\n",
    "gender_model = BuildPipeline(df_eval_results_gender, df_full_preprocessed, \"classification\")\n",
    "gender_model.fit()\n",
    "\n",
    "sign_model = BuildPipeline(df_eval_results_sign, df_full_preprocessed, \"classification\")\n",
    "sign_model.fit()\n",
    "\n",
    "topic_model = BuildPipeline(df_eval_results_topic, df_full_preprocessed, \"classification\")\n",
    "topic_model.fit()"
   ]
  },
  {
   "cell_type": "code",
   "execution_count": 16,
   "metadata": {},
   "outputs": [],
   "source": [
    "# save models to series\n",
    "model_pipelines = pd.Series([age_model, gender_model, sign_model, topic_model])"
   ]
  },
  {
   "cell_type": "code",
   "execution_count": 18,
   "metadata": {},
   "outputs": [],
   "source": [
    "model_pipelines.to_pickle(\"./Pipelines/ModelPipelines.pkl\")"
   ]
  }
 ],
 "metadata": {
  "kernelspec": {
   "display_name": "Python 3",
   "language": "python",
   "name": "python3"
  },
  "language_info": {
   "codemirror_mode": {
    "name": "ipython",
    "version": 3
   },
   "file_extension": ".py",
   "mimetype": "text/x-python",
   "name": "python",
   "nbconvert_exporter": "python",
   "pygments_lexer": "ipython3",
   "version": "3.8.3"
  }
 },
 "nbformat": 4,
 "nbformat_minor": 4
}
