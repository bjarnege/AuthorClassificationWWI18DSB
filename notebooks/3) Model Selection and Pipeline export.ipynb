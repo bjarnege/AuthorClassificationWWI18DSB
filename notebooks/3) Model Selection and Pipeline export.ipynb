{
 "cells": [
  {
   "cell_type": "code",
   "execution_count": 1,
   "metadata": {},
   "outputs": [
    {
     "name": "stderr",
     "output_type": "stream",
     "text": [
      "/home/bigdata/anaconda3/lib/python3.8/site-packages/spacy/util.py:275: UserWarning: [W031] Model 'en_core_web_sm' (2.2.5) requires spaCy v2.2 and is incompatible with the current spaCy version (2.3.5). This may lead to unexpected results or runtime errors. To resolve this, download a newer compatible model or retrain your custom model with the current spaCy version. For more details and available updates, run: python -m spacy validate\n",
      "  warnings.warn(warn_msg)\n"
     ]
    }
   ],
   "source": [
    "# universally modules\n",
    "import sys\n",
    "sys.path.append(\"../src\")\n",
    "import numpy as np\n",
    "import pandas as pd\n",
    "\n",
    "# preprocessing and transformation modules\n",
    "import fasttext\n",
    "import Preprocessing\n",
    "from Features import buildFeatures\n",
    "from Pipeline import BuildPipeline\n",
    "from Modelling import StackingModelling\n",
    "from ModelSelection import ModelSelection, process_case\n",
    "from Transformation import StackedTransformation, transformation\n",
    "\n",
    "# model algorithm\n",
    "from sklearn.svm import LinearSVC, LinearSVR\n",
    "from xgboost import XGBRegressor, XGBClassifier\n",
    "from sklearn.linear_model import SGDClassifier, SGDRegressor\n"
   ]
  },
  {
   "cell_type": "code",
   "execution_count": 2,
   "metadata": {},
   "outputs": [],
   "source": [
    "# read datasets:\n",
    "df_full_preprocessed = pd.read_pickle(\"./df_full_preprocessed.pkl\")\n",
    "df_eval_results_age =  pd.read_pickle(\"./Model Selection/pd_df_cv_age_2020-12-27 09:47:05.199850.pkl\")\n",
    "df_eval_results_sign =  pd.read_pickle(\"./Model Selection/pd_df_cv_sign_2020-12-27 07:12:32.465884.pkl\")\n",
    "df_eval_results_topic =  pd.read_pickle(\"./Model Selection/pd_df_cv_topic_2021-01-04 19:33:32.751170.pkl\")\n",
    "df_eval_results_gender =  pd.read_pickle(\"./Model Selection/pd_df_cv_gender_2020-12-25 00:31:53.679084.pkl\")"
   ]
  },
  {
   "cell_type": "markdown",
   "metadata": {},
   "source": [
    "## Pipeline erstellen"
   ]
  },
  {
   "cell_type": "code",
   "execution_count": null,
   "metadata": {},
   "outputs": [],
   "source": [
    "age_model = BuildPipeline(df_eval_results_age, df_full_preprocessed, \"regression\")\n",
    "age_model.fit()\n",
    "\n",
    "gender_model = BuildPipeline(df_eval_results_gender, df_full_preprocessed, \"classification\")\n",
    "gender_model.fit()\n",
    "\n",
    "sign_model = BuildPipeline(df_eval_results_sign, df_full_preprocessed, \"classification\")\n",
    "sign_model.fit()\n",
    "\n",
    "topic_model = BuildPipeline(df_eval_results_topic, df_full_preprocessed, \"classification\")\n",
    "topic_model.fit()"
   ]
  },
  {
   "cell_type": "code",
   "execution_count": null,
   "metadata": {},
   "outputs": [],
   "source": [
    "# save models to series\n",
    "model_pipelines = pd.Series([age_model, gender_model, sign_model, topic_model])"
   ]
  },
  {
   "cell_type": "code",
   "execution_count": null,
   "metadata": {},
   "outputs": [],
   "source": [
    "model_pipelines.to_pickle(\"./Pipelines/ModelPipelines.pkl\")"
   ]
  }
 ],
 "metadata": {
  "kernelspec": {
   "display_name": "Python 3",
   "language": "python",
   "name": "python3"
  },
  "language_info": {
   "codemirror_mode": {
    "name": "ipython",
    "version": 3
   },
   "file_extension": ".py",
   "mimetype": "text/x-python",
   "name": "python",
   "nbconvert_exporter": "python",
   "pygments_lexer": "ipython3",
   "version": "3.8.3"
  }
 },
 "nbformat": 4,
 "nbformat_minor": 4
}
