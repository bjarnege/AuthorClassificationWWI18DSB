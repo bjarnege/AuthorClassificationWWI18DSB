{
 "cells": [
  {
   "cell_type": "code",
   "execution_count": 1,
   "metadata": {},
   "outputs": [
    {
     "name": "stderr",
     "output_type": "stream",
     "text": [
      "/home/bigdata/anaconda3/lib/python3.8/site-packages/spacy/util.py:275: UserWarning: [W031] Model 'en_core_web_sm' (2.2.5) requires spaCy v2.2 and is incompatible with the current spaCy version (2.3.5). This may lead to unexpected results or runtime errors. To resolve this, download a newer compatible model or retrain your custom model with the current spaCy version. For more details and available updates, run: python -m spacy validate\n",
      "  warnings.warn(warn_msg)\n"
     ]
    }
   ],
   "source": [
    "import pandas as pd\n",
    "import sys\n",
    "sys.path.append(\"../src\")\n",
    "from RequestMapper import RequestMapper"
   ]
  },
  {
   "cell_type": "code",
   "execution_count": 3,
   "metadata": {},
   "outputs": [],
   "source": [
    "# initialisieren des Pipeline Mappers\n",
    "df_full_preprocessed = pd.read_pickle(\"../resource/df_full_preprocessed.pkl\")\n",
    "pipelines_predictions = pd.read_pickle(\"../resource/Pipelines/ModelPipelines.pkl\")\n",
    "pipelines_cluster = pd.read_pickle(\"../resource/Pipelines/ClusteringPipeline.pkl\")\n",
    "pipelines_knn = pd.read_pickle(\"../resource/Pipelines/KNearestNeighborsPipeline.pkl\")\n",
    "\n",
    "rm = RequestMapper(df_full_preprocessed, pipelines_predictions, pipelines_cluster, pipelines_knn)\n"
   ]
  },
  {
   "cell_type": "markdown",
   "metadata": {},
   "source": [
    "## Test Age"
   ]
  },
  {
   "cell_type": "code",
   "execution_count": 4,
   "metadata": {},
   "outputs": [],
   "source": [
    "# Variable, die an die API übergeben werden\n",
    "\n",
    "target_variable = \"age\"\n",
    "age = None\n",
    "sign = \"Leo\"\n",
    "topic = \"InvestmentBanking\"\n",
    "gender = \"male\"\n",
    "\n",
    "text = \"Jimmy, thank you!! I really like your videos. They're helping me a lot since I can't go to the library. But I loved live study with me too and I guess you've deleted them bcz I can't find them anymore. Are you gonna do more live streams? That would be really cool. It feels more real ;) Greetings from Europe!\""
   ]
  },
  {
   "cell_type": "code",
   "execution_count": 5,
   "metadata": {},
   "outputs": [
    {
     "name": "stdout",
     "output_type": "stream",
     "text": [
      "24.65074970007018\n",
      "22.093313\n",
      "22.689565677795564\n"
     ]
    }
   ],
   "source": [
    "# verwendet nur text\n",
    "print(rm.predict_text(text, target_variable))\n",
    "\n",
    "# verwendet text und numerischen Daten\n",
    "# wichtig ist hier das entsprechend der Zielvariable die variable age nicht übermittelt wird\n",
    "print(rm.predict_numerical(target_variable, text, sign=sign, topic=topic, gender=gender))\n",
    "\n",
    "# Nutz beide Modelle mittels einer optimierten Gewichtung und mischt die Vorhersagen.\n",
    "# wichtig ist hier das entsprechend der Zielvariable die variable age nicht übermittelt wird\n",
    "print(rm.predict_weighted(target_variable, text, sign=sign, topic=topic, gender=gender))"
   ]
  },
  {
   "cell_type": "markdown",
   "metadata": {},
   "source": [
    "### Test Topic"
   ]
  },
  {
   "cell_type": "code",
   "execution_count": 6,
   "metadata": {},
   "outputs": [],
   "source": [
    "# Variable, die an die API übergeben werden\n",
    "\n",
    "target_variable = \"topic\"\n",
    "age = 38\n",
    "sign = \"Leo\"\n",
    "topic = None#\"InvestmentBanking\"\n",
    "gender = \"male\"\n",
    "\n",
    "text = \"Jimmy, thank you!! I really like your videos. They're helping me a lot since I can't go to the library. But I loved live study with me too and I guess you've deleted them bcz I can't find them anymore. Are you gonna do more live streams? That would be really cool. It feels more real ;) Greetings from Europe!\""
   ]
  },
  {
   "cell_type": "code",
   "execution_count": 7,
   "metadata": {},
   "outputs": [
    {
     "name": "stdout",
     "output_type": "stream",
     "text": [
      "indUnk\n",
      "indUnk\n",
      "indUnk\n"
     ]
    }
   ],
   "source": [
    "# verwendet nur text\n",
    "print(rm.predict_text(text, target_variable))\n",
    "\n",
    "# verwendet text und numerischen Daten\n",
    "# wichtig ist hier das entsprechend der Zielvariable die variable age nicht übermittelt wird\n",
    "print(rm.predict_numerical(target_variable, text, age=age, sign=sign, topic=topic, gender=gender))\n",
    "\n",
    "# Nutz beide Modelle mittels einer optimierten Gewichtung und mischt die Vorhersagen.\n",
    "# wichtig ist hier das entsprechend der Zielvariable die variable age nicht übermittelt wird\n",
    "print(rm.predict_weighted(target_variable, text, age=age, sign=sign, topic=topic, gender=gender))"
   ]
  },
  {
   "cell_type": "markdown",
   "metadata": {},
   "source": [
    "### Test Clustering "
   ]
  },
  {
   "cell_type": "code",
   "execution_count": 8,
   "metadata": {},
   "outputs": [
    {
     "name": "stdout",
     "output_type": "stream",
     "text": [
      "3\n",
      "2\n"
     ]
    }
   ],
   "source": [
    "# Print cluster for text\n",
    "print(rm.transform_cluster(mode=\"text\", text=text))\n",
    "\n",
    "# Print cluster for numerical \n",
    "print(rm.transform_cluster(mode=\"numerical\", text=text, age=13, sign=\"Scorpio\", gender=\"male\", topic=\"InvestmentBanking\"))"
   ]
  },
  {
   "cell_type": "markdown",
   "metadata": {},
   "source": [
    "## Test Nearest Neighbors"
   ]
  },
  {
   "cell_type": "code",
   "execution_count": 9,
   "metadata": {},
   "outputs": [
    {
     "name": "stdout",
     "output_type": "stream",
     "text": [
      "362982    ero grsdagrmjipeabgfxcnj4peasantsmeroasgjs vir...\n",
      "338072                                                     \n",
      "35964                                                    c \n",
      "249969                                                     \n",
      "427118                  1 syzygy 2 callipygian 3 onanistic \n",
      "191659                                                     \n",
      "221838                                                     \n",
      "427121      1 allophone 2 fourchette 3 cordiform 4 canthus \n",
      "158802                                                     \n",
      "469161                                                     \n",
      "Name: text_preprocessed, dtype: object\n",
      "\n",
      "\n",
      "\n",
      "29984     country suck ass . -pron- be same . just peopl...\n",
      "614759    phil party deal tonight watch ' the ladies man...\n",
      "18917     blog i m montreal -pron- feel idiot -pron- don...\n",
      "559482    today boring n't prepare exam tomorrow ict bor...\n",
      "319468    today i ' m make seth cohen / adam brody honor...\n",
      "417956    a face eh black -pron- idea -pron- explain -pr...\n",
      "559403    wow a day a nice change usual droning monday i...\n",
      "18897     come live mr alba 's period driver 's ed class...\n",
      "588420    start thing -pron- wan na -pron- n't gon na re...\n",
      "588741    good evening lady gentleman -pron- hyalpoterou...\n",
      "Name: text_preprocessed, dtype: object\n"
     ]
    }
   ],
   "source": [
    "# Print cluster for text\n",
    "print(rm.transform_knn(mode=\"text\", text=text))\n",
    "print(\"\\n\\n\")\n",
    "# Print cluster for numerical \n",
    "print(rm.transform_knn(mode=\"numerical\", text=text, age=13, sign=\"Scorpio\", gender=\"male\", topic=\"InvestmentBanking\"))"
   ]
  }
 ],
 "metadata": {
  "kernelspec": {
   "display_name": "Python 3",
   "language": "python",
   "name": "python3"
  },
  "language_info": {
   "codemirror_mode": {
    "name": "ipython",
    "version": 3
   },
   "file_extension": ".py",
   "mimetype": "text/x-python",
   "name": "python",
   "nbconvert_exporter": "python",
   "pygments_lexer": "ipython3",
   "version": "3.8.3"
  }
 },
 "nbformat": 4,
 "nbformat_minor": 4
}
