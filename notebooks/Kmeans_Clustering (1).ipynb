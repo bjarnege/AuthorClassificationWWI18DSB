{
 "cells": [
  {
   "cell_type": "code",
   "execution_count": 1,
   "metadata": {},
   "outputs": [
    {
     "ename": "KeyboardInterrupt",
     "evalue": "",
     "output_type": "error",
     "traceback": [
      "\u001b[0;31m---------------------------------------------------------------------------\u001b[0m",
      "\u001b[0;31mKeyboardInterrupt\u001b[0m                         Traceback (most recent call last)",
      "\u001b[0;32m<ipython-input-1-dd039a844520>\u001b[0m in \u001b[0;36m<module>\u001b[0;34m\u001b[0m\n\u001b[1;32m      1\u001b[0m \u001b[0;32mimport\u001b[0m \u001b[0mpandas\u001b[0m \u001b[0;32mas\u001b[0m \u001b[0mpd\u001b[0m\u001b[0;34m\u001b[0m\u001b[0;34m\u001b[0m\u001b[0m\n\u001b[1;32m      2\u001b[0m \u001b[0;32mimport\u001b[0m \u001b[0mmatplotlib\u001b[0m\u001b[0;34m.\u001b[0m\u001b[0mpyplot\u001b[0m \u001b[0;32mas\u001b[0m \u001b[0mplt\u001b[0m\u001b[0;34m\u001b[0m\u001b[0;34m\u001b[0m\u001b[0m\n\u001b[0;32m----> 3\u001b[0;31m \u001b[0;32mfrom\u001b[0m \u001b[0msklearn\u001b[0m\u001b[0;34m.\u001b[0m\u001b[0mcluster\u001b[0m \u001b[0;32mimport\u001b[0m \u001b[0mKMeans\u001b[0m\u001b[0;34m,\u001b[0m \u001b[0mMiniBatchKMeans\u001b[0m\u001b[0;34m\u001b[0m\u001b[0;34m\u001b[0m\u001b[0m\n\u001b[0m\u001b[1;32m      4\u001b[0m \u001b[0;32mfrom\u001b[0m \u001b[0mtqdm\u001b[0m \u001b[0;32mimport\u001b[0m \u001b[0mtqdm\u001b[0m\u001b[0;34m\u001b[0m\u001b[0;34m\u001b[0m\u001b[0m\n\u001b[1;32m      5\u001b[0m \u001b[0;32mimport\u001b[0m \u001b[0mpickle\u001b[0m\u001b[0;34m\u001b[0m\u001b[0;34m\u001b[0m\u001b[0m\n",
      "\u001b[0;32m~/anaconda3/lib/python3.8/site-packages/sklearn/__init__.py\u001b[0m in \u001b[0;36m<module>\u001b[0;34m\u001b[0m\n\u001b[1;32m     78\u001b[0m     \u001b[0;32mfrom\u001b[0m \u001b[0;34m.\u001b[0m \u001b[0;32mimport\u001b[0m \u001b[0m_distributor_init\u001b[0m  \u001b[0;31m# noqa: F401\u001b[0m\u001b[0;34m\u001b[0m\u001b[0;34m\u001b[0m\u001b[0m\n\u001b[1;32m     79\u001b[0m     \u001b[0;32mfrom\u001b[0m \u001b[0;34m.\u001b[0m \u001b[0;32mimport\u001b[0m \u001b[0m__check_build\u001b[0m  \u001b[0;31m# noqa: F401\u001b[0m\u001b[0;34m\u001b[0m\u001b[0;34m\u001b[0m\u001b[0m\n\u001b[0;32m---> 80\u001b[0;31m     \u001b[0;32mfrom\u001b[0m \u001b[0;34m.\u001b[0m\u001b[0mbase\u001b[0m \u001b[0;32mimport\u001b[0m \u001b[0mclone\u001b[0m\u001b[0;34m\u001b[0m\u001b[0;34m\u001b[0m\u001b[0m\n\u001b[0m\u001b[1;32m     81\u001b[0m     \u001b[0;32mfrom\u001b[0m \u001b[0;34m.\u001b[0m\u001b[0mutils\u001b[0m\u001b[0;34m.\u001b[0m\u001b[0m_show_versions\u001b[0m \u001b[0;32mimport\u001b[0m \u001b[0mshow_versions\u001b[0m\u001b[0;34m\u001b[0m\u001b[0;34m\u001b[0m\u001b[0m\n\u001b[1;32m     82\u001b[0m \u001b[0;34m\u001b[0m\u001b[0m\n",
      "\u001b[0;32m~/anaconda3/lib/python3.8/site-packages/sklearn/base.py\u001b[0m in \u001b[0;36m<module>\u001b[0;34m\u001b[0m\n\u001b[1;32m     19\u001b[0m \u001b[0;32mfrom\u001b[0m \u001b[0;34m.\u001b[0m \u001b[0;32mimport\u001b[0m \u001b[0m__version__\u001b[0m\u001b[0;34m\u001b[0m\u001b[0;34m\u001b[0m\u001b[0m\n\u001b[1;32m     20\u001b[0m \u001b[0;32mfrom\u001b[0m \u001b[0;34m.\u001b[0m\u001b[0m_config\u001b[0m \u001b[0;32mimport\u001b[0m \u001b[0mget_config\u001b[0m\u001b[0;34m\u001b[0m\u001b[0;34m\u001b[0m\u001b[0m\n\u001b[0;32m---> 21\u001b[0;31m \u001b[0;32mfrom\u001b[0m \u001b[0;34m.\u001b[0m\u001b[0mutils\u001b[0m \u001b[0;32mimport\u001b[0m \u001b[0m_IS_32BIT\u001b[0m\u001b[0;34m\u001b[0m\u001b[0;34m\u001b[0m\u001b[0m\n\u001b[0m\u001b[1;32m     22\u001b[0m \u001b[0;32mfrom\u001b[0m \u001b[0;34m.\u001b[0m\u001b[0mutils\u001b[0m\u001b[0;34m.\u001b[0m\u001b[0mvalidation\u001b[0m \u001b[0;32mimport\u001b[0m \u001b[0mcheck_X_y\u001b[0m\u001b[0;34m\u001b[0m\u001b[0;34m\u001b[0m\u001b[0m\n\u001b[1;32m     23\u001b[0m \u001b[0;32mfrom\u001b[0m \u001b[0;34m.\u001b[0m\u001b[0mutils\u001b[0m\u001b[0;34m.\u001b[0m\u001b[0mvalidation\u001b[0m \u001b[0;32mimport\u001b[0m \u001b[0mcheck_array\u001b[0m\u001b[0;34m\u001b[0m\u001b[0;34m\u001b[0m\u001b[0m\n",
      "\u001b[0;32m~/anaconda3/lib/python3.8/site-packages/sklearn/utils/__init__.py\u001b[0m in \u001b[0;36m<module>\u001b[0;34m\u001b[0m\n\u001b[1;32m     21\u001b[0m \u001b[0;34m\u001b[0m\u001b[0m\n\u001b[1;32m     22\u001b[0m \u001b[0;32mfrom\u001b[0m \u001b[0;34m.\u001b[0m\u001b[0mmurmurhash\u001b[0m \u001b[0;32mimport\u001b[0m \u001b[0mmurmurhash3_32\u001b[0m\u001b[0;34m\u001b[0m\u001b[0;34m\u001b[0m\u001b[0m\n\u001b[0;32m---> 23\u001b[0;31m \u001b[0;32mfrom\u001b[0m \u001b[0;34m.\u001b[0m\u001b[0mclass_weight\u001b[0m \u001b[0;32mimport\u001b[0m \u001b[0mcompute_class_weight\u001b[0m\u001b[0;34m,\u001b[0m \u001b[0mcompute_sample_weight\u001b[0m\u001b[0;34m\u001b[0m\u001b[0;34m\u001b[0m\u001b[0m\n\u001b[0m\u001b[1;32m     24\u001b[0m \u001b[0;32mfrom\u001b[0m \u001b[0;34m.\u001b[0m \u001b[0;32mimport\u001b[0m \u001b[0m_joblib\u001b[0m\u001b[0;34m\u001b[0m\u001b[0;34m\u001b[0m\u001b[0m\n\u001b[1;32m     25\u001b[0m \u001b[0;32mfrom\u001b[0m \u001b[0;34m.\u001b[0m\u001b[0;34m.\u001b[0m\u001b[0mexceptions\u001b[0m \u001b[0;32mimport\u001b[0m \u001b[0mDataConversionWarning\u001b[0m\u001b[0;34m\u001b[0m\u001b[0;34m\u001b[0m\u001b[0m\n",
      "\u001b[0;32m~/anaconda3/lib/python3.8/site-packages/sklearn/utils/class_weight.py\u001b[0m in \u001b[0;36m<module>\u001b[0;34m\u001b[0m\n\u001b[1;32m      5\u001b[0m \u001b[0;32mimport\u001b[0m \u001b[0mnumpy\u001b[0m \u001b[0;32mas\u001b[0m \u001b[0mnp\u001b[0m\u001b[0;34m\u001b[0m\u001b[0;34m\u001b[0m\u001b[0m\n\u001b[1;32m      6\u001b[0m \u001b[0;34m\u001b[0m\u001b[0m\n\u001b[0;32m----> 7\u001b[0;31m \u001b[0;32mfrom\u001b[0m \u001b[0;34m.\u001b[0m\u001b[0mvalidation\u001b[0m \u001b[0;32mimport\u001b[0m \u001b[0m_deprecate_positional_args\u001b[0m\u001b[0;34m\u001b[0m\u001b[0;34m\u001b[0m\u001b[0m\n\u001b[0m\u001b[1;32m      8\u001b[0m \u001b[0;34m\u001b[0m\u001b[0m\n\u001b[1;32m      9\u001b[0m \u001b[0;34m\u001b[0m\u001b[0m\n",
      "\u001b[0;32m~/anaconda3/lib/python3.8/site-packages/sklearn/utils/validation.py\u001b[0m in \u001b[0;36m<module>\u001b[0;34m\u001b[0m\n\u001b[1;32m     24\u001b[0m \u001b[0;32mfrom\u001b[0m \u001b[0mcontextlib\u001b[0m \u001b[0;32mimport\u001b[0m \u001b[0msuppress\u001b[0m\u001b[0;34m\u001b[0m\u001b[0;34m\u001b[0m\u001b[0m\n\u001b[1;32m     25\u001b[0m \u001b[0;34m\u001b[0m\u001b[0m\n\u001b[0;32m---> 26\u001b[0;31m \u001b[0;32mfrom\u001b[0m \u001b[0;34m.\u001b[0m\u001b[0mfixes\u001b[0m \u001b[0;32mimport\u001b[0m \u001b[0m_object_dtype_isnan\u001b[0m\u001b[0;34m\u001b[0m\u001b[0;34m\u001b[0m\u001b[0m\n\u001b[0m\u001b[1;32m     27\u001b[0m \u001b[0;32mfrom\u001b[0m \u001b[0;34m.\u001b[0m\u001b[0;34m.\u001b[0m \u001b[0;32mimport\u001b[0m \u001b[0mget_config\u001b[0m \u001b[0;32mas\u001b[0m \u001b[0m_get_config\u001b[0m\u001b[0;34m\u001b[0m\u001b[0;34m\u001b[0m\u001b[0m\n\u001b[1;32m     28\u001b[0m \u001b[0;32mfrom\u001b[0m \u001b[0;34m.\u001b[0m\u001b[0;34m.\u001b[0m\u001b[0mexceptions\u001b[0m \u001b[0;32mimport\u001b[0m \u001b[0mNonBLASDotWarning\u001b[0m\u001b[0;34m,\u001b[0m \u001b[0mPositiveSpectrumWarning\u001b[0m\u001b[0;34m\u001b[0m\u001b[0;34m\u001b[0m\u001b[0m\n",
      "\u001b[0;32m~/anaconda3/lib/python3.8/site-packages/sklearn/utils/fixes.py\u001b[0m in \u001b[0;36m<module>\u001b[0;34m\u001b[0m\n\u001b[1;32m     16\u001b[0m \u001b[0;32mimport\u001b[0m \u001b[0mscipy\u001b[0m\u001b[0;34m.\u001b[0m\u001b[0msparse\u001b[0m \u001b[0;32mas\u001b[0m \u001b[0msp\u001b[0m\u001b[0;34m\u001b[0m\u001b[0;34m\u001b[0m\u001b[0m\n\u001b[1;32m     17\u001b[0m \u001b[0;32mimport\u001b[0m \u001b[0mscipy\u001b[0m\u001b[0;34m\u001b[0m\u001b[0;34m\u001b[0m\u001b[0m\n\u001b[0;32m---> 18\u001b[0;31m \u001b[0;32mimport\u001b[0m \u001b[0mscipy\u001b[0m\u001b[0;34m.\u001b[0m\u001b[0mstats\u001b[0m\u001b[0;34m\u001b[0m\u001b[0;34m\u001b[0m\u001b[0m\n\u001b[0m\u001b[1;32m     19\u001b[0m \u001b[0;32mfrom\u001b[0m \u001b[0mscipy\u001b[0m\u001b[0;34m.\u001b[0m\u001b[0msparse\u001b[0m\u001b[0;34m.\u001b[0m\u001b[0mlinalg\u001b[0m \u001b[0;32mimport\u001b[0m \u001b[0mlsqr\u001b[0m \u001b[0;32mas\u001b[0m \u001b[0msparse_lsqr\u001b[0m  \u001b[0;31m# noqa\u001b[0m\u001b[0;34m\u001b[0m\u001b[0;34m\u001b[0m\u001b[0m\n\u001b[1;32m     20\u001b[0m \u001b[0;32mfrom\u001b[0m \u001b[0mnumpy\u001b[0m\u001b[0;34m.\u001b[0m\u001b[0mma\u001b[0m \u001b[0;32mimport\u001b[0m \u001b[0mMaskedArray\u001b[0m \u001b[0;32mas\u001b[0m \u001b[0m_MaskedArray\u001b[0m  \u001b[0;31m# TODO: remove in 0.25\u001b[0m\u001b[0;34m\u001b[0m\u001b[0;34m\u001b[0m\u001b[0m\n",
      "\u001b[0;32m~/anaconda3/lib/python3.8/site-packages/scipy/stats/__init__.py\u001b[0m in \u001b[0;36m<module>\u001b[0;34m\u001b[0m\n\u001b[1;32m    382\u001b[0m \u001b[0;32mfrom\u001b[0m \u001b[0m__future__\u001b[0m \u001b[0;32mimport\u001b[0m \u001b[0mdivision\u001b[0m\u001b[0;34m,\u001b[0m \u001b[0mprint_function\u001b[0m\u001b[0;34m,\u001b[0m \u001b[0mabsolute_import\u001b[0m\u001b[0;34m\u001b[0m\u001b[0;34m\u001b[0m\u001b[0m\n\u001b[1;32m    383\u001b[0m \u001b[0;34m\u001b[0m\u001b[0m\n\u001b[0;32m--> 384\u001b[0;31m \u001b[0;32mfrom\u001b[0m \u001b[0;34m.\u001b[0m\u001b[0mstats\u001b[0m \u001b[0;32mimport\u001b[0m \u001b[0;34m*\u001b[0m\u001b[0;34m\u001b[0m\u001b[0;34m\u001b[0m\u001b[0m\n\u001b[0m\u001b[1;32m    385\u001b[0m \u001b[0;32mfrom\u001b[0m \u001b[0;34m.\u001b[0m\u001b[0mdistributions\u001b[0m \u001b[0;32mimport\u001b[0m \u001b[0;34m*\u001b[0m\u001b[0;34m\u001b[0m\u001b[0;34m\u001b[0m\u001b[0m\n\u001b[1;32m    386\u001b[0m \u001b[0;32mfrom\u001b[0m \u001b[0;34m.\u001b[0m\u001b[0mmorestats\u001b[0m \u001b[0;32mimport\u001b[0m \u001b[0;34m*\u001b[0m\u001b[0;34m\u001b[0m\u001b[0;34m\u001b[0m\u001b[0m\n",
      "\u001b[0;32m~/anaconda3/lib/python3.8/site-packages/scipy/stats/stats.py\u001b[0m in \u001b[0;36m<module>\u001b[0;34m\u001b[0m\n\u001b[1;32m    177\u001b[0m \u001b[0;34m\u001b[0m\u001b[0m\n\u001b[1;32m    178\u001b[0m \u001b[0;32mfrom\u001b[0m \u001b[0mscipy\u001b[0m\u001b[0;34m.\u001b[0m\u001b[0m_lib\u001b[0m\u001b[0;34m.\u001b[0m\u001b[0msix\u001b[0m \u001b[0;32mimport\u001b[0m \u001b[0mcallable\u001b[0m\u001b[0;34m,\u001b[0m \u001b[0mstring_types\u001b[0m\u001b[0;34m\u001b[0m\u001b[0;34m\u001b[0m\u001b[0m\n\u001b[0;32m--> 179\u001b[0;31m \u001b[0;32mfrom\u001b[0m \u001b[0mscipy\u001b[0m\u001b[0;34m.\u001b[0m\u001b[0mspatial\u001b[0m\u001b[0;34m.\u001b[0m\u001b[0mdistance\u001b[0m \u001b[0;32mimport\u001b[0m \u001b[0mcdist\u001b[0m\u001b[0;34m\u001b[0m\u001b[0;34m\u001b[0m\u001b[0m\n\u001b[0m\u001b[1;32m    180\u001b[0m \u001b[0;32mfrom\u001b[0m \u001b[0mscipy\u001b[0m\u001b[0;34m.\u001b[0m\u001b[0mndimage\u001b[0m \u001b[0;32mimport\u001b[0m \u001b[0mmeasurements\u001b[0m\u001b[0;34m\u001b[0m\u001b[0;34m\u001b[0m\u001b[0m\n\u001b[1;32m    181\u001b[0m \u001b[0;32mfrom\u001b[0m \u001b[0mscipy\u001b[0m\u001b[0;34m.\u001b[0m\u001b[0m_lib\u001b[0m\u001b[0;34m.\u001b[0m\u001b[0m_version\u001b[0m \u001b[0;32mimport\u001b[0m \u001b[0mNumpyVersion\u001b[0m\u001b[0;34m\u001b[0m\u001b[0;34m\u001b[0m\u001b[0m\n",
      "\u001b[0;32m~/anaconda3/lib/python3.8/site-packages/scipy/spatial/__init__.py\u001b[0m in \u001b[0;36m<module>\u001b[0;34m\u001b[0m\n\u001b[1;32m     97\u001b[0m \u001b[0;32mfrom\u001b[0m \u001b[0;34m.\u001b[0m\u001b[0mkdtree\u001b[0m \u001b[0;32mimport\u001b[0m \u001b[0;34m*\u001b[0m\u001b[0;34m\u001b[0m\u001b[0;34m\u001b[0m\u001b[0m\n\u001b[1;32m     98\u001b[0m \u001b[0;32mfrom\u001b[0m \u001b[0;34m.\u001b[0m\u001b[0mckdtree\u001b[0m \u001b[0;32mimport\u001b[0m \u001b[0;34m*\u001b[0m\u001b[0;34m\u001b[0m\u001b[0;34m\u001b[0m\u001b[0m\n\u001b[0;32m---> 99\u001b[0;31m \u001b[0;32mfrom\u001b[0m \u001b[0;34m.\u001b[0m\u001b[0mqhull\u001b[0m \u001b[0;32mimport\u001b[0m \u001b[0;34m*\u001b[0m\u001b[0;34m\u001b[0m\u001b[0;34m\u001b[0m\u001b[0m\n\u001b[0m\u001b[1;32m    100\u001b[0m \u001b[0;32mfrom\u001b[0m \u001b[0;34m.\u001b[0m\u001b[0m_spherical_voronoi\u001b[0m \u001b[0;32mimport\u001b[0m \u001b[0mSphericalVoronoi\u001b[0m\u001b[0;34m\u001b[0m\u001b[0;34m\u001b[0m\u001b[0m\n\u001b[1;32m    101\u001b[0m \u001b[0;32mfrom\u001b[0m \u001b[0;34m.\u001b[0m\u001b[0m_plotutils\u001b[0m \u001b[0;32mimport\u001b[0m \u001b[0;34m*\u001b[0m\u001b[0;34m\u001b[0m\u001b[0;34m\u001b[0m\u001b[0m\n",
      "\u001b[0;32m~/anaconda3/lib/python3.8/importlib/_bootstrap.py\u001b[0m in \u001b[0;36mparent\u001b[0;34m(self)\u001b[0m\n",
      "\u001b[0;31mKeyboardInterrupt\u001b[0m: "
     ]
    }
   ],
   "source": [
    "import pandas as pd\n",
    "import matplotlib.pyplot as plt\n",
    "from sklearn.cluster import KMeans, MiniBatchKMeans\n",
    "from tqdm import tqdm\n",
    "import pickle\n",
    "import ast"
   ]
  },
  {
   "cell_type": "markdown",
   "metadata": {},
   "source": [
    "#### Needed data for this notebook:\n",
    "Training & Prediction: The complete preprocessed datasets ...\n",
    "   * ... for numerical models: ```Data_Numerical_Clustering_all.csv``` (all possible targed variables need to be onehot-encoded in this file)\n",
    "   * ... for textual models: ```Data_Text_Clustering_all.csv```\n",
    "   * ... containing the original text (after filter and lemmatisation etc.): ```blogtext_filtered.csv```\n",
    "\n",
    "Note: Here a sample of 100.000 lines was used for each of the datasets above."
   ]
  },
  {
   "cell_type": "markdown",
   "metadata": {},
   "source": [
    "#### Note:\n",
    "The validation is already finished and doesn't need to be run anymore. The validation results are completely loaded in the following cells"
   ]
  },
  {
   "cell_type": "code",
   "execution_count": 15,
   "metadata": {},
   "outputs": [],
   "source": [
    "# Define the directory where your data is stored\n",
    "data_directory = './data/'"
   ]
  },
  {
   "cell_type": "markdown",
   "metadata": {},
   "source": [
    "# K-Means"
   ]
  },
  {
   "cell_type": "markdown",
   "metadata": {},
   "source": [
    "## Validation of k"
   ]
  },
  {
   "cell_type": "code",
   "execution_count": 16,
   "metadata": {},
   "outputs": [
    {
     "name": "stdout",
     "output_type": "stream",
     "text": [
      "Loaded an intermediate result:\n"
     ]
    },
    {
     "data": {
      "text/html": [
       "<div>\n",
       "<style scoped>\n",
       "    .dataframe tbody tr th:only-of-type {\n",
       "        vertical-align: middle;\n",
       "    }\n",
       "\n",
       "    .dataframe tbody tr th {\n",
       "        vertical-align: top;\n",
       "    }\n",
       "\n",
       "    .dataframe thead th {\n",
       "        text-align: right;\n",
       "    }\n",
       "</style>\n",
       "<table border=\"1\" class=\"dataframe\">\n",
       "  <thead>\n",
       "    <tr style=\"text-align: right;\">\n",
       "      <th></th>\n",
       "      <th>Features</th>\n",
       "      <th>Sum of squared distances</th>\n",
       "      <th>Elbow</th>\n",
       "    </tr>\n",
       "  </thead>\n",
       "  <tbody>\n",
       "    <tr>\n",
       "      <th>0</th>\n",
       "      <td>Text</td>\n",
       "      <td>{2: 83063.81986898324, 3: 82722.9574689688, 4:...</td>\n",
       "      <td>17</td>\n",
       "    </tr>\n",
       "    <tr>\n",
       "      <th>1</th>\n",
       "      <td>Numerical</td>\n",
       "      <td>{2: 1540067.5963079387, 3: 1426954.850363098, ...</td>\n",
       "      <td>25</td>\n",
       "    </tr>\n",
       "  </tbody>\n",
       "</table>\n",
       "</div>"
      ],
      "text/plain": [
       "    Features                           Sum of squared distances  Elbow\n",
       "0       Text  {2: 83063.81986898324, 3: 82722.9574689688, 4:...     17\n",
       "1  Numerical  {2: 1540067.5963079387, 3: 1426954.850363098, ...     25"
      ]
     },
     "execution_count": 16,
     "metadata": {},
     "output_type": "execute_result"
    }
   ],
   "source": [
    "# Load validation results if they are already existing. \n",
    "# If not, create new and run the following 3 cells (currently formatted as raw text)\n",
    "\n",
    "try:\n",
    "    validation_results = pd.read_csv(data_directory + f'validation_results.csv')\n",
    "    print('Loaded an intermediate result:')\n",
    "except:\n",
    "    validation_results = pd.DataFrame(data={'Features': [], 'Sum of squared distances': []})\n",
    "    print('Created new Dataframe for results:')\n",
    "validation_results"
   ]
  },
  {
   "cell_type": "markdown",
   "metadata": {},
   "source": [
    "### Text Features"
   ]
  },
  {
   "cell_type": "code",
   "execution_count": 6,
   "metadata": {},
   "outputs": [
    {
     "name": "stderr",
     "output_type": "stream",
     "text": [
      "100%|██████████| 18/18 [2:51:07<00:00, 570.42s/it]  \n"
     ]
    }
   ],
   "source": [
    "# Validate the correct K of the text kmeans models by testing Ks between 2 and 20 and save the results\n",
    "text_features = pd.read_csv(data_directory + f'Data_Text_Clustering.csv')\n",
    "Sum_of_squared_distances = {}\n",
    "K = range(2,20)\n",
    "for k in tqdm(K):\n",
    "    km = KMeans(n_clusters=k, max_iter=200)\n",
    "    km = km.fit(text_features)\n",
    "    Sum_of_squared_distances[k] = km.inertia_\n",
    "        \n",
    "new_row = {'Features':'Text', 'Sum of squared distances':Sum_of_squared_distances}\n",
    "validation_results = validation_results.append(new_row, ignore_index=True)\n",
    "validation_results.to_csv(data_directory + f'validation_results.csv', index = False)"
   ]
  },
  {
   "cell_type": "markdown",
   "metadata": {},
   "source": [
    "### Numerical Features"
   ]
  },
  {
   "cell_type": "code",
   "execution_count": 23,
   "metadata": {},
   "outputs": [
    {
     "name": "stderr",
     "output_type": "stream",
     "text": [
      "100%|██████████| 28/28 [02:04<00:00,  4.45s/it]\n"
     ]
    }
   ],
   "source": [
    "# Validate the correct K of the numerical kmeans models by testing Ks between 2 and 30 and save the results\n",
    "numerical_features = pd.read_csv(data_directory + f'Data_Numerical_Clustering.csv')\n",
    "Sum_of_squared_distances = {}\n",
    "K = range(2,30)\n",
    "for k in tqdm(K):\n",
    "    km = KMeans(n_clusters=k, max_iter=200)\n",
    "    km = km.fit(numerical_features)\n",
    "    Sum_of_squared_distances[k] = km.inertia_\n",
    "        \n",
    "new_row = {'Features':'Numerical', 'Sum of squared distances':Sum_of_squared_distances}\n",
    "validation_results = validation_results.append(new_row, ignore_index=True)\n",
    "validation_results.to_csv(data_directory + f'validation_results.csv', index = False)"
   ]
  },
  {
   "cell_type": "code",
   "execution_count": 23,
   "metadata": {},
   "outputs": [
    {
     "name": "stdout",
     "output_type": "stream",
     "text": [
      "Text\n"
     ]
    },
    {
     "data": {
      "image/png": "[encoded data removed]",
      "text/plain": [
       "<Figure size 432x288 with 1 Axes>"
      ]
     },
     "metadata": {
      "needs_background": "light"
     },
     "output_type": "display_data"
    },
    {
     "name": "stdout",
     "output_type": "stream",
     "text": [
      "---------------------------------------------------\n",
      "Numerical\n"
     ]
    },
    {
     "data": {
      "image/png": "[encoded data removed]",
      "text/plain": [
       "<Figure size 432x288 with 1 Axes>"
      ]
     },
     "metadata": {
      "needs_background": "light"
     },
     "output_type": "display_data"
    },
    {
     "name": "stdout",
     "output_type": "stream",
     "text": [
      "---------------------------------------------------\n"
     ]
    }
   ],
   "source": [
    "# Print the validation results for each model\n",
    "for i in validation_results.iterrows():\n",
    "    print(i[1][0])\n",
    "    try:\n",
    "        dictionary = ast.literal_eval(i[1][1])\n",
    "    except:\n",
    "        dictionary = i[1][1]\n",
    "    plt.plot(dictionary.keys(), dictionary.values(), 'bx-')\n",
    "    plt.xlabel('k')\n",
    "    plt.ylabel('Sum_of_squared_distances')\n",
    "    plt.title(f'Elbow Method for optimal k')\n",
    "    plt.show()\n",
    "    print('---------------------------------------------------')"
   ]
  },
  {
   "cell_type": "markdown",
   "metadata": {},
   "source": [
    "### Store Validation Results"
   ]
  },
  {
   "cell_type": "code",
   "execution_count": 24,
   "metadata": {},
   "outputs": [],
   "source": [
    "# Define the validated elbow points of K received from the graphs\n",
    "\n",
    "elbow_k = [17, 25]\n",
    "validation_results['Elbow']=elbow_k"
   ]
  },
  {
   "cell_type": "code",
   "execution_count": 25,
   "metadata": {},
   "outputs": [
    {
     "data": {
      "text/html": [
       "<div>\n",
       "<style scoped>\n",
       "    .dataframe tbody tr th:only-of-type {\n",
       "        vertical-align: middle;\n",
       "    }\n",
       "\n",
       "    .dataframe tbody tr th {\n",
       "        vertical-align: top;\n",
       "    }\n",
       "\n",
       "    .dataframe thead th {\n",
       "        text-align: right;\n",
       "    }\n",
       "</style>\n",
       "<table border=\"1\" class=\"dataframe\">\n",
       "  <thead>\n",
       "    <tr style=\"text-align: right;\">\n",
       "      <th></th>\n",
       "      <th>Features</th>\n",
       "      <th>Sum of squared distances</th>\n",
       "      <th>Elbow</th>\n",
       "    </tr>\n",
       "  </thead>\n",
       "  <tbody>\n",
       "    <tr>\n",
       "      <th>0</th>\n",
       "      <td>Text</td>\n",
       "      <td>{2: 83063.81986898324, 3: 82722.9574689688, 4:...</td>\n",
       "      <td>17</td>\n",
       "    </tr>\n",
       "    <tr>\n",
       "      <th>1</th>\n",
       "      <td>Numerical</td>\n",
       "      <td>{2: 1540067.5963079387, 3: 1426954.850363098, ...</td>\n",
       "      <td>25</td>\n",
       "    </tr>\n",
       "  </tbody>\n",
       "</table>\n",
       "</div>"
      ],
      "text/plain": [
       "    Features                           Sum of squared distances  Elbow\n",
       "0       Text  {2: 83063.81986898324, 3: 82722.9574689688, 4:...     17\n",
       "1  Numerical  {2: 1540067.5963079387, 3: 1426954.850363098, ...     25"
      ]
     },
     "execution_count": 25,
     "metadata": {},
     "output_type": "execute_result"
    }
   ],
   "source": [
    "validation_results"
   ]
  },
  {
   "cell_type": "code",
   "execution_count": 50,
   "metadata": {},
   "outputs": [],
   "source": [
    "validation_results.to_csv(data_directory + f'validation_results.csv', index = False)"
   ]
  },
  {
   "cell_type": "markdown",
   "metadata": {},
   "source": [
    "## Training of Clusters"
   ]
  },
  {
   "cell_type": "markdown",
   "metadata": {},
   "source": [
    "### All Features"
   ]
  },
  {
   "cell_type": "code",
   "execution_count": null,
   "metadata": {},
   "outputs": [],
   "source": [
    "# Load the training Datasets to train the whole models (needs the full dataset, not only a sample!)\n",
    "\n",
    "text_all = pd.read_csv(data_directory + f'Data_Text_Clustering_all.csv')\n",
    "\n",
    "numerical_all = pd.read_csv(data_directory + f'Data_Numerical_Clustering_all.csv')"
   ]
  },
  {
   "cell_type": "code",
   "execution_count": 52,
   "metadata": {},
   "outputs": [
    {
     "name": "stdout",
     "output_type": "stream",
     "text": [
      "Finished a model\n",
      "Finished a model\n"
     ]
    }
   ],
   "source": [
    "# Train the 8 models based on the whole dataset\n",
    "models = {i[1][0]+'_Clustering': KMeans(n_clusters=i[1][3], max_iter=200) for i in validation_results.iterrows()}\n",
    "\n",
    "models['Text_Clustering'].fit(pd.read_csv(data_directory + f'Data_Text_Clustering.csv'))\n",
    "print('Finished a model')\n",
    "\n",
    "models['Numerical_Clustering'].fit(pd.read_csv(data_directory + f'Data_Numerical_Clustering.csv'))\n",
    "print('Finished a model')"
   ]
  },
  {
   "cell_type": "markdown",
   "metadata": {},
   "source": [
    "## Prediction of Clusters"
   ]
  },
  {
   "cell_type": "code",
   "execution_count": 55,
   "metadata": {},
   "outputs": [
    {
     "name": "stdout",
     "output_type": "stream",
     "text": [
      "Finished a prediction\n",
      "Finished a prediction\n"
     ]
    }
   ],
   "source": [
    "# Predict the data, which were also used for training\n",
    "\n",
    "predictions = {i[1][0]+'_Clustering': [] for i in validation_results.iterrows()}\n",
    "\n",
    "predictions['Text_Clustering'] = list(models['Text_Clustering'].predict(pd.read_csv(data_directory + f'Data_Text_Clustering.csv')))\n",
    "print('Finished a prediction')\n",
    "\n",
    "predictions['Numerical_Clustering'] = list(models['Numerical_Clustering'].predict(pd.read_csv(data_directory + f'Data_Numerical_Clustering.csv')))\n",
    "print('Finished a prediction')"
   ]
  },
  {
   "cell_type": "code",
   "execution_count": 58,
   "metadata": {},
   "outputs": [],
   "source": [
    "# Load the dataset which stores also the original information and combine it with the predicted clusters \n",
    "# to interpret the clusters later\n",
    "\n",
    "filtered_raw_data = pd.read_csv(data_directory + 'bolgtext_filtered.csv')\n",
    "for new_feature in list(predictions.keys())[8:]:\n",
    "    filtered_raw_data[new_feature] = predictions[new_feature]"
   ]
  },
  {
   "cell_type": "code",
   "execution_count": 59,
   "metadata": {},
   "outputs": [
    {
     "data": {
      "text/html": [
       "<div>\n",
       "<style scoped>\n",
       "    .dataframe tbody tr th:only-of-type {\n",
       "        vertical-align: middle;\n",
       "    }\n",
       "\n",
       "    .dataframe tbody tr th {\n",
       "        vertical-align: top;\n",
       "    }\n",
       "\n",
       "    .dataframe thead th {\n",
       "        text-align: right;\n",
       "    }\n",
       "</style>\n",
       "<table border=\"1\" class=\"dataframe\">\n",
       "  <thead>\n",
       "    <tr style=\"text-align: right;\">\n",
       "      <th></th>\n",
       "      <th>gender</th>\n",
       "      <th>age</th>\n",
       "      <th>topic</th>\n",
       "      <th>sign</th>\n",
       "      <th>Text length</th>\n",
       "      <th>Number URLs</th>\n",
       "      <th>Number mails</th>\n",
       "      <th>Uppercase ratio</th>\n",
       "      <th>Lowercase ratio</th>\n",
       "      <th>Number ratio</th>\n",
       "      <th>...</th>\n",
       "      <th>Unique words ratio</th>\n",
       "      <th>Average letters per sentence</th>\n",
       "      <th>Variance of letters per sentence</th>\n",
       "      <th>Average words per sentence</th>\n",
       "      <th>Variance of words per sentence</th>\n",
       "      <th>Maximal uppercase ratio per sentence</th>\n",
       "      <th>Length of the maximal uppercase ratio sentence</th>\n",
       "      <th>text_preprocessed</th>\n",
       "      <th>Text_Clustering_all_100000</th>\n",
       "      <th>Numerical_Clustering_all_100000</th>\n",
       "    </tr>\n",
       "  </thead>\n",
       "  <tbody>\n",
       "    <tr>\n",
       "      <th>0</th>\n",
       "      <td>female</td>\n",
       "      <td>24</td>\n",
       "      <td>indUnk</td>\n",
       "      <td>Sagittarius</td>\n",
       "      <td>826</td>\n",
       "      <td>0</td>\n",
       "      <td>0</td>\n",
       "      <td>0.024213</td>\n",
       "      <td>0.713075</td>\n",
       "      <td>0.004843</td>\n",
       "      <td>...</td>\n",
       "      <td>0.687898</td>\n",
       "      <td>66.166667</td>\n",
       "      <td>3770.972222</td>\n",
       "      <td>13.083333</td>\n",
       "      <td>128.409722</td>\n",
       "      <td>0.166667</td>\n",
       "      <td>6</td>\n",
       "      <td>1 corinthians 5:11 ' but -pron- write company ...</td>\n",
       "      <td>7</td>\n",
       "      <td>7</td>\n",
       "    </tr>\n",
       "    <tr>\n",
       "      <th>1</th>\n",
       "      <td>female</td>\n",
       "      <td>23</td>\n",
       "      <td>Arts</td>\n",
       "      <td>Virgo</td>\n",
       "      <td>2666</td>\n",
       "      <td>0</td>\n",
       "      <td>0</td>\n",
       "      <td>0.028132</td>\n",
       "      <td>0.746437</td>\n",
       "      <td>0.002626</td>\n",
       "      <td>...</td>\n",
       "      <td>0.623984</td>\n",
       "      <td>105.120000</td>\n",
       "      <td>3962.745600</td>\n",
       "      <td>19.680000</td>\n",
       "      <td>124.777600</td>\n",
       "      <td>0.133333</td>\n",
       "      <td>15</td>\n",
       "      <td>move jersey city a month ago -pron- idea -pron...</td>\n",
       "      <td>14</td>\n",
       "      <td>7</td>\n",
       "    </tr>\n",
       "    <tr>\n",
       "      <th>2</th>\n",
       "      <td>female</td>\n",
       "      <td>24</td>\n",
       "      <td>indUnk</td>\n",
       "      <td>Taurus</td>\n",
       "      <td>269</td>\n",
       "      <td>1</td>\n",
       "      <td>0</td>\n",
       "      <td>0.040892</td>\n",
       "      <td>0.665428</td>\n",
       "      <td>0.000000</td>\n",
       "      <td>...</td>\n",
       "      <td>0.909091</td>\n",
       "      <td>50.600000</td>\n",
       "      <td>1954.640000</td>\n",
       "      <td>8.800000</td>\n",
       "      <td>84.960000</td>\n",
       "      <td>0.210526</td>\n",
       "      <td>19</td>\n",
       "      <td>hey metro save money a hike heel fare hike yea...</td>\n",
       "      <td>16</td>\n",
       "      <td>9</td>\n",
       "    </tr>\n",
       "    <tr>\n",
       "      <th>3</th>\n",
       "      <td>female</td>\n",
       "      <td>26</td>\n",
       "      <td>indUnk</td>\n",
       "      <td>Taurus</td>\n",
       "      <td>1756</td>\n",
       "      <td>0</td>\n",
       "      <td>0</td>\n",
       "      <td>0.015945</td>\n",
       "      <td>0.763667</td>\n",
       "      <td>0.000000</td>\n",
       "      <td>...</td>\n",
       "      <td>0.632258</td>\n",
       "      <td>78.227273</td>\n",
       "      <td>1352.721074</td>\n",
       "      <td>14.090909</td>\n",
       "      <td>45.900826</td>\n",
       "      <td>0.055556</td>\n",
       "      <td>18</td>\n",
       "      <td>hilarious movie -pron- year a comedy movie abs...</td>\n",
       "      <td>9</td>\n",
       "      <td>7</td>\n",
       "    </tr>\n",
       "    <tr>\n",
       "      <th>4</th>\n",
       "      <td>female</td>\n",
       "      <td>34</td>\n",
       "      <td>Technology</td>\n",
       "      <td>Capricorn</td>\n",
       "      <td>9046</td>\n",
       "      <td>0</td>\n",
       "      <td>0</td>\n",
       "      <td>0.037917</td>\n",
       "      <td>0.742096</td>\n",
       "      <td>0.003648</td>\n",
       "      <td>...</td>\n",
       "      <td>0.550605</td>\n",
       "      <td>112.936709</td>\n",
       "      <td>4624.844095</td>\n",
       "      <td>19.898734</td>\n",
       "      <td>144.420125</td>\n",
       "      <td>0.333333</td>\n",
       "      <td>60</td>\n",
       "      <td>short attach bumper a pickup truck a cock ring...</td>\n",
       "      <td>7</td>\n",
       "      <td>11</td>\n",
       "    </tr>\n",
       "    <tr>\n",
       "      <th>...</th>\n",
       "      <td>...</td>\n",
       "      <td>...</td>\n",
       "      <td>...</td>\n",
       "      <td>...</td>\n",
       "      <td>...</td>\n",
       "      <td>...</td>\n",
       "      <td>...</td>\n",
       "      <td>...</td>\n",
       "      <td>...</td>\n",
       "      <td>...</td>\n",
       "      <td>...</td>\n",
       "      <td>...</td>\n",
       "      <td>...</td>\n",
       "      <td>...</td>\n",
       "      <td>...</td>\n",
       "      <td>...</td>\n",
       "      <td>...</td>\n",
       "      <td>...</td>\n",
       "      <td>...</td>\n",
       "      <td>...</td>\n",
       "      <td>...</td>\n",
       "    </tr>\n",
       "    <tr>\n",
       "      <th>88385</th>\n",
       "      <td>female</td>\n",
       "      <td>23</td>\n",
       "      <td>Arts</td>\n",
       "      <td>Aquarius</td>\n",
       "      <td>609</td>\n",
       "      <td>0</td>\n",
       "      <td>0</td>\n",
       "      <td>0.032841</td>\n",
       "      <td>0.715928</td>\n",
       "      <td>0.000000</td>\n",
       "      <td>...</td>\n",
       "      <td>0.666667</td>\n",
       "      <td>59.100000</td>\n",
       "      <td>1282.090000</td>\n",
       "      <td>11.400000</td>\n",
       "      <td>43.240000</td>\n",
       "      <td>0.105263</td>\n",
       "      <td>19</td>\n",
       "      <td>happen yesterday -pron- mall store -pron- visi...</td>\n",
       "      <td>7</td>\n",
       "      <td>7</td>\n",
       "    </tr>\n",
       "    <tr>\n",
       "      <th>88386</th>\n",
       "      <td>female</td>\n",
       "      <td>23</td>\n",
       "      <td>Student</td>\n",
       "      <td>Pisces</td>\n",
       "      <td>4006</td>\n",
       "      <td>5</td>\n",
       "      <td>0</td>\n",
       "      <td>0.020969</td>\n",
       "      <td>0.742636</td>\n",
       "      <td>0.009735</td>\n",
       "      <td>...</td>\n",
       "      <td>0.469444</td>\n",
       "      <td>98.200000</td>\n",
       "      <td>5066.410000</td>\n",
       "      <td>18.000000</td>\n",
       "      <td>182.650000</td>\n",
       "      <td>0.125000</td>\n",
       "      <td>8</td>\n",
       "      <td>-pron- ' ve think language good -pron- ' m maj...</td>\n",
       "      <td>14</td>\n",
       "      <td>11</td>\n",
       "    </tr>\n",
       "    <tr>\n",
       "      <th>88387</th>\n",
       "      <td>male</td>\n",
       "      <td>25</td>\n",
       "      <td>indUnk</td>\n",
       "      <td>Gemini</td>\n",
       "      <td>361</td>\n",
       "      <td>2</td>\n",
       "      <td>0</td>\n",
       "      <td>0.022161</td>\n",
       "      <td>0.709141</td>\n",
       "      <td>0.000000</td>\n",
       "      <td>...</td>\n",
       "      <td>0.723077</td>\n",
       "      <td>116.666667</td>\n",
       "      <td>402.888889</td>\n",
       "      <td>21.666667</td>\n",
       "      <td>29.555556</td>\n",
       "      <td>0.040000</td>\n",
       "      <td>125</td>\n",
       "      <td>-pron- fish poudre river a saturday morning -p...</td>\n",
       "      <td>7</td>\n",
       "      <td>15</td>\n",
       "    </tr>\n",
       "    <tr>\n",
       "      <th>88388</th>\n",
       "      <td>female</td>\n",
       "      <td>14</td>\n",
       "      <td>Arts</td>\n",
       "      <td>Leo</td>\n",
       "      <td>392</td>\n",
       "      <td>0</td>\n",
       "      <td>0</td>\n",
       "      <td>0.020408</td>\n",
       "      <td>0.701531</td>\n",
       "      <td>0.000000</td>\n",
       "      <td>...</td>\n",
       "      <td>0.845070</td>\n",
       "      <td>74.200000</td>\n",
       "      <td>1987.760000</td>\n",
       "      <td>14.200000</td>\n",
       "      <td>51.760000</td>\n",
       "      <td>0.062500</td>\n",
       "      <td>48</td>\n",
       "      <td>i ' ve shut room past day live water completel...</td>\n",
       "      <td>7</td>\n",
       "      <td>9</td>\n",
       "    </tr>\n",
       "    <tr>\n",
       "      <th>88389</th>\n",
       "      <td>male</td>\n",
       "      <td>26</td>\n",
       "      <td>Government</td>\n",
       "      <td>Libra</td>\n",
       "      <td>149</td>\n",
       "      <td>2</td>\n",
       "      <td>0</td>\n",
       "      <td>0.080537</td>\n",
       "      <td>0.543624</td>\n",
       "      <td>0.000000</td>\n",
       "      <td>...</td>\n",
       "      <td>0.933333</td>\n",
       "      <td>133.000000</td>\n",
       "      <td>0.000000</td>\n",
       "      <td>15.000000</td>\n",
       "      <td>0.000000</td>\n",
       "      <td>0.090226</td>\n",
       "      <td>133</td>\n",
       "      <td>dick zigun founder mermaid parade marty markow...</td>\n",
       "      <td>16</td>\n",
       "      <td>19</td>\n",
       "    </tr>\n",
       "  </tbody>\n",
       "</table>\n",
       "<p>88390 rows × 23 columns</p>\n",
       "</div>"
      ],
      "text/plain": [
       "       gender  age       topic         sign  Text length  Number URLs  \\\n",
       "0      female   24      indUnk  Sagittarius          826            0   \n",
       "1      female   23        Arts        Virgo         2666            0   \n",
       "2      female   24      indUnk       Taurus          269            1   \n",
       "3      female   26      indUnk       Taurus         1756            0   \n",
       "4      female   34  Technology    Capricorn         9046            0   \n",
       "...       ...  ...         ...          ...          ...          ...   \n",
       "88385  female   23        Arts     Aquarius          609            0   \n",
       "88386  female   23     Student       Pisces         4006            5   \n",
       "88387    male   25      indUnk       Gemini          361            2   \n",
       "88388  female   14        Arts          Leo          392            0   \n",
       "88389    male   26  Government        Libra          149            2   \n",
       "\n",
       "       Number mails  Uppercase ratio  Lowercase ratio  Number ratio  ...  \\\n",
       "0                 0         0.024213         0.713075      0.004843  ...   \n",
       "1                 0         0.028132         0.746437      0.002626  ...   \n",
       "2                 0         0.040892         0.665428      0.000000  ...   \n",
       "3                 0         0.015945         0.763667      0.000000  ...   \n",
       "4                 0         0.037917         0.742096      0.003648  ...   \n",
       "...             ...              ...              ...           ...  ...   \n",
       "88385             0         0.032841         0.715928      0.000000  ...   \n",
       "88386             0         0.020969         0.742636      0.009735  ...   \n",
       "88387             0         0.022161         0.709141      0.000000  ...   \n",
       "88388             0         0.020408         0.701531      0.000000  ...   \n",
       "88389             0         0.080537         0.543624      0.000000  ...   \n",
       "\n",
       "       Unique words ratio  Average letters per sentence  \\\n",
       "0                0.687898                     66.166667   \n",
       "1                0.623984                    105.120000   \n",
       "2                0.909091                     50.600000   \n",
       "3                0.632258                     78.227273   \n",
       "4                0.550605                    112.936709   \n",
       "...                   ...                           ...   \n",
       "88385            0.666667                     59.100000   \n",
       "88386            0.469444                     98.200000   \n",
       "88387            0.723077                    116.666667   \n",
       "88388            0.845070                     74.200000   \n",
       "88389            0.933333                    133.000000   \n",
       "\n",
       "       Variance of letters per sentence  Average words per sentence  \\\n",
       "0                           3770.972222                   13.083333   \n",
       "1                           3962.745600                   19.680000   \n",
       "2                           1954.640000                    8.800000   \n",
       "3                           1352.721074                   14.090909   \n",
       "4                           4624.844095                   19.898734   \n",
       "...                                 ...                         ...   \n",
       "88385                       1282.090000                   11.400000   \n",
       "88386                       5066.410000                   18.000000   \n",
       "88387                        402.888889                   21.666667   \n",
       "88388                       1987.760000                   14.200000   \n",
       "88389                          0.000000                   15.000000   \n",
       "\n",
       "       Variance of words per sentence  Maximal uppercase ratio per sentence  \\\n",
       "0                          128.409722                              0.166667   \n",
       "1                          124.777600                              0.133333   \n",
       "2                           84.960000                              0.210526   \n",
       "3                           45.900826                              0.055556   \n",
       "4                          144.420125                              0.333333   \n",
       "...                               ...                                   ...   \n",
       "88385                       43.240000                              0.105263   \n",
       "88386                      182.650000                              0.125000   \n",
       "88387                       29.555556                              0.040000   \n",
       "88388                       51.760000                              0.062500   \n",
       "88389                        0.000000                              0.090226   \n",
       "\n",
       "       Length of the maximal uppercase ratio sentence  \\\n",
       "0                                                   6   \n",
       "1                                                  15   \n",
       "2                                                  19   \n",
       "3                                                  18   \n",
       "4                                                  60   \n",
       "...                                               ...   \n",
       "88385                                              19   \n",
       "88386                                               8   \n",
       "88387                                             125   \n",
       "88388                                              48   \n",
       "88389                                             133   \n",
       "\n",
       "                                       text_preprocessed  \\\n",
       "0      1 corinthians 5:11 ' but -pron- write company ...   \n",
       "1      move jersey city a month ago -pron- idea -pron...   \n",
       "2      hey metro save money a hike heel fare hike yea...   \n",
       "3      hilarious movie -pron- year a comedy movie abs...   \n",
       "4      short attach bumper a pickup truck a cock ring...   \n",
       "...                                                  ...   \n",
       "88385  happen yesterday -pron- mall store -pron- visi...   \n",
       "88386  -pron- ' ve think language good -pron- ' m maj...   \n",
       "88387  -pron- fish poudre river a saturday morning -p...   \n",
       "88388  i ' ve shut room past day live water completel...   \n",
       "88389  dick zigun founder mermaid parade marty markow...   \n",
       "\n",
       "       Text_Clustering_all_100000  Numerical_Clustering_all_100000  \n",
       "0                               7                                7  \n",
       "1                              14                                7  \n",
       "2                              16                                9  \n",
       "3                               9                                7  \n",
       "4                               7                               11  \n",
       "...                           ...                              ...  \n",
       "88385                           7                                7  \n",
       "88386                          14                               11  \n",
       "88387                           7                               15  \n",
       "88388                           7                                9  \n",
       "88389                          16                               19  \n",
       "\n",
       "[88390 rows x 23 columns]"
      ]
     },
     "execution_count": 59,
     "metadata": {},
     "output_type": "execute_result"
    }
   ],
   "source": [
    "filtered_raw_data"
   ]
  },
  {
   "cell_type": "code",
   "execution_count": 60,
   "metadata": {},
   "outputs": [],
   "source": [
    "# Save the data with clusters \n",
    "filtered_raw_data.to_csv(data_directory + f'bolgtext_filtered_new_features.csv', index = False)"
   ]
  },
  {
   "cell_type": "code",
   "execution_count": 61,
   "metadata": {},
   "outputs": [],
   "source": [
    "# Save the models and predictions\n",
    "with open('models.pickle', 'wb') as handle:\n",
    "    pickle.dump(models, handle, protocol=pickle.HIGHEST_PROTOCOL)\n",
    "    \n",
    "with open('predictions.pickle', 'wb') as handle:\n",
    "    pickle.dump(predictions, handle, protocol=pickle.HIGHEST_PROTOCOL)"
   ]
  }
 ],
 "metadata": {
  "kernelspec": {
   "display_name": "Python 3",
   "language": "python",
   "name": "python3"
  },
  "language_info": {
   "codemirror_mode": {
    "name": "ipython",
    "version": 3
   },
   "file_extension": ".py",
   "mimetype": "text/x-python",
   "name": "python",
   "nbconvert_exporter": "python",
   "pygments_lexer": "ipython3",
   "version": "3.8.3"
  }
 },
 "nbformat": 4,
 "nbformat_minor": 4
}
