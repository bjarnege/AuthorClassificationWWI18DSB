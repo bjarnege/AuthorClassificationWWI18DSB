{
 "cells": [
  {
   "cell_type": "code",
   "execution_count": 1,
   "metadata": {},
   "outputs": [
    {
     "name": "stderr",
     "output_type": "stream",
     "text": [
      "/home/bigdata/anaconda3/lib/python3.8/site-packages/spacy/util.py:275: UserWarning: [W031] Model 'en_core_web_sm' (2.2.5) requires spaCy v2.2 and is incompatible with the current spaCy version (2.3.5). This may lead to unexpected results or runtime errors. To resolve this, download a newer compatible model or retrain your custom model with the current spaCy version. For more details and available updates, run: python -m spacy validate\n",
      "  warnings.warn(warn_msg)\n"
     ]
    }
   ],
   "source": [
    "# universally modules\n",
    "import sys\n",
    "import numpy as np\n",
    "import pandas as pd\n",
    "from tqdm import tqdm\n",
    "sys.path.append(\"../src\")\n",
    "\n",
    "# preprocessing and transformation modules\n",
    "import fasttext\n",
    "import Preprocessing\n",
    "from Features import buildFeatures\n",
    "from Modelling import StackingModelling\n",
    "from Transformation import StackedTransformation\n",
    "from ModelSelection import ModelSelection, process_case\n",
    "\n",
    "# Scikit-Learn\n",
    "from sklearn.preprocessing import OneHotEncoder\n",
    "from sklearn.preprocessing import StandardScaler\n",
    "from sklearn.compose import make_column_transformer\n",
    "from sklearn.feature_extraction.text import TfidfVectorizer\n",
    "\n",
    "# model algorithm\n",
    "from sklearn.svm import LinearSVC, LinearSVR\n",
    "from xgboost import XGBRegressor, XGBClassifier\n",
    "from sklearn.linear_model import SGDClassifier, SGDRegressor\n",
    "\n",
    "# evaluation modules\n",
    "from sklearn.metrics import confusion_matrix\n",
    "from sklearn.metrics import mean_absolute_error\n",
    "from sklearn.model_selection import GridSearchCV\n",
    "from sklearn.metrics import classification_report"
   ]
  },
  {
   "cell_type": "markdown",
   "metadata": {},
   "source": [
    "### Parameters"
   ]
  },
  {
   "cell_type": "code",
   "execution_count": 2,
   "metadata": {},
   "outputs": [],
   "source": [
    "# to speed up the process choose a sample size to randomly draw a sample of the whole daataset\n",
    "sample_size = 100 \n",
    "\n",
    "# remove all text that contain less than n chars\n",
    "min_chars_per_text = 50\n",
    "\n",
    "# which features will be used for the TF-IDF transformation\n",
    "text_features = \"text_preprocessed\"\n",
    "\n",
    "#### define the target variable and categorial variables used in later transformations ###\n",
    "  \n",
    "#### Case 1: gender \n",
    "target_variable = \"gender\"\n",
    "categorial_variables =  [\"topic\", \"sign\"]\n",
    "\n",
    "# Case 2: topic\n",
    "#target_variable = \"topic\"\n",
    "#categorial_variables =  [\"gender\", \"sign\"]\n",
    "\n",
    "# Case 3: age\n",
    "#target_variable = \"age\"\n",
    "#categorial_variables =  [\"topic\", \"gender\", \"sign\"]\n",
    "\n",
    "# Case 4: sign\n",
    "#target_variable = \"sign\"\n",
    "#categorial_variables =  [\"gender\", \"topic\"]\n",
    "############################################################################################\n",
    "\n",
    "# TFIDF params\n",
    "# use only words that occur at least sqrt_3(X) times \n",
    "min_df_exponent = (1/3)\n",
    "\n",
    "\n",
    "# Iteration for case 1:\n"
   ]
  },
  {
   "cell_type": "markdown",
   "metadata": {},
   "source": [
    "# General Preprocessing\n",
    "\n",
    "This part is independent from the cases"
   ]
  },
  {
   "cell_type": "markdown",
   "metadata": {},
   "source": [
    "### Initialization "
   ]
  },
  {
   "cell_type": "code",
   "execution_count": 3,
   "metadata": {},
   "outputs": [],
   "source": [
    "df = pd.read_csv(\"../resource/data/blogtext.csv\")\n",
    "\n",
    "# draw random sample for faster processing:\n",
    "df = df.sample(sample_size)"
   ]
  },
  {
   "cell_type": "markdown",
   "metadata": {},
   "source": [
    "### Filtering"
   ]
  },
  {
   "cell_type": "code",
   "execution_count": 4,
   "metadata": {},
   "outputs": [],
   "source": [
    "# filter for a mininmal number of letters in a tweet:\n",
    "df = df[df[\"text\"].str.count(r\"[a-zA-Z]\") >= min_chars_per_text]\n",
    "df = df.reset_index(drop=True)"
   ]
  },
  {
   "cell_type": "markdown",
   "metadata": {},
   "source": [
    "### Feature Engineering"
   ]
  },
  {
   "cell_type": "code",
   "execution_count": 5,
   "metadata": {},
   "outputs": [
    {
     "name": "stderr",
     "output_type": "stream",
     "text": [
      "100%|██████████| 92/92 [00:00<00:00, 578.88it/s]\n"
     ]
    }
   ],
   "source": [
    "# append the data\n",
    "features = [buildFeatures(text) for text  in tqdm(df[\"text\"])]\n",
    "\n",
    "# merge the features with the original dataset\n",
    "df_preprocessed = df.merge(pd.DataFrame(features), left_index=True, right_index=True)"
   ]
  },
  {
   "cell_type": "markdown",
   "metadata": {},
   "source": [
    "### Text Preprocessing"
   ]
  },
  {
   "cell_type": "code",
   "execution_count": 6,
   "metadata": {},
   "outputs": [
    {
     "name": "stderr",
     "output_type": "stream",
     "text": [
      "100%|██████████| 92/92 [00:03<00:00, 30.51it/s]\n",
      "Warning : `load_model` does not return WordVectorModel or SupervisedModel any more, but a `FastText` object which is very similar.\n"
     ]
    }
   ],
   "source": [
    "# use the preprocessing  module\n",
    "preprocessor = Preprocessing.Preprocessing()\n",
    "df_preprocessed[\"text_preprocessed\"] = preprocessor.ProcessMany(df_preprocessed[\"text\"])\n",
    "\n",
    "# predict the main language\n",
    "model = fasttext.load_model('../src/data/lid.176.ftz')\n",
    "df_preprocessed[\"main_language\"] = [model.predict(text)[0][0].split(\"__\")[-1] for text in df_preprocessed[\"text_preprocessed\"]]\n",
    "\n",
    "# drop unnecassary features\n",
    "df_filtered = df_preprocessed[(df_preprocessed[\"main_language\"] == \"en\")]\\\n",
    "                .drop([\"id\",\"text\",\"date\",\"main_language\"], axis= 1)"
   ]
  },
  {
   "cell_type": "markdown",
   "metadata": {},
   "source": [
    "# Individual Transformation\n",
    "\n",
    "This part is dependent of the cases and need to be done individual for each case"
   ]
  },
  {
   "cell_type": "markdown",
   "metadata": {},
   "source": [
    "### Transformation"
   ]
  },
  {
   "cell_type": "code",
   "execution_count": 7,
   "metadata": {},
   "outputs": [],
   "source": [
    "def transformation(X, y, target_variable, categorial_variables, \\\n",
    "                   min_df_exponent, ngram_range, text_features, use_idf):\n",
    "\n",
    "    # use the  text transformer class to create two transformers for the textual and the numerical model\n",
    "    text_transformer = TfidfVectorizer(ngram_range=ngram_range, min_df=int(len(X)**(min_df_exponent)), use_idf=use_idf)\n",
    "    numerical_transformer = make_column_transformer((OneHotEncoder(handle_unknown=\"ignore\"), categorial_variables)\\\n",
    "                                                           , remainder=StandardScaler())\n",
    "\n",
    "    stacking = StackedTransformation(X, y, numerical_transformer, text_transformer, text_features)\n",
    "    stacking.build_transformer()\n",
    "    \n",
    "    return stacking"
   ]
  },
  {
   "cell_type": "markdown",
   "metadata": {},
   "source": [
    "### Clustering"
   ]
  },
  {
   "cell_type": "code",
   "execution_count": 8,
   "metadata": {
    "scrolled": true
   },
   "outputs": [],
   "source": [
    "def clustering():\n",
    "\n",
    "    text_data_features = stacking.text_transformer.get_feature_names()\n",
    "    text_data = stacking.X_train_text_transformed.toarray()\n",
    "\n",
    "    df_text_cluster = pd.DataFrame(text_data, columns=text_data_features)\n",
    "\n",
    "    # Die Features beschreiben die Worte im Text\n",
    "    # Die Werte sind die TF*IDF-transformierten Textdaten\n",
    "\n",
    "    numerical_data = stacking.X_train_numerical_transformed\n",
    "    numerical_features = np.append(stacking.numerical_transformer.transformers_[0][1].get_feature_names(),\\\n",
    "                         stacking.X_train_numerical.columns.drop(categorial_variables))\n",
    "\n",
    "    df_numerical_cluster = pd.DataFrame(numerical_data, columns=numerical_features)\n",
    "    df_numerical_cluster\n",
    "\n",
    "\n",
    "    # Die Features mit den x0 - xi Werten beschreiben die Ausprägungen die kategorialen Variablen\n",
    "    # das jeweilige i beschreibt das i-te Element der im Punkt \"Target Variable\" definierten liste categorial_variables\n",
    "    # Die verbleibenden Features (ohne xi) sind Standardskaliert, (x - \\mu)/\\sigma\n",
    "\n",
    "    # THIS PART IS STILL MISSING"
   ]
  },
  {
   "cell_type": "markdown",
   "metadata": {},
   "source": [
    "# Individual Modelling\n",
    "\n",
    "This part is dependent of the cases and need to be done individual for each case"
   ]
  },
  {
   "cell_type": "markdown",
   "metadata": {},
   "source": [
    "### Model Selection"
   ]
  },
  {
   "cell_type": "code",
   "execution_count": 28,
   "metadata": {},
   "outputs": [],
   "source": [
    "class ModelSelection:\n",
    "    \n",
    "    def __init__(self, numerical_model, numerical_model_params_dict,\\\n",
    "                 text_model, text_model_params_dict, StackedTransformationInstance):\n",
    "        \n",
    "        self.numerical_model = numerical_model\n",
    "        self.numerical_model_params_dict = numerical_model_params_dict\n",
    "        \n",
    "        self.text_model = text_model\n",
    "        self.text_model_params_dict = text_model_params_dict\n",
    "        \n",
    "        self.stacking = StackedTransformationInstance\n",
    "        self.results = dict()\n",
    "        \n",
    "    def GridSearch(self, model, params_dict, X_train, y_train,\\\n",
    "                   X_test, y_test, scoring=\"accuracy\", cv=3):\n",
    "        \n",
    "        gs_ = GridSearchCV(model(), scoring=scoring,\\\n",
    "                            param_grid=params_dict, n_jobs=-1, cv=cv, verbose=4)\n",
    "            \n",
    "            \n",
    "        # Use early stopping if model is xgb\n",
    "        if model == XGBClassifier or  model == XGBClassifier:\n",
    "            fit_params = {'eval_set': [(X_test, y_test)],\n",
    "                          'eval_metric': \"error\",\n",
    "                          'early_stopping_rounds': 20,\n",
    "                          'verbose': False}\n",
    "            \n",
    "            gs_.fit(X_train, y_train, **fit_params)\n",
    "\n",
    "        \n",
    "        else:\n",
    "            gs_.fit(X_train, y_train)\n",
    "        \n",
    "        return {\"model\": model,\n",
    "               \"params_dict\": params_dict,\n",
    "               \"scoring\":scoring,\n",
    "               \"cv\": cv,\n",
    "               \"grid_search_instance\": gs_}\n",
    "            \n",
    "    def fit(self, scoring):\n",
    "        # fit pipeline for numerical model:\n",
    "        print(\"Starting Grid search for numerical model ...\")\n",
    "        \n",
    "        cv_numerical = self.GridSearch(self.numerical_model, self.numerical_model_params_dict,\\\n",
    "                       self.stacking.X_train_numerical_transformed, self.stacking.y_train,\\\n",
    "                       self.stacking.X_test_numerical_transformed, self.stacking.y_test, scoring)\n",
    "        \n",
    "        self.results[\"CV_numerical\"] = cv_numerical\n",
    "        \n",
    "        # fit pipeline for text model:\n",
    "        print(\"Starting Grid search for text model ...\")\n",
    "\n",
    "        \n",
    "        cv_text = self.GridSearch(self.text_model, self.text_model_params_dict,\\\n",
    "                       self.stacking.X_train_text_transformed, self.stacking.y_train,\\\n",
    "                       self.stacking.X_test_text_transformed, self.stacking.y_test, scoring)\n",
    "        \n",
    "        self.results[\"CV_text\"] = cv_text\n",
    "        \n",
    "        return self.results\n",
    "    \n",
    "def get_cartesian(case_dict):\n",
    "    case_basic = {\"target_type\": case_dict[\"target_type\"],\n",
    "               \"target_variable\": case_dict[\"target_variable\"],\n",
    "               \"grid_search_metric\": case_dict[\"grid_search_metric\"],\n",
    "               \"categorial_variables\": case_dict[\"categorial_variables\"]}\n",
    "    \n",
    "    product_variables = [\"min_df_exponents\", \"n_gram_range\", \"use_tfidf\", \"ml_algorithms_params\"]\n",
    "    variations = product(*[case_dict[var] for var in product_variables])\n",
    "        \n",
    "        \n",
    "    return [{**case_basic, **dict(zip(product_variables, elem))} for elem in variations]\n",
    "\n",
    "def process_versions(versions_list, X ,y):\n",
    "    results = []\n",
    "\n",
    "    for version in tqdm(versions_list):\n",
    "        if version[\"target_type\"] == \"classification\":\n",
    "            le = LabelEncoder()\n",
    "            y = le.fit_transform(y)\n",
    "\n",
    "        stacking = transformation(X, y, version[\"target_variable\"], version[\"categorial_variables\"], \\\n",
    "                                version[\"min_df_exponents\"], version[\"n_gram_range\"],\\\n",
    "                                  text_features, version[\"use_tfidf\"])\n",
    "\n",
    "        ms = ModelSelection(version[\"ml_algorithms_params\"][0], version[\"ml_algorithms_params\"][1],\\\n",
    "                            version[\"ml_algorithms_params\"][0], version[\"ml_algorithms_params\"][1],\\\n",
    "                            stacking)\n",
    "        \n",
    "        cv_results = ms.fit(version[\"grid_search_metric\"])\n",
    "        cv_results = {**cv_results, **version}                            \n",
    "                            \n",
    "        results.append(cv_results)\n",
    "        \n",
    "\n",
    "    return results\n",
    "\n",
    "def clean_results(results):\n",
    "    df = pd.DataFrame(results)\n",
    "    \n",
    "    # extract the best parameter together with their errors\n",
    "    df[\"CV_numerical_best_params\"] = df[\"CV_numerical\"].apply(lambda x: x[\"grid_search_instance\"].best_params_)\n",
    "    df[\"CV_numerical_best_score\"] = df[\"CV_numerical\"].apply(lambda x: x[\"grid_search_instance\"].best_score_)\n",
    "    df[\"CV_text_best_params\"] = df[\"CV_text\"].apply(lambda x: x[\"grid_search_instance\"].best_params_)\n",
    "    df[\"CV_text_best_score\"] = df[\"CV_text\"].apply(lambda x: x[\"grid_search_instance\"].best_score_)\n",
    "    \n",
    "    return df\n",
    "\n",
    "def process(case, df):\n",
    "    X,y = df.drop(case[\"target_variable\"], axis=1), df[case[\"target_variable\"]]\n",
    "    versions = get_cartesian(case)\n",
    "    results = process_versions(versions, X, y)\n",
    "    return clean_results(results)"
   ]
  },
  {
   "cell_type": "code",
   "execution_count": 29,
   "metadata": {},
   "outputs": [
    {
     "name": "stderr",
     "output_type": "stream",
     "text": [
      "  0%|          | 0/54 [00:00<?, ?it/s][Parallel(n_jobs=-1)]: Using backend LokyBackend with 8 concurrent workers.\n",
      "[Parallel(n_jobs=-1)]: Done   9 tasks      | elapsed:    0.0s\n"
     ]
    },
    {
     "name": "stdout",
     "output_type": "stream",
     "text": [
      "Starting Grid search for numerical model ...\n",
      "Fitting 3 folds for each of 36 candidates, totalling 108 fits\n"
     ]
    },
    {
     "name": "stderr",
     "output_type": "stream",
     "text": [
      "[Parallel(n_jobs=-1)]: Done 108 out of 108 | elapsed:    0.2s finished\n",
      "[Parallel(n_jobs=-1)]: Using backend LokyBackend with 8 concurrent workers.\n",
      "[Parallel(n_jobs=-1)]: Done   9 tasks      | elapsed:    0.1s\n"
     ]
    },
    {
     "name": "stdout",
     "output_type": "stream",
     "text": [
      "Starting Grid search for text model ...\n",
      "Fitting 3 folds for each of 36 candidates, totalling 108 fits\n"
     ]
    },
    {
     "name": "stderr",
     "output_type": "stream",
     "text": [
      "[Parallel(n_jobs=-1)]: Done 108 out of 108 | elapsed:    0.5s finished\n",
      "  2%|▏         | 1/54 [00:00<00:44,  1.20it/s][Parallel(n_jobs=-1)]: Using backend LokyBackend with 8 concurrent workers.\n",
      "[Parallel(n_jobs=-1)]: Done   9 tasks      | elapsed:    0.1s\n"
     ]
    },
    {
     "name": "stdout",
     "output_type": "stream",
     "text": [
      "Starting Grid search for numerical model ...\n",
      "Fitting 3 folds for each of 24 candidates, totalling 72 fits\n",
      "Starting Grid search for text model ...\n",
      "Fitting 3 folds for each of 24 candidates, totalling 72 fits\n"
     ]
    },
    {
     "name": "stderr",
     "output_type": "stream",
     "text": [
      "[Parallel(n_jobs=-1)]: Done  72 out of  72 | elapsed:    0.2s finished\n",
      "[Parallel(n_jobs=-1)]: Using backend LokyBackend with 8 concurrent workers.\n",
      "[Parallel(n_jobs=-1)]: Done   9 tasks      | elapsed:    0.0s\n",
      "[Parallel(n_jobs=-1)]: Done  72 out of  72 | elapsed:    0.1s finished\n",
      "  4%|▎         | 2/54 [00:01<00:34,  1.49it/s][Parallel(n_jobs=-1)]: Using backend LokyBackend with 8 concurrent workers.\n",
      "[Parallel(n_jobs=-1)]: Done  10 tasks      | elapsed:    0.0s\n",
      "[Parallel(n_jobs=-1)]: Done  31 out of  36 | elapsed:    0.0s remaining:    0.0s\n",
      "[Parallel(n_jobs=-1)]: Done  36 out of  36 | elapsed:    0.0s finished\n",
      "[Parallel(n_jobs=-1)]: Using backend LokyBackend with 8 concurrent workers.\n",
      "[Parallel(n_jobs=-1)]: Done   9 tasks      | elapsed:    0.0s\n",
      "[Parallel(n_jobs=-1)]: Done  21 out of  36 | elapsed:    0.0s remaining:    0.0s\n",
      "[Parallel(n_jobs=-1)]: Done  36 out of  36 | elapsed:    0.0s finished\n",
      "  6%|▌         | 3/54 [00:01<00:25,  1.98it/s][Parallel(n_jobs=-1)]: Using backend LokyBackend with 8 concurrent workers.\n",
      "[Parallel(n_jobs=-1)]: Done   9 tasks      | elapsed:    0.1s\n"
     ]
    },
    {
     "name": "stdout",
     "output_type": "stream",
     "text": [
      "Starting Grid search for numerical model ...\n",
      "Fitting 3 folds for each of 12 candidates, totalling 36 fits\n",
      "Starting Grid search for text model ...\n",
      "Fitting 3 folds for each of 12 candidates, totalling 36 fits\n",
      "Starting Grid search for numerical model ...\n",
      "Fitting 3 folds for each of 36 candidates, totalling 108 fits\n"
     ]
    },
    {
     "name": "stderr",
     "output_type": "stream",
     "text": [
      "[Parallel(n_jobs=-1)]: Done 108 out of 108 | elapsed:    0.3s finished\n",
      "[Parallel(n_jobs=-1)]: Using backend LokyBackend with 8 concurrent workers.\n"
     ]
    },
    {
     "name": "stdout",
     "output_type": "stream",
     "text": [
      "Starting Grid search for text model ...\n",
      "Fitting 3 folds for each of 36 candidates, totalling 108 fits\n"
     ]
    },
    {
     "name": "stderr",
     "output_type": "stream",
     "text": [
      "[Parallel(n_jobs=-1)]: Done   9 tasks      | elapsed:    0.2s\n",
      "[Parallel(n_jobs=-1)]: Done 108 out of 108 | elapsed:    0.6s finished\n",
      "  7%|▋         | 4/54 [00:02<00:33,  1.51it/s][Parallel(n_jobs=-1)]: Using backend LokyBackend with 8 concurrent workers.\n",
      "[Parallel(n_jobs=-1)]: Done   9 tasks      | elapsed:    0.0s\n"
     ]
    },
    {
     "name": "stdout",
     "output_type": "stream",
     "text": [
      "Starting Grid search for numerical model ...\n",
      "Fitting 3 folds for each of 24 candidates, totalling 72 fits\n",
      "Starting Grid search for text model ...\n",
      "Fitting 3 folds for each of 24 candidates, totalling 72 fits\n"
     ]
    },
    {
     "name": "stderr",
     "output_type": "stream",
     "text": [
      "[Parallel(n_jobs=-1)]: Done  72 out of  72 | elapsed:    0.1s finished\n",
      "[Parallel(n_jobs=-1)]: Using backend LokyBackend with 8 concurrent workers.\n",
      "[Parallel(n_jobs=-1)]: Done   9 tasks      | elapsed:    0.0s\n",
      "[Parallel(n_jobs=-1)]: Done  72 out of  72 | elapsed:    0.1s finished\n",
      "  9%|▉         | 5/54 [00:02<00:26,  1.82it/s][Parallel(n_jobs=-1)]: Using backend LokyBackend with 8 concurrent workers.\n",
      "[Parallel(n_jobs=-1)]: Done  11 tasks      | elapsed:    0.0s\n",
      "[Parallel(n_jobs=-1)]: Done  31 out of  36 | elapsed:    0.0s remaining:    0.0s\n",
      "[Parallel(n_jobs=-1)]: Done  36 out of  36 | elapsed:    0.0s finished\n",
      "[Parallel(n_jobs=-1)]: Using backend LokyBackend with 8 concurrent workers.\n",
      "[Parallel(n_jobs=-1)]: Done   9 tasks      | elapsed:    0.0s\n",
      "[Parallel(n_jobs=-1)]: Done  36 out of  36 | elapsed:    0.0s finished\n",
      " 11%|█         | 6/54 [00:02<00:20,  2.38it/s][Parallel(n_jobs=-1)]: Using backend LokyBackend with 8 concurrent workers.\n"
     ]
    },
    {
     "name": "stdout",
     "output_type": "stream",
     "text": [
      "Starting Grid search for numerical model ...\n",
      "Fitting 3 folds for each of 12 candidates, totalling 36 fits\n",
      "Starting Grid search for text model ...\n",
      "Fitting 3 folds for each of 12 candidates, totalling 36 fits\n",
      "Starting Grid search for numerical model ...\n",
      "Fitting 3 folds for each of 36 candidates, totalling 108 fits\n"
     ]
    },
    {
     "name": "stderr",
     "output_type": "stream",
     "text": [
      "[Parallel(n_jobs=-1)]: Done   9 tasks      | elapsed:    0.1s\n",
      "[Parallel(n_jobs=-1)]: Done 108 out of 108 | elapsed:    0.2s finished\n",
      "[Parallel(n_jobs=-1)]: Using backend LokyBackend with 8 concurrent workers.\n",
      "[Parallel(n_jobs=-1)]: Done   9 tasks      | elapsed:    0.1s\n"
     ]
    },
    {
     "name": "stdout",
     "output_type": "stream",
     "text": [
      "Starting Grid search for text model ...\n",
      "Fitting 3 folds for each of 36 candidates, totalling 108 fits\n"
     ]
    },
    {
     "name": "stderr",
     "output_type": "stream",
     "text": [
      "[Parallel(n_jobs=-1)]: Done  93 out of 108 | elapsed:    0.5s remaining:    0.1s\n",
      "[Parallel(n_jobs=-1)]: Done 108 out of 108 | elapsed:    0.5s finished\n",
      " 13%|█▎        | 7/54 [00:03<00:26,  1.75it/s][Parallel(n_jobs=-1)]: Using backend LokyBackend with 8 concurrent workers.\n",
      "[Parallel(n_jobs=-1)]: Done  12 tasks      | elapsed:    0.0s\n"
     ]
    },
    {
     "name": "stdout",
     "output_type": "stream",
     "text": [
      "Starting Grid search for numerical model ...\n",
      "Fitting 3 folds for each of 24 candidates, totalling 72 fits\n",
      "Starting Grid search for text model ...\n",
      "Fitting 3 folds for each of 24 candidates, totalling 72 fits\n"
     ]
    },
    {
     "name": "stderr",
     "output_type": "stream",
     "text": [
      "[Parallel(n_jobs=-1)]: Done  72 out of  72 | elapsed:    0.1s finished\n",
      "[Parallel(n_jobs=-1)]: Using backend LokyBackend with 8 concurrent workers.\n",
      "[Parallel(n_jobs=-1)]: Done   9 tasks      | elapsed:    0.0s\n",
      "[Parallel(n_jobs=-1)]: Done  72 out of  72 | elapsed:    0.1s finished\n",
      " 15%|█▍        | 8/54 [00:03<00:22,  2.06it/s][Parallel(n_jobs=-1)]: Using backend LokyBackend with 8 concurrent workers.\n",
      "[Parallel(n_jobs=-1)]: Done   9 tasks      | elapsed:    0.0s\n",
      "[Parallel(n_jobs=-1)]: Done  31 out of  36 | elapsed:    0.0s remaining:    0.0s\n",
      "[Parallel(n_jobs=-1)]: Done  36 out of  36 | elapsed:    0.0s finished\n",
      "[Parallel(n_jobs=-1)]: Using backend LokyBackend with 8 concurrent workers.\n",
      "[Parallel(n_jobs=-1)]: Done   9 tasks      | elapsed:    0.0s\n",
      "[Parallel(n_jobs=-1)]: Done  36 out of  36 | elapsed:    0.0s finished\n",
      " 17%|█▋        | 9/54 [00:04<00:17,  2.64it/s][Parallel(n_jobs=-1)]: Using backend LokyBackend with 8 concurrent workers.\n"
     ]
    },
    {
     "name": "stdout",
     "output_type": "stream",
     "text": [
      "Starting Grid search for numerical model ...\n",
      "Fitting 3 folds for each of 12 candidates, totalling 36 fits\n",
      "Starting Grid search for text model ...\n",
      "Fitting 3 folds for each of 12 candidates, totalling 36 fits\n",
      "Starting Grid search for numerical model ...\n",
      "Fitting 3 folds for each of 36 candidates, totalling 108 fits\n"
     ]
    },
    {
     "name": "stderr",
     "output_type": "stream",
     "text": [
      "[Parallel(n_jobs=-1)]: Done   9 tasks      | elapsed:    0.0s\n",
      "[Parallel(n_jobs=-1)]: Done 108 out of 108 | elapsed:    0.2s finished\n",
      "[Parallel(n_jobs=-1)]: Using backend LokyBackend with 8 concurrent workers.\n",
      "[Parallel(n_jobs=-1)]: Done   2 tasks      | elapsed:    0.1s\n"
     ]
    },
    {
     "name": "stdout",
     "output_type": "stream",
     "text": [
      "Starting Grid search for text model ...\n",
      "Fitting 3 folds for each of 36 candidates, totalling 108 fits\n"
     ]
    },
    {
     "name": "stderr",
     "output_type": "stream",
     "text": [
      "[Parallel(n_jobs=-1)]: Done  93 out of 108 | elapsed:    0.5s remaining:    0.1s\n",
      "[Parallel(n_jobs=-1)]: Done 108 out of 108 | elapsed:    0.5s finished\n",
      " 19%|█▊        | 10/54 [00:04<00:24,  1.79it/s][Parallel(n_jobs=-1)]: Using backend LokyBackend with 8 concurrent workers.\n",
      "[Parallel(n_jobs=-1)]: Done   9 tasks      | elapsed:    0.0s\n",
      "[Parallel(n_jobs=-1)]: Done  72 out of  72 | elapsed:    0.1s finished\n",
      "[Parallel(n_jobs=-1)]: Using backend LokyBackend with 8 concurrent workers.\n",
      "[Parallel(n_jobs=-1)]: Done   9 tasks      | elapsed:    0.0s\n",
      "[Parallel(n_jobs=-1)]: Done  72 out of  72 | elapsed:    0.1s finished\n",
      " 20%|██        | 11/54 [00:05<00:22,  1.93it/s]"
     ]
    },
    {
     "name": "stdout",
     "output_type": "stream",
     "text": [
      "Starting Grid search for numerical model ...\n",
      "Fitting 3 folds for each of 24 candidates, totalling 72 fits\n",
      "Starting Grid search for text model ...\n",
      "Fitting 3 folds for each of 24 candidates, totalling 72 fits\n"
     ]
    },
    {
     "name": "stderr",
     "output_type": "stream",
     "text": [
      "[Parallel(n_jobs=-1)]: Using backend LokyBackend with 8 concurrent workers.\n",
      "[Parallel(n_jobs=-1)]: Done   9 tasks      | elapsed:    0.0s\n",
      "[Parallel(n_jobs=-1)]: Done  36 out of  36 | elapsed:    0.0s finished\n",
      "[Parallel(n_jobs=-1)]: Using backend LokyBackend with 8 concurrent workers.\n",
      "[Parallel(n_jobs=-1)]: Done   9 tasks      | elapsed:    0.0s\n",
      "[Parallel(n_jobs=-1)]: Done  36 out of  36 | elapsed:    0.0s finished\n",
      "\r",
      " 22%|██▏       | 12/54 [00:05<00:16,  2.49it/s]"
     ]
    },
    {
     "name": "stdout",
     "output_type": "stream",
     "text": [
      "Starting Grid search for numerical model ...\n",
      "Fitting 3 folds for each of 12 candidates, totalling 36 fits\n",
      "Starting Grid search for text model ...\n",
      "Fitting 3 folds for each of 12 candidates, totalling 36 fits\n",
      "Starting Grid search for numerical model ...\n",
      "Fitting 3 folds for each of 36 candidates, totalling 108 fits\n"
     ]
    },
    {
     "name": "stderr",
     "output_type": "stream",
     "text": [
      "[Parallel(n_jobs=-1)]: Using backend LokyBackend with 8 concurrent workers.\n",
      "[Parallel(n_jobs=-1)]: Done   9 tasks      | elapsed:    0.0s\n",
      "[Parallel(n_jobs=-1)]: Done  93 out of 108 | elapsed:    0.3s remaining:    0.0s\n",
      "[Parallel(n_jobs=-1)]: Done 108 out of 108 | elapsed:    0.3s finished\n",
      "[Parallel(n_jobs=-1)]: Using backend LokyBackend with 8 concurrent workers.\n",
      "[Parallel(n_jobs=-1)]: Done   9 tasks      | elapsed:    0.1s\n"
     ]
    },
    {
     "name": "stdout",
     "output_type": "stream",
     "text": [
      "Starting Grid search for text model ...\n",
      "Fitting 3 folds for each of 36 candidates, totalling 108 fits\n"
     ]
    },
    {
     "name": "stderr",
     "output_type": "stream",
     "text": [
      "[Parallel(n_jobs=-1)]: Done 108 out of 108 | elapsed:    0.3s finished\n",
      " 24%|██▍       | 13/54 [00:06<00:20,  2.00it/s][Parallel(n_jobs=-1)]: Using backend LokyBackend with 8 concurrent workers.\n",
      "[Parallel(n_jobs=-1)]: Done  10 tasks      | elapsed:    0.0s\n",
      "[Parallel(n_jobs=-1)]: Done  72 out of  72 | elapsed:    0.1s finished\n",
      "[Parallel(n_jobs=-1)]: Using backend LokyBackend with 8 concurrent workers.\n"
     ]
    },
    {
     "name": "stdout",
     "output_type": "stream",
     "text": [
      "Starting Grid search for numerical model ...\n",
      "Fitting 3 folds for each of 24 candidates, totalling 72 fits\n",
      "Starting Grid search for text model ...\n",
      "Fitting 3 folds for each of 24 candidates, totalling 72 fits\n"
     ]
    },
    {
     "name": "stderr",
     "output_type": "stream",
     "text": [
      "[Parallel(n_jobs=-1)]: Done   9 tasks      | elapsed:    0.0s\n",
      "[Parallel(n_jobs=-1)]: Done  72 out of  72 | elapsed:    0.1s finished\n",
      " 26%|██▌       | 14/54 [00:06<00:16,  2.36it/s][Parallel(n_jobs=-1)]: Using backend LokyBackend with 8 concurrent workers.\n",
      "[Parallel(n_jobs=-1)]: Done   9 tasks      | elapsed:    0.0s\n",
      "[Parallel(n_jobs=-1)]: Done  36 out of  36 | elapsed:    0.0s finished\n",
      "[Parallel(n_jobs=-1)]: Using backend LokyBackend with 8 concurrent workers.\n",
      "[Parallel(n_jobs=-1)]: Done  10 tasks      | elapsed:    0.0s\n",
      "[Parallel(n_jobs=-1)]: Done  36 out of  36 | elapsed:    0.0s finished\n",
      " 28%|██▊       | 15/54 [00:06<00:13,  2.98it/s][Parallel(n_jobs=-1)]: Using backend LokyBackend with 8 concurrent workers.\n"
     ]
    },
    {
     "name": "stdout",
     "output_type": "stream",
     "text": [
      "Starting Grid search for numerical model ...\n",
      "Fitting 3 folds for each of 12 candidates, totalling 36 fits\n",
      "Starting Grid search for text model ...\n",
      "Fitting 3 folds for each of 12 candidates, totalling 36 fits\n",
      "Starting Grid search for numerical model ...\n",
      "Fitting 3 folds for each of 36 candidates, totalling 108 fits\n"
     ]
    },
    {
     "name": "stderr",
     "output_type": "stream",
     "text": [
      "[Parallel(n_jobs=-1)]: Done   9 tasks      | elapsed:    0.1s\n",
      "[Parallel(n_jobs=-1)]: Done 108 out of 108 | elapsed:    0.3s finished\n",
      "[Parallel(n_jobs=-1)]: Using backend LokyBackend with 8 concurrent workers.\n",
      "[Parallel(n_jobs=-1)]: Done   9 tasks      | elapsed:    0.1s\n"
     ]
    },
    {
     "name": "stdout",
     "output_type": "stream",
     "text": [
      "Starting Grid search for text model ...\n",
      "Fitting 3 folds for each of 36 candidates, totalling 108 fits\n"
     ]
    },
    {
     "name": "stderr",
     "output_type": "stream",
     "text": [
      "[Parallel(n_jobs=-1)]: Done 108 out of 108 | elapsed:    0.3s finished\n",
      " 30%|██▉       | 16/54 [00:07<00:16,  2.35it/s][Parallel(n_jobs=-1)]: Using backend LokyBackend with 8 concurrent workers.\n",
      "[Parallel(n_jobs=-1)]: Done   4 tasks      | elapsed:    0.0s\n",
      "[Parallel(n_jobs=-1)]: Done  57 out of  72 | elapsed:    0.1s remaining:    0.0s\n",
      "[Parallel(n_jobs=-1)]: Done  72 out of  72 | elapsed:    0.1s finished\n",
      "[Parallel(n_jobs=-1)]: Using backend LokyBackend with 8 concurrent workers.\n"
     ]
    },
    {
     "name": "stdout",
     "output_type": "stream",
     "text": [
      "Starting Grid search for numerical model ...\n",
      "Fitting 3 folds for each of 24 candidates, totalling 72 fits\n",
      "Starting Grid search for text model ...\n",
      "Fitting 3 folds for each of 24 candidates, totalling 72 fits\n"
     ]
    },
    {
     "name": "stderr",
     "output_type": "stream",
     "text": [
      "[Parallel(n_jobs=-1)]: Done  10 tasks      | elapsed:    0.0s\n",
      "[Parallel(n_jobs=-1)]: Done  72 out of  72 | elapsed:    0.1s finished\n",
      " 31%|███▏      | 17/54 [00:07<00:13,  2.69it/s][Parallel(n_jobs=-1)]: Using backend LokyBackend with 8 concurrent workers.\n",
      "[Parallel(n_jobs=-1)]: Done   9 tasks      | elapsed:    0.0s\n",
      "[Parallel(n_jobs=-1)]: Done  36 out of  36 | elapsed:    0.0s finished\n",
      "[Parallel(n_jobs=-1)]: Using backend LokyBackend with 8 concurrent workers.\n",
      "[Parallel(n_jobs=-1)]: Done  11 tasks      | elapsed:    0.0s\n",
      "[Parallel(n_jobs=-1)]: Done  31 out of  36 | elapsed:    0.0s remaining:    0.0s\n",
      "[Parallel(n_jobs=-1)]: Done  36 out of  36 | elapsed:    0.0s finished\n",
      " 33%|███▎      | 18/54 [00:07<00:10,  3.38it/s][Parallel(n_jobs=-1)]: Using backend LokyBackend with 8 concurrent workers.\n",
      "[Parallel(n_jobs=-1)]: Done   9 tasks      | elapsed:    0.0s\n"
     ]
    },
    {
     "name": "stdout",
     "output_type": "stream",
     "text": [
      "Starting Grid search for numerical model ...\n",
      "Fitting 3 folds for each of 12 candidates, totalling 36 fits\n",
      "Starting Grid search for text model ...\n",
      "Fitting 3 folds for each of 12 candidates, totalling 36 fits\n",
      "Starting Grid search for numerical model ...\n",
      "Fitting 3 folds for each of 36 candidates, totalling 108 fits\n"
     ]
    },
    {
     "name": "stderr",
     "output_type": "stream",
     "text": [
      "[Parallel(n_jobs=-1)]: Done  93 out of 108 | elapsed:    0.2s remaining:    0.0s\n",
      "[Parallel(n_jobs=-1)]: Done 108 out of 108 | elapsed:    0.3s finished\n",
      "[Parallel(n_jobs=-1)]: Using backend LokyBackend with 8 concurrent workers.\n"
     ]
    },
    {
     "name": "stdout",
     "output_type": "stream",
     "text": [
      "Starting Grid search for text model ...\n",
      "Fitting 3 folds for each of 36 candidates, totalling 108 fits\n"
     ]
    },
    {
     "name": "stderr",
     "output_type": "stream",
     "text": [
      "[Parallel(n_jobs=-1)]: Done   9 tasks      | elapsed:    0.2s\n",
      "[Parallel(n_jobs=-1)]: Done  93 out of 108 | elapsed:    0.5s remaining:    0.1s\n",
      "[Parallel(n_jobs=-1)]: Done 108 out of 108 | elapsed:    0.6s finished\n",
      " 35%|███▌      | 19/54 [00:08<00:18,  1.88it/s][Parallel(n_jobs=-1)]: Using backend LokyBackend with 8 concurrent workers.\n",
      "[Parallel(n_jobs=-1)]: Done  13 tasks      | elapsed:    0.1s\n"
     ]
    },
    {
     "name": "stdout",
     "output_type": "stream",
     "text": [
      "Starting Grid search for numerical model ...\n",
      "Fitting 3 folds for each of 24 candidates, totalling 72 fits\n",
      "Starting Grid search for text model ...\n",
      "Fitting 3 folds for each of 24 candidates, totalling 72 fits\n"
     ]
    },
    {
     "name": "stderr",
     "output_type": "stream",
     "text": [
      "[Parallel(n_jobs=-1)]: Done  72 out of  72 | elapsed:    0.2s finished\n",
      "[Parallel(n_jobs=-1)]: Using backend LokyBackend with 8 concurrent workers.\n",
      "[Parallel(n_jobs=-1)]: Done   9 tasks      | elapsed:    0.0s\n",
      "[Parallel(n_jobs=-1)]: Done  72 out of  72 | elapsed:    0.1s finished\n",
      " 37%|███▋      | 20/54 [00:09<00:16,  2.08it/s][Parallel(n_jobs=-1)]: Using backend LokyBackend with 8 concurrent workers.\n",
      "[Parallel(n_jobs=-1)]: Done   9 tasks      | elapsed:    0.0s\n",
      "[Parallel(n_jobs=-1)]: Done  31 out of  36 | elapsed:    0.1s remaining:    0.0s\n",
      "[Parallel(n_jobs=-1)]: Done  36 out of  36 | elapsed:    0.1s finished\n",
      "[Parallel(n_jobs=-1)]: Using backend LokyBackend with 8 concurrent workers.\n",
      "[Parallel(n_jobs=-1)]: Done   9 tasks      | elapsed:    0.0s\n",
      "[Parallel(n_jobs=-1)]: Done  31 out of  36 | elapsed:    0.1s remaining:    0.0s\n",
      "[Parallel(n_jobs=-1)]: Done  36 out of  36 | elapsed:    0.1s finished\n",
      " 39%|███▉      | 21/54 [00:09<00:12,  2.60it/s]"
     ]
    },
    {
     "name": "stdout",
     "output_type": "stream",
     "text": [
      "Starting Grid search for numerical model ...\n",
      "Fitting 3 folds for each of 12 candidates, totalling 36 fits\n",
      "Starting Grid search for text model ...\n",
      "Fitting 3 folds for each of 12 candidates, totalling 36 fits\n",
      "Starting Grid search for numerical model ...\n",
      "Fitting 3 folds for each of 36 candidates, totalling 108 fits\n"
     ]
    },
    {
     "name": "stderr",
     "output_type": "stream",
     "text": [
      "[Parallel(n_jobs=-1)]: Using backend LokyBackend with 8 concurrent workers.\n",
      "[Parallel(n_jobs=-1)]: Done   9 tasks      | elapsed:    0.1s\n",
      "[Parallel(n_jobs=-1)]: Done 108 out of 108 | elapsed:    0.3s finished\n",
      "[Parallel(n_jobs=-1)]: Using backend LokyBackend with 8 concurrent workers.\n"
     ]
    },
    {
     "name": "stdout",
     "output_type": "stream",
     "text": [
      "Starting Grid search for text model ...\n",
      "Fitting 3 folds for each of 36 candidates, totalling 108 fits\n"
     ]
    },
    {
     "name": "stderr",
     "output_type": "stream",
     "text": [
      "[Parallel(n_jobs=-1)]: Done  10 tasks      | elapsed:    0.2s\n",
      "[Parallel(n_jobs=-1)]: Done  93 out of 108 | elapsed:    0.5s remaining:    0.1s\n",
      "[Parallel(n_jobs=-1)]: Done 108 out of 108 | elapsed:    0.5s finished\n",
      " 41%|████      | 22/54 [00:10<00:18,  1.77it/s][Parallel(n_jobs=-1)]: Using backend LokyBackend with 8 concurrent workers.\n",
      "[Parallel(n_jobs=-1)]: Done  15 tasks      | elapsed:    0.0s\n"
     ]
    },
    {
     "name": "stdout",
     "output_type": "stream",
     "text": [
      "Starting Grid search for numerical model ...\n",
      "Fitting 3 folds for each of 24 candidates, totalling 72 fits\n",
      "Starting Grid search for text model ...\n",
      "Fitting 3 folds for each of 24 candidates, totalling 72 fits\n"
     ]
    },
    {
     "name": "stderr",
     "output_type": "stream",
     "text": [
      "[Parallel(n_jobs=-1)]: Done  72 out of  72 | elapsed:    0.1s finished\n",
      "[Parallel(n_jobs=-1)]: Using backend LokyBackend with 8 concurrent workers.\n",
      "[Parallel(n_jobs=-1)]: Done   9 tasks      | elapsed:    0.0s\n",
      "[Parallel(n_jobs=-1)]: Done  72 out of  72 | elapsed:    0.1s finished\n",
      " 43%|████▎     | 23/54 [00:10<00:14,  2.09it/s][Parallel(n_jobs=-1)]: Using backend LokyBackend with 8 concurrent workers.\n",
      "[Parallel(n_jobs=-1)]: Done   9 tasks      | elapsed:    0.0s\n",
      "[Parallel(n_jobs=-1)]: Done  36 out of  36 | elapsed:    0.0s finished\n",
      "/home/bigdata/anaconda3/lib/python3.8/site-packages/sklearn/svm/_base.py:976: ConvergenceWarning: Liblinear failed to converge, increase the number of iterations.\n",
      "  warnings.warn(\"Liblinear failed to converge, increase \"\n",
      "[Parallel(n_jobs=-1)]: Using backend LokyBackend with 8 concurrent workers.\n",
      "[Parallel(n_jobs=-1)]: Done   9 tasks      | elapsed:    0.0s\n",
      "[Parallel(n_jobs=-1)]: Done  36 out of  36 | elapsed:    0.1s finished\n",
      " 44%|████▍     | 24/54 [00:10<00:11,  2.64it/s][Parallel(n_jobs=-1)]: Using backend LokyBackend with 8 concurrent workers.\n"
     ]
    },
    {
     "name": "stdout",
     "output_type": "stream",
     "text": [
      "Starting Grid search for numerical model ...\n",
      "Fitting 3 folds for each of 12 candidates, totalling 36 fits\n",
      "Starting Grid search for text model ...\n",
      "Fitting 3 folds for each of 12 candidates, totalling 36 fits\n",
      "Starting Grid search for numerical model ...\n",
      "Fitting 3 folds for each of 36 candidates, totalling 108 fits\n"
     ]
    },
    {
     "name": "stderr",
     "output_type": "stream",
     "text": [
      "[Parallel(n_jobs=-1)]: Done   9 tasks      | elapsed:    0.1s\n",
      "[Parallel(n_jobs=-1)]: Done 108 out of 108 | elapsed:    0.3s finished\n",
      "[Parallel(n_jobs=-1)]: Using backend LokyBackend with 8 concurrent workers.\n"
     ]
    },
    {
     "name": "stdout",
     "output_type": "stream",
     "text": [
      "Starting Grid search for text model ...\n",
      "Fitting 3 folds for each of 36 candidates, totalling 108 fits\n"
     ]
    },
    {
     "name": "stderr",
     "output_type": "stream",
     "text": [
      "[Parallel(n_jobs=-1)]: Done   9 tasks      | elapsed:    0.1s\n",
      "[Parallel(n_jobs=-1)]: Done 108 out of 108 | elapsed:    0.5s finished\n",
      " 46%|████▋     | 25/54 [00:11<00:16,  1.78it/s][Parallel(n_jobs=-1)]: Using backend LokyBackend with 8 concurrent workers.\n",
      "[Parallel(n_jobs=-1)]: Done   9 tasks      | elapsed:    0.0s\n"
     ]
    },
    {
     "name": "stdout",
     "output_type": "stream",
     "text": [
      "Starting Grid search for numerical model ...\n",
      "Fitting 3 folds for each of 24 candidates, totalling 72 fits\n",
      "Starting Grid search for text model ...\n",
      "Fitting 3 folds for each of 24 candidates, totalling 72 fits\n"
     ]
    },
    {
     "name": "stderr",
     "output_type": "stream",
     "text": [
      "[Parallel(n_jobs=-1)]: Done  72 out of  72 | elapsed:    0.1s finished\n",
      "[Parallel(n_jobs=-1)]: Using backend LokyBackend with 8 concurrent workers.\n",
      "[Parallel(n_jobs=-1)]: Done   9 tasks      | elapsed:    0.0s\n",
      "[Parallel(n_jobs=-1)]: Done  72 out of  72 | elapsed:    0.1s finished\n",
      " 48%|████▊     | 26/54 [00:11<00:13,  2.10it/s][Parallel(n_jobs=-1)]: Using backend LokyBackend with 8 concurrent workers.\n",
      "[Parallel(n_jobs=-1)]: Done   9 tasks      | elapsed:    0.0s\n",
      "[Parallel(n_jobs=-1)]: Done  36 out of  36 | elapsed:    0.0s finished\n",
      "[Parallel(n_jobs=-1)]: Using backend LokyBackend with 8 concurrent workers.\n",
      "[Parallel(n_jobs=-1)]: Done   9 tasks      | elapsed:    0.0s\n",
      "[Parallel(n_jobs=-1)]: Done  36 out of  36 | elapsed:    0.1s finished\n",
      " 50%|█████     | 27/54 [00:12<00:10,  2.66it/s][Parallel(n_jobs=-1)]: Using backend LokyBackend with 8 concurrent workers.\n"
     ]
    },
    {
     "name": "stdout",
     "output_type": "stream",
     "text": [
      "Starting Grid search for numerical model ...\n",
      "Fitting 3 folds for each of 12 candidates, totalling 36 fits\n",
      "Starting Grid search for text model ...\n",
      "Fitting 3 folds for each of 12 candidates, totalling 36 fits\n",
      "Starting Grid search for numerical model ...\n",
      "Fitting 3 folds for each of 36 candidates, totalling 108 fits\n"
     ]
    },
    {
     "name": "stderr",
     "output_type": "stream",
     "text": [
      "[Parallel(n_jobs=-1)]: Done   9 tasks      | elapsed:    0.1s\n",
      "[Parallel(n_jobs=-1)]: Done  93 out of 108 | elapsed:    0.3s remaining:    0.0s\n",
      "[Parallel(n_jobs=-1)]: Done 108 out of 108 | elapsed:    0.3s finished\n",
      "[Parallel(n_jobs=-1)]: Using backend LokyBackend with 8 concurrent workers.\n",
      "[Parallel(n_jobs=-1)]: Done  10 tasks      | elapsed:    0.1s\n"
     ]
    },
    {
     "name": "stdout",
     "output_type": "stream",
     "text": [
      "Starting Grid search for text model ...\n",
      "Fitting 3 folds for each of 36 candidates, totalling 108 fits\n"
     ]
    },
    {
     "name": "stderr",
     "output_type": "stream",
     "text": [
      "[Parallel(n_jobs=-1)]: Done  93 out of 108 | elapsed:    0.5s remaining:    0.1s\n",
      "[Parallel(n_jobs=-1)]: Done 108 out of 108 | elapsed:    0.5s finished\n",
      " 52%|█████▏    | 28/54 [00:12<00:14,  1.85it/s][Parallel(n_jobs=-1)]: Using backend LokyBackend with 8 concurrent workers.\n",
      "[Parallel(n_jobs=-1)]: Done   9 tasks      | elapsed:    0.0s\n"
     ]
    },
    {
     "name": "stdout",
     "output_type": "stream",
     "text": [
      "Starting Grid search for numerical model ...\n",
      "Fitting 3 folds for each of 24 candidates, totalling 72 fits\n",
      "Starting Grid search for text model ...\n",
      "Fitting 3 folds for each of 24 candidates, totalling 72 fits\n"
     ]
    },
    {
     "name": "stderr",
     "output_type": "stream",
     "text": [
      "[Parallel(n_jobs=-1)]: Done  72 out of  72 | elapsed:    0.1s finished\n",
      "[Parallel(n_jobs=-1)]: Using backend LokyBackend with 8 concurrent workers.\n",
      "[Parallel(n_jobs=-1)]: Done   9 tasks      | elapsed:    0.0s\n",
      "[Parallel(n_jobs=-1)]: Done  72 out of  72 | elapsed:    0.1s finished\n",
      " 54%|█████▎    | 29/54 [00:13<00:11,  2.15it/s][Parallel(n_jobs=-1)]: Using backend LokyBackend with 8 concurrent workers.\n",
      "[Parallel(n_jobs=-1)]: Done   9 tasks      | elapsed:    0.0s\n",
      "[Parallel(n_jobs=-1)]: Done  36 out of  36 | elapsed:    0.1s finished\n",
      "[Parallel(n_jobs=-1)]: Using backend LokyBackend with 8 concurrent workers.\n",
      "[Parallel(n_jobs=-1)]: Done   9 tasks      | elapsed:    0.0s\n",
      "[Parallel(n_jobs=-1)]: Done  31 out of  36 | elapsed:    0.1s remaining:    0.0s\n",
      "[Parallel(n_jobs=-1)]: Done  36 out of  36 | elapsed:    0.1s finished\n",
      " 56%|█████▌    | 30/54 [00:13<00:09,  2.64it/s]"
     ]
    },
    {
     "name": "stdout",
     "output_type": "stream",
     "text": [
      "Starting Grid search for numerical model ...\n",
      "Fitting 3 folds for each of 12 candidates, totalling 36 fits\n",
      "Starting Grid search for text model ...\n",
      "Fitting 3 folds for each of 12 candidates, totalling 36 fits\n",
      "Starting Grid search for numerical model ...\n",
      "Fitting 3 folds for each of 36 candidates, totalling 108 fits\n"
     ]
    },
    {
     "name": "stderr",
     "output_type": "stream",
     "text": [
      "[Parallel(n_jobs=-1)]: Using backend LokyBackend with 8 concurrent workers.\n",
      "[Parallel(n_jobs=-1)]: Done   9 tasks      | elapsed:    0.1s\n",
      "[Parallel(n_jobs=-1)]: Done 108 out of 108 | elapsed:    0.3s finished\n",
      "[Parallel(n_jobs=-1)]: Using backend LokyBackend with 8 concurrent workers.\n",
      "[Parallel(n_jobs=-1)]: Done   9 tasks      | elapsed:    0.1s\n"
     ]
    },
    {
     "name": "stdout",
     "output_type": "stream",
     "text": [
      "Starting Grid search for text model ...\n",
      "Fitting 3 folds for each of 36 candidates, totalling 108 fits\n"
     ]
    },
    {
     "name": "stderr",
     "output_type": "stream",
     "text": [
      "[Parallel(n_jobs=-1)]: Done 108 out of 108 | elapsed:    0.3s finished\n",
      " 57%|█████▋    | 31/54 [00:14<00:11,  2.08it/s][Parallel(n_jobs=-1)]: Using backend LokyBackend with 8 concurrent workers.\n",
      "[Parallel(n_jobs=-1)]: Done  10 tasks      | elapsed:    0.0s\n"
     ]
    },
    {
     "name": "stdout",
     "output_type": "stream",
     "text": [
      "Starting Grid search for numerical model ...\n",
      "Fitting 3 folds for each of 24 candidates, totalling 72 fits\n",
      "Starting Grid search for text model ...\n",
      "Fitting 3 folds for each of 24 candidates, totalling 72 fits\n"
     ]
    },
    {
     "name": "stderr",
     "output_type": "stream",
     "text": [
      "[Parallel(n_jobs=-1)]: Done  72 out of  72 | elapsed:    0.2s finished\n",
      "[Parallel(n_jobs=-1)]: Using backend LokyBackend with 8 concurrent workers.\n",
      "[Parallel(n_jobs=-1)]: Done   9 tasks      | elapsed:    0.0s\n",
      "[Parallel(n_jobs=-1)]: Done  72 out of  72 | elapsed:    0.1s finished\n",
      " 59%|█████▉    | 32/54 [00:14<00:09,  2.37it/s][Parallel(n_jobs=-1)]: Using backend LokyBackend with 8 concurrent workers.\n",
      "[Parallel(n_jobs=-1)]: Done   9 tasks      | elapsed:    0.0s\n",
      "[Parallel(n_jobs=-1)]: Done  31 out of  36 | elapsed:    0.0s remaining:    0.0s\n",
      "[Parallel(n_jobs=-1)]: Done  36 out of  36 | elapsed:    0.0s finished\n",
      "[Parallel(n_jobs=-1)]: Using backend LokyBackend with 8 concurrent workers.\n",
      "[Parallel(n_jobs=-1)]: Done   9 tasks      | elapsed:    0.0s\n",
      "[Parallel(n_jobs=-1)]: Done  31 out of  36 | elapsed:    0.0s remaining:    0.0s\n",
      "[Parallel(n_jobs=-1)]: Done  36 out of  36 | elapsed:    0.0s finished\n",
      " 61%|██████    | 33/54 [00:14<00:07,  2.97it/s][Parallel(n_jobs=-1)]: Using backend LokyBackend with 8 concurrent workers.\n"
     ]
    },
    {
     "name": "stdout",
     "output_type": "stream",
     "text": [
      "Starting Grid search for numerical model ...\n",
      "Fitting 3 folds for each of 12 candidates, totalling 36 fits\n",
      "Starting Grid search for text model ...\n",
      "Fitting 3 folds for each of 12 candidates, totalling 36 fits\n",
      "Starting Grid search for numerical model ...\n",
      "Fitting 3 folds for each of 36 candidates, totalling 108 fits\n"
     ]
    },
    {
     "name": "stderr",
     "output_type": "stream",
     "text": [
      "[Parallel(n_jobs=-1)]: Done   9 tasks      | elapsed:    0.1s\n",
      "[Parallel(n_jobs=-1)]: Done 108 out of 108 | elapsed:    0.2s finished\n",
      "[Parallel(n_jobs=-1)]: Using backend LokyBackend with 8 concurrent workers.\n",
      "[Parallel(n_jobs=-1)]: Done   9 tasks      | elapsed:    0.1s\n"
     ]
    },
    {
     "name": "stdout",
     "output_type": "stream",
     "text": [
      "Starting Grid search for text model ...\n",
      "Fitting 3 folds for each of 36 candidates, totalling 108 fits\n"
     ]
    },
    {
     "name": "stderr",
     "output_type": "stream",
     "text": [
      "[Parallel(n_jobs=-1)]: Done 108 out of 108 | elapsed:    0.3s finished\n",
      " 63%|██████▎   | 34/54 [00:15<00:08,  2.32it/s][Parallel(n_jobs=-1)]: Using backend LokyBackend with 8 concurrent workers.\n",
      "[Parallel(n_jobs=-1)]: Done  10 tasks      | elapsed:    0.0s\n"
     ]
    },
    {
     "name": "stdout",
     "output_type": "stream",
     "text": [
      "Starting Grid search for numerical model ...\n",
      "Fitting 3 folds for each of 24 candidates, totalling 72 fits\n",
      "Starting Grid search for text model ...\n",
      "Fitting 3 folds for each of 24 candidates, totalling 72 fits\n"
     ]
    },
    {
     "name": "stderr",
     "output_type": "stream",
     "text": [
      "[Parallel(n_jobs=-1)]: Done  72 out of  72 | elapsed:    0.1s finished\n",
      "[Parallel(n_jobs=-1)]: Using backend LokyBackend with 8 concurrent workers.\n",
      "[Parallel(n_jobs=-1)]: Done   9 tasks      | elapsed:    0.0s\n",
      "[Parallel(n_jobs=-1)]: Done  72 out of  72 | elapsed:    0.1s finished\n",
      " 65%|██████▍   | 35/54 [00:15<00:07,  2.54it/s][Parallel(n_jobs=-1)]: Using backend LokyBackend with 8 concurrent workers.\n",
      "[Parallel(n_jobs=-1)]: Done   9 tasks      | elapsed:    0.0s\n",
      "[Parallel(n_jobs=-1)]: Done  21 out of  36 | elapsed:    0.0s remaining:    0.0s\n",
      "[Parallel(n_jobs=-1)]: Done  31 out of  36 | elapsed:    0.0s remaining:    0.0s\n",
      "[Parallel(n_jobs=-1)]: Done  36 out of  36 | elapsed:    0.0s finished\n",
      "[Parallel(n_jobs=-1)]: Using backend LokyBackend with 8 concurrent workers.\n",
      "[Parallel(n_jobs=-1)]: Done   9 tasks      | elapsed:    0.0s\n",
      "[Parallel(n_jobs=-1)]: Done  21 out of  36 | elapsed:    0.0s remaining:    0.0s\n",
      "[Parallel(n_jobs=-1)]: Done  36 out of  36 | elapsed:    0.0s finished\n",
      " 67%|██████▋   | 36/54 [00:15<00:05,  3.22it/s][Parallel(n_jobs=-1)]: Using backend LokyBackend with 8 concurrent workers.\n"
     ]
    },
    {
     "name": "stdout",
     "output_type": "stream",
     "text": [
      "Starting Grid search for numerical model ...\n",
      "Fitting 3 folds for each of 12 candidates, totalling 36 fits\n",
      "Starting Grid search for text model ...\n",
      "Fitting 3 folds for each of 12 candidates, totalling 36 fits\n",
      "Starting Grid search for numerical model ...\n",
      "Fitting 3 folds for each of 36 candidates, totalling 108 fits\n"
     ]
    },
    {
     "name": "stderr",
     "output_type": "stream",
     "text": [
      "[Parallel(n_jobs=-1)]: Done   9 tasks      | elapsed:    0.1s\n",
      "[Parallel(n_jobs=-1)]: Done 108 out of 108 | elapsed:    0.3s finished\n",
      "[Parallel(n_jobs=-1)]: Using backend LokyBackend with 8 concurrent workers.\n",
      "[Parallel(n_jobs=-1)]: Done   9 tasks      | elapsed:    0.1s\n"
     ]
    },
    {
     "name": "stdout",
     "output_type": "stream",
     "text": [
      "Starting Grid search for text model ...\n",
      "Fitting 3 folds for each of 36 candidates, totalling 108 fits\n"
     ]
    },
    {
     "name": "stderr",
     "output_type": "stream",
     "text": [
      "[Parallel(n_jobs=-1)]: Done  93 out of 108 | elapsed:    0.3s remaining:    0.1s\n",
      "[Parallel(n_jobs=-1)]: Done 108 out of 108 | elapsed:    0.3s finished\n",
      " 69%|██████▊   | 37/54 [00:16<00:07,  2.28it/s][Parallel(n_jobs=-1)]: Using backend LokyBackend with 8 concurrent workers.\n",
      "[Parallel(n_jobs=-1)]: Done   9 tasks      | elapsed:    0.0s\n",
      "[Parallel(n_jobs=-1)]: Done  72 out of  72 | elapsed:    0.1s finished\n",
      "[Parallel(n_jobs=-1)]: Using backend LokyBackend with 8 concurrent workers.\n"
     ]
    },
    {
     "name": "stdout",
     "output_type": "stream",
     "text": [
      "Starting Grid search for numerical model ...\n",
      "Fitting 3 folds for each of 24 candidates, totalling 72 fits\n",
      "Starting Grid search for text model ...\n",
      "Fitting 3 folds for each of 24 candidates, totalling 72 fits\n"
     ]
    },
    {
     "name": "stderr",
     "output_type": "stream",
     "text": [
      "[Parallel(n_jobs=-1)]: Done   5 tasks      | elapsed:    0.0s\n",
      "[Parallel(n_jobs=-1)]: Done  57 out of  72 | elapsed:    0.1s remaining:    0.0s\n",
      "[Parallel(n_jobs=-1)]: Done  72 out of  72 | elapsed:    0.1s finished\n",
      " 70%|███████   | 38/54 [00:16<00:06,  2.62it/s][Parallel(n_jobs=-1)]: Using backend LokyBackend with 8 concurrent workers.\n",
      "[Parallel(n_jobs=-1)]: Done   9 tasks      | elapsed:    0.0s\n",
      "[Parallel(n_jobs=-1)]: Done  31 out of  36 | elapsed:    0.0s remaining:    0.0s\n",
      "[Parallel(n_jobs=-1)]: Done  36 out of  36 | elapsed:    0.0s finished\n",
      "[Parallel(n_jobs=-1)]: Using backend LokyBackend with 8 concurrent workers.\n",
      "[Parallel(n_jobs=-1)]: Done   9 tasks      | elapsed:    0.0s\n",
      "[Parallel(n_jobs=-1)]: Done  31 out of  36 | elapsed:    0.0s remaining:    0.0s\n",
      "[Parallel(n_jobs=-1)]: Done  36 out of  36 | elapsed:    0.0s finished\n",
      " 72%|███████▏  | 39/54 [00:16<00:04,  3.32it/s][Parallel(n_jobs=-1)]: Using backend LokyBackend with 8 concurrent workers.\n"
     ]
    },
    {
     "name": "stdout",
     "output_type": "stream",
     "text": [
      "Starting Grid search for numerical model ...\n",
      "Fitting 3 folds for each of 12 candidates, totalling 36 fits\n",
      "Starting Grid search for text model ...\n",
      "Fitting 3 folds for each of 12 candidates, totalling 36 fits\n",
      "Starting Grid search for numerical model ...\n",
      "Fitting 3 folds for each of 36 candidates, totalling 108 fits\n"
     ]
    },
    {
     "name": "stderr",
     "output_type": "stream",
     "text": [
      "[Parallel(n_jobs=-1)]: Done   9 tasks      | elapsed:    0.1s\n",
      "[Parallel(n_jobs=-1)]: Done 108 out of 108 | elapsed:    0.3s finished\n",
      "[Parallel(n_jobs=-1)]: Using backend LokyBackend with 8 concurrent workers.\n",
      "[Parallel(n_jobs=-1)]: Done   9 tasks      | elapsed:    0.1s\n"
     ]
    },
    {
     "name": "stdout",
     "output_type": "stream",
     "text": [
      "Starting Grid search for text model ...\n",
      "Fitting 3 folds for each of 36 candidates, totalling 108 fits\n"
     ]
    },
    {
     "name": "stderr",
     "output_type": "stream",
     "text": [
      "[Parallel(n_jobs=-1)]: Done 108 out of 108 | elapsed:    0.3s finished\n",
      " 74%|███████▍  | 40/54 [00:17<00:05,  2.42it/s][Parallel(n_jobs=-1)]: Using backend LokyBackend with 8 concurrent workers.\n",
      "[Parallel(n_jobs=-1)]: Done   9 tasks      | elapsed:    0.0s\n"
     ]
    },
    {
     "name": "stdout",
     "output_type": "stream",
     "text": [
      "Starting Grid search for numerical model ...\n",
      "Fitting 3 folds for each of 24 candidates, totalling 72 fits\n",
      "Starting Grid search for text model ...\n",
      "Fitting 3 folds for each of 24 candidates, totalling 72 fits\n"
     ]
    },
    {
     "name": "stderr",
     "output_type": "stream",
     "text": [
      "[Parallel(n_jobs=-1)]: Done  72 out of  72 | elapsed:    0.1s finished\n",
      "[Parallel(n_jobs=-1)]: Using backend LokyBackend with 8 concurrent workers.\n",
      "[Parallel(n_jobs=-1)]: Done   9 tasks      | elapsed:    0.0s\n",
      "[Parallel(n_jobs=-1)]: Done  72 out of  72 | elapsed:    0.1s finished\n",
      "/home/bigdata/anaconda3/lib/python3.8/site-packages/sklearn/linear_model/_stochastic_gradient.py:570: ConvergenceWarning: Maximum number of iteration reached before convergence. Consider increasing max_iter to improve the fit.\n",
      "  warnings.warn(\"Maximum number of iteration reached before \"\n",
      " 76%|███████▌  | 41/54 [00:17<00:04,  2.62it/s][Parallel(n_jobs=-1)]: Using backend LokyBackend with 8 concurrent workers.\n",
      "[Parallel(n_jobs=-1)]: Done   9 tasks      | elapsed:    0.0s\n",
      "[Parallel(n_jobs=-1)]: Done  21 out of  36 | elapsed:    0.0s remaining:    0.0s\n",
      "[Parallel(n_jobs=-1)]: Done  36 out of  36 | elapsed:    0.0s finished\n",
      "[Parallel(n_jobs=-1)]: Using backend LokyBackend with 8 concurrent workers.\n",
      "[Parallel(n_jobs=-1)]: Done   9 tasks      | elapsed:    0.0s\n",
      "[Parallel(n_jobs=-1)]: Done  21 out of  36 | elapsed:    0.0s remaining:    0.0s\n",
      "[Parallel(n_jobs=-1)]: Done  36 out of  36 | elapsed:    0.0s finished\n",
      " 78%|███████▊  | 42/54 [00:17<00:03,  3.31it/s][Parallel(n_jobs=-1)]: Using backend LokyBackend with 8 concurrent workers.\n"
     ]
    },
    {
     "name": "stdout",
     "output_type": "stream",
     "text": [
      "Starting Grid search for numerical model ...\n",
      "Fitting 3 folds for each of 12 candidates, totalling 36 fits\n",
      "Starting Grid search for text model ...\n",
      "Fitting 3 folds for each of 12 candidates, totalling 36 fits\n",
      "Starting Grid search for numerical model ...\n",
      "Fitting 3 folds for each of 36 candidates, totalling 108 fits\n"
     ]
    },
    {
     "name": "stderr",
     "output_type": "stream",
     "text": [
      "[Parallel(n_jobs=-1)]: Done   9 tasks      | elapsed:    0.0s\n",
      "[Parallel(n_jobs=-1)]: Done 108 out of 108 | elapsed:    0.2s finished\n",
      "[Parallel(n_jobs=-1)]: Using backend LokyBackend with 8 concurrent workers.\n",
      "[Parallel(n_jobs=-1)]: Done  11 tasks      | elapsed:    0.1s\n"
     ]
    },
    {
     "name": "stdout",
     "output_type": "stream",
     "text": [
      "Starting Grid search for text model ...\n",
      "Fitting 3 folds for each of 36 candidates, totalling 108 fits\n"
     ]
    },
    {
     "name": "stderr",
     "output_type": "stream",
     "text": [
      "[Parallel(n_jobs=-1)]: Done 108 out of 108 | elapsed:    0.4s finished\n",
      " 80%|███████▉  | 43/54 [00:18<00:04,  2.33it/s][Parallel(n_jobs=-1)]: Using backend LokyBackend with 8 concurrent workers.\n",
      "[Parallel(n_jobs=-1)]: Done   9 tasks      | elapsed:    0.0s\n",
      "[Parallel(n_jobs=-1)]: Done  72 out of  72 | elapsed:    0.1s finished\n",
      "[Parallel(n_jobs=-1)]: Using backend LokyBackend with 8 concurrent workers.\n",
      "[Parallel(n_jobs=-1)]: Done   9 tasks      | elapsed:    0.0s\n",
      "[Parallel(n_jobs=-1)]: Done  72 out of  72 | elapsed:    0.1s finished\n",
      " 81%|████████▏ | 44/54 [00:18<00:03,  2.69it/s]"
     ]
    },
    {
     "name": "stdout",
     "output_type": "stream",
     "text": [
      "Starting Grid search for numerical model ...\n",
      "Fitting 3 folds for each of 24 candidates, totalling 72 fits\n",
      "Starting Grid search for text model ...\n",
      "Fitting 3 folds for each of 24 candidates, totalling 72 fits\n"
     ]
    },
    {
     "name": "stderr",
     "output_type": "stream",
     "text": [
      "[Parallel(n_jobs=-1)]: Using backend LokyBackend with 8 concurrent workers.\n",
      "[Parallel(n_jobs=-1)]: Done   9 tasks      | elapsed:    0.0s\n",
      "[Parallel(n_jobs=-1)]: Done  36 out of  36 | elapsed:    0.0s finished\n",
      "[Parallel(n_jobs=-1)]: Using backend LokyBackend with 8 concurrent workers.\n",
      "[Parallel(n_jobs=-1)]: Done   9 tasks      | elapsed:    0.0s\n",
      "[Parallel(n_jobs=-1)]: Done  31 out of  36 | elapsed:    0.1s remaining:    0.0s\n",
      "[Parallel(n_jobs=-1)]: Done  36 out of  36 | elapsed:    0.1s finished\n",
      " 83%|████████▎ | 45/54 [00:18<00:02,  3.29it/s]"
     ]
    },
    {
     "name": "stdout",
     "output_type": "stream",
     "text": [
      "Starting Grid search for numerical model ...\n",
      "Fitting 3 folds for each of 12 candidates, totalling 36 fits\n",
      "Starting Grid search for text model ...\n",
      "Fitting 3 folds for each of 12 candidates, totalling 36 fits\n",
      "Starting Grid search for numerical model ...\n",
      "Fitting 3 folds for each of 36 candidates, totalling 108 fits\n"
     ]
    },
    {
     "name": "stderr",
     "output_type": "stream",
     "text": [
      "[Parallel(n_jobs=-1)]: Using backend LokyBackend with 8 concurrent workers.\n",
      "[Parallel(n_jobs=-1)]: Done   9 tasks      | elapsed:    0.0s\n",
      "[Parallel(n_jobs=-1)]: Done 108 out of 108 | elapsed:    0.2s finished\n",
      "[Parallel(n_jobs=-1)]: Using backend LokyBackend with 8 concurrent workers.\n",
      "[Parallel(n_jobs=-1)]: Done  10 tasks      | elapsed:    0.1s\n"
     ]
    },
    {
     "name": "stdout",
     "output_type": "stream",
     "text": [
      "Starting Grid search for text model ...\n",
      "Fitting 3 folds for each of 36 candidates, totalling 108 fits\n"
     ]
    },
    {
     "name": "stderr",
     "output_type": "stream",
     "text": [
      "[Parallel(n_jobs=-1)]: Done 108 out of 108 | elapsed:    0.3s finished\n",
      " 85%|████████▌ | 46/54 [00:19<00:03,  2.35it/s][Parallel(n_jobs=-1)]: Using backend LokyBackend with 8 concurrent workers.\n",
      "[Parallel(n_jobs=-1)]: Done  10 tasks      | elapsed:    0.0s\n"
     ]
    },
    {
     "name": "stdout",
     "output_type": "stream",
     "text": [
      "Starting Grid search for numerical model ...\n",
      "Fitting 3 folds for each of 24 candidates, totalling 72 fits\n",
      "Starting Grid search for text model ...\n",
      "Fitting 3 folds for each of 24 candidates, totalling 72 fits\n"
     ]
    },
    {
     "name": "stderr",
     "output_type": "stream",
     "text": [
      "[Parallel(n_jobs=-1)]: Done  72 out of  72 | elapsed:    0.1s finished\n",
      "[Parallel(n_jobs=-1)]: Using backend LokyBackend with 8 concurrent workers.\n",
      "[Parallel(n_jobs=-1)]: Done   9 tasks      | elapsed:    0.0s\n",
      "[Parallel(n_jobs=-1)]: Done  72 out of  72 | elapsed:    0.1s finished\n",
      " 87%|████████▋ | 47/54 [00:19<00:02,  2.59it/s][Parallel(n_jobs=-1)]: Using backend LokyBackend with 8 concurrent workers.\n",
      "[Parallel(n_jobs=-1)]: Done   9 tasks      | elapsed:    0.0s\n",
      "[Parallel(n_jobs=-1)]: Done  36 out of  36 | elapsed:    0.0s finished\n",
      "[Parallel(n_jobs=-1)]: Using backend LokyBackend with 8 concurrent workers.\n",
      "[Parallel(n_jobs=-1)]: Done   9 tasks      | elapsed:    0.0s\n",
      "[Parallel(n_jobs=-1)]: Done  31 out of  36 | elapsed:    0.0s remaining:    0.0s\n",
      "[Parallel(n_jobs=-1)]: Done  36 out of  36 | elapsed:    0.0s finished\n",
      " 89%|████████▉ | 48/54 [00:20<00:01,  3.20it/s][Parallel(n_jobs=-1)]: Using backend LokyBackend with 8 concurrent workers.\n"
     ]
    },
    {
     "name": "stdout",
     "output_type": "stream",
     "text": [
      "Starting Grid search for numerical model ...\n",
      "Fitting 3 folds for each of 12 candidates, totalling 36 fits\n",
      "Starting Grid search for text model ...\n",
      "Fitting 3 folds for each of 12 candidates, totalling 36 fits\n",
      "Starting Grid search for numerical model ...\n",
      "Fitting 3 folds for each of 36 candidates, totalling 108 fits\n"
     ]
    },
    {
     "name": "stderr",
     "output_type": "stream",
     "text": [
      "[Parallel(n_jobs=-1)]: Done   9 tasks      | elapsed:    0.1s\n",
      "[Parallel(n_jobs=-1)]: Done 108 out of 108 | elapsed:    0.3s finished\n",
      "[Parallel(n_jobs=-1)]: Using backend LokyBackend with 8 concurrent workers.\n",
      "[Parallel(n_jobs=-1)]: Done   9 tasks      | elapsed:    0.1s\n"
     ]
    },
    {
     "name": "stdout",
     "output_type": "stream",
     "text": [
      "Starting Grid search for text model ...\n",
      "Fitting 3 folds for each of 36 candidates, totalling 108 fits\n"
     ]
    },
    {
     "name": "stderr",
     "output_type": "stream",
     "text": [
      "[Parallel(n_jobs=-1)]: Done 108 out of 108 | elapsed:    0.2s finished\n",
      " 91%|█████████ | 49/54 [00:20<00:02,  2.41it/s][Parallel(n_jobs=-1)]: Using backend LokyBackend with 8 concurrent workers.\n",
      "[Parallel(n_jobs=-1)]: Done   9 tasks      | elapsed:    0.0s\n",
      "[Parallel(n_jobs=-1)]: Done  72 out of  72 | elapsed:    0.1s finished\n",
      "[Parallel(n_jobs=-1)]: Using backend LokyBackend with 8 concurrent workers.\n"
     ]
    },
    {
     "name": "stdout",
     "output_type": "stream",
     "text": [
      "Starting Grid search for numerical model ...\n",
      "Fitting 3 folds for each of 24 candidates, totalling 72 fits\n",
      "Starting Grid search for text model ...\n",
      "Fitting 3 folds for each of 24 candidates, totalling 72 fits\n"
     ]
    },
    {
     "name": "stderr",
     "output_type": "stream",
     "text": [
      "[Parallel(n_jobs=-1)]: Done  12 tasks      | elapsed:    0.0s\n",
      "[Parallel(n_jobs=-1)]: Done  72 out of  72 | elapsed:    0.1s finished\n",
      " 93%|█████████▎| 50/54 [00:21<00:01,  2.67it/s][Parallel(n_jobs=-1)]: Using backend LokyBackend with 8 concurrent workers.\n",
      "[Parallel(n_jobs=-1)]: Done   9 tasks      | elapsed:    0.0s\n",
      "[Parallel(n_jobs=-1)]: Done  31 out of  36 | elapsed:    0.0s remaining:    0.0s\n",
      "[Parallel(n_jobs=-1)]: Done  36 out of  36 | elapsed:    0.0s finished\n",
      "[Parallel(n_jobs=-1)]: Using backend LokyBackend with 8 concurrent workers.\n",
      "[Parallel(n_jobs=-1)]: Done   9 tasks      | elapsed:    0.0s\n",
      "[Parallel(n_jobs=-1)]: Done  36 out of  36 | elapsed:    0.0s finished\n",
      " 94%|█████████▍| 51/54 [00:21<00:00,  3.35it/s][Parallel(n_jobs=-1)]: Using backend LokyBackend with 8 concurrent workers.\n"
     ]
    },
    {
     "name": "stdout",
     "output_type": "stream",
     "text": [
      "Starting Grid search for numerical model ...\n",
      "Fitting 3 folds for each of 12 candidates, totalling 36 fits\n",
      "Starting Grid search for text model ...\n",
      "Fitting 3 folds for each of 12 candidates, totalling 36 fits\n",
      "Starting Grid search for numerical model ...\n",
      "Fitting 3 folds for each of 36 candidates, totalling 108 fits\n"
     ]
    },
    {
     "name": "stderr",
     "output_type": "stream",
     "text": [
      "[Parallel(n_jobs=-1)]: Done   9 tasks      | elapsed:    0.1s\n",
      "[Parallel(n_jobs=-1)]: Done 108 out of 108 | elapsed:    0.3s finished\n",
      "[Parallel(n_jobs=-1)]: Using backend LokyBackend with 8 concurrent workers.\n",
      "[Parallel(n_jobs=-1)]: Done   9 tasks      | elapsed:    0.1s\n"
     ]
    },
    {
     "name": "stdout",
     "output_type": "stream",
     "text": [
      "Starting Grid search for text model ...\n",
      "Fitting 3 folds for each of 36 candidates, totalling 108 fits\n"
     ]
    },
    {
     "name": "stderr",
     "output_type": "stream",
     "text": [
      "[Parallel(n_jobs=-1)]: Done 108 out of 108 | elapsed:    0.3s finished\n",
      " 96%|█████████▋| 52/54 [00:21<00:00,  2.42it/s][Parallel(n_jobs=-1)]: Using backend LokyBackend with 8 concurrent workers.\n",
      "[Parallel(n_jobs=-1)]: Done   9 tasks      | elapsed:    0.0s\n"
     ]
    },
    {
     "name": "stdout",
     "output_type": "stream",
     "text": [
      "Starting Grid search for numerical model ...\n",
      "Fitting 3 folds for each of 24 candidates, totalling 72 fits\n",
      "Starting Grid search for text model ...\n",
      "Fitting 3 folds for each of 24 candidates, totalling 72 fits\n"
     ]
    },
    {
     "name": "stderr",
     "output_type": "stream",
     "text": [
      "[Parallel(n_jobs=-1)]: Done  72 out of  72 | elapsed:    0.1s finished\n",
      "[Parallel(n_jobs=-1)]: Using backend LokyBackend with 8 concurrent workers.\n",
      "[Parallel(n_jobs=-1)]: Done   9 tasks      | elapsed:    0.0s\n",
      "[Parallel(n_jobs=-1)]: Done  72 out of  72 | elapsed:    0.1s finished\n",
      " 98%|█████████▊| 53/54 [00:22<00:00,  2.67it/s][Parallel(n_jobs=-1)]: Using backend LokyBackend with 8 concurrent workers.\n",
      "[Parallel(n_jobs=-1)]: Done   9 tasks      | elapsed:    0.0s\n",
      "[Parallel(n_jobs=-1)]: Done  36 out of  36 | elapsed:    0.0s finished\n",
      "[Parallel(n_jobs=-1)]: Using backend LokyBackend with 8 concurrent workers.\n",
      "[Parallel(n_jobs=-1)]: Done   9 tasks      | elapsed:    0.0s\n",
      "[Parallel(n_jobs=-1)]: Done  31 out of  36 | elapsed:    0.0s remaining:    0.0s\n",
      "[Parallel(n_jobs=-1)]: Done  36 out of  36 | elapsed:    0.0s finished\n",
      "100%|██████████| 54/54 [00:22<00:00,  2.43it/s]"
     ]
    },
    {
     "name": "stdout",
     "output_type": "stream",
     "text": [
      "Starting Grid search for numerical model ...\n",
      "Fitting 3 folds for each of 12 candidates, totalling 36 fits\n",
      "Starting Grid search for text model ...\n",
      "Fitting 3 folds for each of 12 candidates, totalling 36 fits\n"
     ]
    },
    {
     "name": "stderr",
     "output_type": "stream",
     "text": [
      "\n"
     ]
    }
   ],
   "source": [
    "# Split the data into  X and y\n",
    "X,y = df_filtered.drop(target_variable, axis=1), df_filtered[target_variable]\n",
    "\n",
    "case_gender = {\"target_type\": \"classification\",\n",
    "               \"target_variable\": \"gender\",\n",
    "               \"grid_search_metric\": \"accuracy\",\n",
    "               \"text_features\": \"text_preprocessed\",\n",
    "               \"categorial_variables\": [\"topic\",\"sign\"],\n",
    "               \"min_df_exponents\" : [(1/4), (1/3), (1/2)],\n",
    "               \"n_gram_range\" : [(1,1), (1,2), (2,2)],\n",
    "               \"use_tfidf\": [True, False],\n",
    "               \"ml_algorithms_params\": [(XGBClassifier,\n",
    "                                   {'learning_rate': [0.1, 0.8, 1, 1.2],\n",
    "                                   'max_depth': [7, 8, 9],\n",
    "                                   'n_estimators': [400, 600, 800]}),\n",
    "                                  \n",
    "                                  (SGDClassifier,\n",
    "                                   {\"loss\": [\"hinge\", \"log\", \"modified_huber\", \"squared_hinge\"],\n",
    "                                   \"penalty\": [\"l2\", \"l1\", \"elasticnet\"],\n",
    "                                   \"alpha\": [0.00001, 0.001]}),\n",
    "                                  \n",
    "                                  (LinearSVC,{\"penalty\": [\"l1\", \"l2\"],\n",
    "                                   \"loss\": [\"hinge\", \"squared_hinge\"],\n",
    "                                   \"C\": [0.8, 1, 1.2]})]\n",
    "              }\n",
    "\n",
    "                  \n",
    "versions_gender = get_cartesian(case_gender)\n",
    "results = process_versions(transformation, versions_gender, X, y)"
   ]
  },
  {
   "cell_type": "markdown",
   "metadata": {},
   "source": [
    "### Testing stuff "
   ]
  },
  {
   "cell_type": "code",
   "execution_count": 30,
   "metadata": {},
   "outputs": [
    {
     "name": "stderr",
     "output_type": "stream",
     "text": [
      "  0%|          | 0/54 [00:00<?, ?it/s][Parallel(n_jobs=-1)]: Using backend LokyBackend with 8 concurrent workers.\n",
      "[Parallel(n_jobs=-1)]: Done   9 tasks      | elapsed:    0.1s\n"
     ]
    },
    {
     "name": "stdout",
     "output_type": "stream",
     "text": [
      "Starting Grid search for numerical model ...\n",
      "Fitting 3 folds for each of 36 candidates, totalling 108 fits\n"
     ]
    },
    {
     "name": "stderr",
     "output_type": "stream",
     "text": [
      "[Parallel(n_jobs=-1)]: Done 108 out of 108 | elapsed:    0.3s finished\n",
      "[Parallel(n_jobs=-1)]: Using backend LokyBackend with 8 concurrent workers.\n",
      "[Parallel(n_jobs=-1)]: Done   9 tasks      | elapsed:    0.1s\n"
     ]
    },
    {
     "name": "stdout",
     "output_type": "stream",
     "text": [
      "Starting Grid search for text model ...\n",
      "Fitting 3 folds for each of 36 candidates, totalling 108 fits\n"
     ]
    },
    {
     "name": "stderr",
     "output_type": "stream",
     "text": [
      "[Parallel(n_jobs=-1)]: Done 108 out of 108 | elapsed:    0.5s finished\n",
      "  2%|▏         | 1/54 [00:00<00:46,  1.14it/s][Parallel(n_jobs=-1)]: Using backend LokyBackend with 8 concurrent workers.\n",
      "[Parallel(n_jobs=-1)]: Done   9 tasks      | elapsed:    0.0s\n",
      "[Parallel(n_jobs=-1)]: Done  72 out of  72 | elapsed:    0.1s finished\n",
      "[Parallel(n_jobs=-1)]: Using backend LokyBackend with 8 concurrent workers.\n"
     ]
    },
    {
     "name": "stdout",
     "output_type": "stream",
     "text": [
      "Starting Grid search for numerical model ...\n",
      "Fitting 3 folds for each of 24 candidates, totalling 72 fits\n",
      "Starting Grid search for text model ...\n",
      "Fitting 3 folds for each of 24 candidates, totalling 72 fits\n"
     ]
    },
    {
     "name": "stderr",
     "output_type": "stream",
     "text": [
      "[Parallel(n_jobs=-1)]: Done   9 tasks      | elapsed:    0.0s\n",
      "[Parallel(n_jobs=-1)]: Done  57 out of  72 | elapsed:    0.1s remaining:    0.0s\n",
      "[Parallel(n_jobs=-1)]: Done  72 out of  72 | elapsed:    0.1s finished\n",
      "  4%|▎         | 2/54 [00:01<00:36,  1.43it/s][Parallel(n_jobs=-1)]: Using backend LokyBackend with 8 concurrent workers.\n",
      "[Parallel(n_jobs=-1)]: Done   9 tasks      | elapsed:    0.0s\n",
      "[Parallel(n_jobs=-1)]: Done  21 out of  36 | elapsed:    0.0s remaining:    0.0s\n",
      "[Parallel(n_jobs=-1)]: Done  31 out of  36 | elapsed:    0.0s remaining:    0.0s\n",
      "[Parallel(n_jobs=-1)]: Done  36 out of  36 | elapsed:    0.0s finished\n",
      "[Parallel(n_jobs=-1)]: Using backend LokyBackend with 8 concurrent workers.\n",
      "[Parallel(n_jobs=-1)]: Done   9 tasks      | elapsed:    0.0s\n",
      "[Parallel(n_jobs=-1)]: Done  21 out of  36 | elapsed:    0.0s remaining:    0.0s\n",
      "[Parallel(n_jobs=-1)]: Done  31 out of  36 | elapsed:    0.0s remaining:    0.0s\n",
      "[Parallel(n_jobs=-1)]: Done  36 out of  36 | elapsed:    0.0s finished\n",
      "  6%|▌         | 3/54 [00:01<00:27,  1.89it/s][Parallel(n_jobs=-1)]: Using backend LokyBackend with 8 concurrent workers.\n"
     ]
    },
    {
     "name": "stdout",
     "output_type": "stream",
     "text": [
      "Starting Grid search for numerical model ...\n",
      "Fitting 3 folds for each of 12 candidates, totalling 36 fits\n",
      "Starting Grid search for text model ...\n",
      "Fitting 3 folds for each of 12 candidates, totalling 36 fits\n",
      "Starting Grid search for numerical model ...\n",
      "Fitting 3 folds for each of 36 candidates, totalling 108 fits\n"
     ]
    },
    {
     "name": "stderr",
     "output_type": "stream",
     "text": [
      "[Parallel(n_jobs=-1)]: Done   9 tasks      | elapsed:    0.1s\n",
      "[Parallel(n_jobs=-1)]: Done 108 out of 108 | elapsed:    0.2s finished\n",
      "[Parallel(n_jobs=-1)]: Using backend LokyBackend with 8 concurrent workers.\n",
      "[Parallel(n_jobs=-1)]: Done   9 tasks      | elapsed:    0.1s\n"
     ]
    },
    {
     "name": "stdout",
     "output_type": "stream",
     "text": [
      "Starting Grid search for text model ...\n",
      "Fitting 3 folds for each of 36 candidates, totalling 108 fits\n"
     ]
    },
    {
     "name": "stderr",
     "output_type": "stream",
     "text": [
      "[Parallel(n_jobs=-1)]: Done 108 out of 108 | elapsed:    0.5s finished\n",
      "  7%|▋         | 4/54 [00:02<00:31,  1.61it/s][Parallel(n_jobs=-1)]: Using backend LokyBackend with 8 concurrent workers.\n",
      "[Parallel(n_jobs=-1)]: Done  16 tasks      | elapsed:    0.0s\n",
      "[Parallel(n_jobs=-1)]: Done  57 out of  72 | elapsed:    0.1s remaining:    0.0s\n",
      "[Parallel(n_jobs=-1)]: Done  72 out of  72 | elapsed:    0.1s finished\n",
      "[Parallel(n_jobs=-1)]: Using backend LokyBackend with 8 concurrent workers.\n"
     ]
    },
    {
     "name": "stdout",
     "output_type": "stream",
     "text": [
      "Starting Grid search for numerical model ...\n",
      "Fitting 3 folds for each of 24 candidates, totalling 72 fits\n",
      "Starting Grid search for text model ...\n",
      "Fitting 3 folds for each of 24 candidates, totalling 72 fits\n"
     ]
    },
    {
     "name": "stderr",
     "output_type": "stream",
     "text": [
      "[Parallel(n_jobs=-1)]: Done  10 tasks      | elapsed:    0.0s\n",
      "[Parallel(n_jobs=-1)]: Done  72 out of  72 | elapsed:    0.1s finished\n",
      "  9%|▉         | 5/54 [00:02<00:25,  1.96it/s][Parallel(n_jobs=-1)]: Using backend LokyBackend with 8 concurrent workers.\n",
      "[Parallel(n_jobs=-1)]: Done   9 tasks      | elapsed:    0.0s\n",
      "[Parallel(n_jobs=-1)]: Done  31 out of  36 | elapsed:    0.0s remaining:    0.0s\n",
      "[Parallel(n_jobs=-1)]: Done  36 out of  36 | elapsed:    0.0s finished\n",
      "[Parallel(n_jobs=-1)]: Using backend LokyBackend with 8 concurrent workers.\n",
      "[Parallel(n_jobs=-1)]: Done   9 tasks      | elapsed:    0.0s\n",
      "[Parallel(n_jobs=-1)]: Done  31 out of  36 | elapsed:    0.0s remaining:    0.0s\n",
      "[Parallel(n_jobs=-1)]: Done  36 out of  36 | elapsed:    0.0s finished\n",
      " 11%|█         | 6/54 [00:02<00:18,  2.53it/s][Parallel(n_jobs=-1)]: Using backend LokyBackend with 8 concurrent workers.\n"
     ]
    },
    {
     "name": "stdout",
     "output_type": "stream",
     "text": [
      "Starting Grid search for numerical model ...\n",
      "Fitting 3 folds for each of 12 candidates, totalling 36 fits\n",
      "Starting Grid search for text model ...\n",
      "Fitting 3 folds for each of 12 candidates, totalling 36 fits\n",
      "Starting Grid search for numerical model ...\n",
      "Fitting 3 folds for each of 36 candidates, totalling 108 fits\n"
     ]
    },
    {
     "name": "stderr",
     "output_type": "stream",
     "text": [
      "[Parallel(n_jobs=-1)]: Done   9 tasks      | elapsed:    0.1s\n",
      "[Parallel(n_jobs=-1)]: Done 108 out of 108 | elapsed:    0.3s finished\n",
      "[Parallel(n_jobs=-1)]: Using backend LokyBackend with 8 concurrent workers.\n"
     ]
    },
    {
     "name": "stdout",
     "output_type": "stream",
     "text": [
      "Starting Grid search for text model ...\n",
      "Fitting 3 folds for each of 36 candidates, totalling 108 fits\n"
     ]
    },
    {
     "name": "stderr",
     "output_type": "stream",
     "text": [
      "[Parallel(n_jobs=-1)]: Done   9 tasks      | elapsed:    0.2s\n",
      "[Parallel(n_jobs=-1)]: Done 108 out of 108 | elapsed:    0.6s finished\n",
      " 13%|█▎        | 7/54 [00:03<00:27,  1.71it/s][Parallel(n_jobs=-1)]: Using backend LokyBackend with 8 concurrent workers.\n",
      "[Parallel(n_jobs=-1)]: Done   9 tasks      | elapsed:    0.0s\n"
     ]
    },
    {
     "name": "stdout",
     "output_type": "stream",
     "text": [
      "Starting Grid search for numerical model ...\n",
      "Fitting 3 folds for each of 24 candidates, totalling 72 fits\n",
      "Starting Grid search for text model ...\n",
      "Fitting 3 folds for each of 24 candidates, totalling 72 fits\n"
     ]
    },
    {
     "name": "stderr",
     "output_type": "stream",
     "text": [
      "[Parallel(n_jobs=-1)]: Done  72 out of  72 | elapsed:    0.1s finished\n",
      "[Parallel(n_jobs=-1)]: Using backend LokyBackend with 8 concurrent workers.\n",
      "[Parallel(n_jobs=-1)]: Done   9 tasks      | elapsed:    0.0s\n",
      "[Parallel(n_jobs=-1)]: Done  72 out of  72 | elapsed:    0.1s finished\n",
      " 15%|█▍        | 8/54 [00:03<00:23,  1.99it/s][Parallel(n_jobs=-1)]: Using backend LokyBackend with 8 concurrent workers.\n",
      "[Parallel(n_jobs=-1)]: Done   9 tasks      | elapsed:    0.0s\n",
      "[Parallel(n_jobs=-1)]: Done  36 out of  36 | elapsed:    0.0s finished\n",
      "/home/bigdata/anaconda3/lib/python3.8/site-packages/sklearn/svm/_base.py:976: ConvergenceWarning: Liblinear failed to converge, increase the number of iterations.\n",
      "  warnings.warn(\"Liblinear failed to converge, increase \"\n",
      "[Parallel(n_jobs=-1)]: Using backend LokyBackend with 8 concurrent workers.\n",
      "[Parallel(n_jobs=-1)]: Done   9 tasks      | elapsed:    0.0s\n",
      "[Parallel(n_jobs=-1)]: Done  36 out of  36 | elapsed:    0.0s finished\n",
      " 17%|█▋        | 9/54 [00:03<00:17,  2.55it/s][Parallel(n_jobs=-1)]: Using backend LokyBackend with 8 concurrent workers.\n"
     ]
    },
    {
     "name": "stdout",
     "output_type": "stream",
     "text": [
      "Starting Grid search for numerical model ...\n",
      "Fitting 3 folds for each of 12 candidates, totalling 36 fits\n",
      "Starting Grid search for text model ...\n",
      "Fitting 3 folds for each of 12 candidates, totalling 36 fits\n",
      "Starting Grid search for numerical model ...\n",
      "Fitting 3 folds for each of 36 candidates, totalling 108 fits\n"
     ]
    },
    {
     "name": "stderr",
     "output_type": "stream",
     "text": [
      "[Parallel(n_jobs=-1)]: Done   9 tasks      | elapsed:    0.1s\n",
      "[Parallel(n_jobs=-1)]: Done 108 out of 108 | elapsed:    0.3s finished\n",
      "[Parallel(n_jobs=-1)]: Using backend LokyBackend with 8 concurrent workers.\n",
      "[Parallel(n_jobs=-1)]: Done   9 tasks      | elapsed:    0.1s\n"
     ]
    },
    {
     "name": "stdout",
     "output_type": "stream",
     "text": [
      "Starting Grid search for text model ...\n",
      "Fitting 3 folds for each of 36 candidates, totalling 108 fits\n"
     ]
    },
    {
     "name": "stderr",
     "output_type": "stream",
     "text": [
      "[Parallel(n_jobs=-1)]: Done 108 out of 108 | elapsed:    0.5s finished\n",
      " 19%|█▊        | 10/54 [00:04<00:24,  1.77it/s][Parallel(n_jobs=-1)]: Using backend LokyBackend with 8 concurrent workers.\n",
      "[Parallel(n_jobs=-1)]: Done  10 tasks      | elapsed:    0.1s\n"
     ]
    },
    {
     "name": "stdout",
     "output_type": "stream",
     "text": [
      "Starting Grid search for numerical model ...\n",
      "Fitting 3 folds for each of 24 candidates, totalling 72 fits\n",
      "Starting Grid search for text model ...\n",
      "Fitting 3 folds for each of 24 candidates, totalling 72 fits\n"
     ]
    },
    {
     "name": "stderr",
     "output_type": "stream",
     "text": [
      "[Parallel(n_jobs=-1)]: Done  72 out of  72 | elapsed:    0.1s finished\n",
      "[Parallel(n_jobs=-1)]: Using backend LokyBackend with 8 concurrent workers.\n",
      "[Parallel(n_jobs=-1)]: Done   9 tasks      | elapsed:    0.0s\n",
      "[Parallel(n_jobs=-1)]: Done  72 out of  72 | elapsed:    0.1s finished\n",
      " 20%|██        | 11/54 [00:05<00:21,  2.04it/s][Parallel(n_jobs=-1)]: Using backend LokyBackend with 8 concurrent workers.\n",
      "[Parallel(n_jobs=-1)]: Done   9 tasks      | elapsed:    0.0s\n",
      "[Parallel(n_jobs=-1)]: Done  31 out of  36 | elapsed:    0.1s remaining:    0.0s\n",
      "[Parallel(n_jobs=-1)]: Done  36 out of  36 | elapsed:    0.1s finished\n",
      "[Parallel(n_jobs=-1)]: Using backend LokyBackend with 8 concurrent workers.\n",
      "[Parallel(n_jobs=-1)]: Done   9 tasks      | elapsed:    0.0s\n",
      "[Parallel(n_jobs=-1)]: Done  21 out of  36 | elapsed:    0.0s remaining:    0.0s\n",
      "[Parallel(n_jobs=-1)]: Done  31 out of  36 | elapsed:    0.0s remaining:    0.0s\n",
      "[Parallel(n_jobs=-1)]: Done  36 out of  36 | elapsed:    0.0s finished\n",
      " 22%|██▏       | 12/54 [00:05<00:16,  2.58it/s][Parallel(n_jobs=-1)]: Using backend LokyBackend with 8 concurrent workers.\n"
     ]
    },
    {
     "name": "stdout",
     "output_type": "stream",
     "text": [
      "Starting Grid search for numerical model ...\n",
      "Fitting 3 folds for each of 12 candidates, totalling 36 fits\n",
      "Starting Grid search for text model ...\n",
      "Fitting 3 folds for each of 12 candidates, totalling 36 fits\n",
      "Starting Grid search for numerical model ...\n",
      "Fitting 3 folds for each of 36 candidates, totalling 108 fits\n"
     ]
    },
    {
     "name": "stderr",
     "output_type": "stream",
     "text": [
      "[Parallel(n_jobs=-1)]: Done   9 tasks      | elapsed:    0.1s\n",
      "[Parallel(n_jobs=-1)]: Done 108 out of 108 | elapsed:    0.2s finished\n",
      "[Parallel(n_jobs=-1)]: Using backend LokyBackend with 8 concurrent workers.\n",
      "[Parallel(n_jobs=-1)]: Done  14 tasks      | elapsed:    0.1s\n"
     ]
    },
    {
     "name": "stdout",
     "output_type": "stream",
     "text": [
      "Starting Grid search for text model ...\n",
      "Fitting 3 folds for each of 36 candidates, totalling 108 fits\n"
     ]
    },
    {
     "name": "stderr",
     "output_type": "stream",
     "text": [
      "[Parallel(n_jobs=-1)]: Done 108 out of 108 | elapsed:    0.3s finished\n",
      " 24%|██▍       | 13/54 [00:06<00:19,  2.13it/s][Parallel(n_jobs=-1)]: Using backend LokyBackend with 8 concurrent workers.\n",
      "[Parallel(n_jobs=-1)]: Done  10 tasks      | elapsed:    0.0s\n"
     ]
    },
    {
     "name": "stdout",
     "output_type": "stream",
     "text": [
      "Starting Grid search for numerical model ...\n",
      "Fitting 3 folds for each of 24 candidates, totalling 72 fits\n",
      "Starting Grid search for text model ...\n",
      "Fitting 3 folds for each of 24 candidates, totalling 72 fits\n"
     ]
    },
    {
     "name": "stderr",
     "output_type": "stream",
     "text": [
      "[Parallel(n_jobs=-1)]: Done  72 out of  72 | elapsed:    0.1s finished\n",
      "[Parallel(n_jobs=-1)]: Using backend LokyBackend with 8 concurrent workers.\n",
      "[Parallel(n_jobs=-1)]: Done   9 tasks      | elapsed:    0.0s\n",
      "[Parallel(n_jobs=-1)]: Done  72 out of  72 | elapsed:    0.1s finished\n",
      " 26%|██▌       | 14/54 [00:06<00:16,  2.47it/s][Parallel(n_jobs=-1)]: Using backend LokyBackend with 8 concurrent workers.\n",
      "[Parallel(n_jobs=-1)]: Done   9 tasks      | elapsed:    0.0s\n",
      "[Parallel(n_jobs=-1)]: Done  31 out of  36 | elapsed:    0.0s remaining:    0.0s\n",
      "[Parallel(n_jobs=-1)]: Done  36 out of  36 | elapsed:    0.0s finished\n",
      "/home/bigdata/anaconda3/lib/python3.8/site-packages/sklearn/svm/_base.py:976: ConvergenceWarning: Liblinear failed to converge, increase the number of iterations.\n",
      "  warnings.warn(\"Liblinear failed to converge, increase \"\n",
      "[Parallel(n_jobs=-1)]: Using backend LokyBackend with 8 concurrent workers.\n",
      "[Parallel(n_jobs=-1)]: Done   9 tasks      | elapsed:    0.0s\n",
      "[Parallel(n_jobs=-1)]: Done  36 out of  36 | elapsed:    0.0s finished\n",
      " 28%|██▊       | 15/54 [00:06<00:12,  3.15it/s][Parallel(n_jobs=-1)]: Using backend LokyBackend with 8 concurrent workers.\n"
     ]
    },
    {
     "name": "stdout",
     "output_type": "stream",
     "text": [
      "Starting Grid search for numerical model ...\n",
      "Fitting 3 folds for each of 12 candidates, totalling 36 fits\n",
      "Starting Grid search for text model ...\n",
      "Fitting 3 folds for each of 12 candidates, totalling 36 fits\n",
      "Starting Grid search for numerical model ...\n",
      "Fitting 3 folds for each of 36 candidates, totalling 108 fits\n"
     ]
    },
    {
     "name": "stderr",
     "output_type": "stream",
     "text": [
      "[Parallel(n_jobs=-1)]: Done   9 tasks      | elapsed:    0.1s\n",
      "[Parallel(n_jobs=-1)]: Done 108 out of 108 | elapsed:    0.3s finished\n",
      "[Parallel(n_jobs=-1)]: Using backend LokyBackend with 8 concurrent workers.\n",
      "[Parallel(n_jobs=-1)]: Done  10 tasks      | elapsed:    0.1s\n"
     ]
    },
    {
     "name": "stdout",
     "output_type": "stream",
     "text": [
      "Starting Grid search for text model ...\n",
      "Fitting 3 folds for each of 36 candidates, totalling 108 fits\n"
     ]
    },
    {
     "name": "stderr",
     "output_type": "stream",
     "text": [
      "[Parallel(n_jobs=-1)]: Done 108 out of 108 | elapsed:    0.4s finished\n",
      " 30%|██▉       | 16/54 [00:07<00:16,  2.24it/s][Parallel(n_jobs=-1)]: Using backend LokyBackend with 8 concurrent workers.\n",
      "[Parallel(n_jobs=-1)]: Done  10 tasks      | elapsed:    0.0s\n"
     ]
    },
    {
     "name": "stdout",
     "output_type": "stream",
     "text": [
      "Starting Grid search for numerical model ...\n",
      "Fitting 3 folds for each of 24 candidates, totalling 72 fits\n",
      "Starting Grid search for text model ...\n",
      "Fitting 3 folds for each of 24 candidates, totalling 72 fits\n"
     ]
    },
    {
     "name": "stderr",
     "output_type": "stream",
     "text": [
      "[Parallel(n_jobs=-1)]: Done  72 out of  72 | elapsed:    0.1s finished\n",
      "[Parallel(n_jobs=-1)]: Using backend LokyBackend with 8 concurrent workers.\n",
      "[Parallel(n_jobs=-1)]: Done   9 tasks      | elapsed:    0.0s\n",
      "[Parallel(n_jobs=-1)]: Done  72 out of  72 | elapsed:    0.1s finished\n",
      " 31%|███▏      | 17/54 [00:07<00:15,  2.43it/s][Parallel(n_jobs=-1)]: Using backend LokyBackend with 8 concurrent workers.\n",
      "[Parallel(n_jobs=-1)]: Done   9 tasks      | elapsed:    0.0s\n",
      "[Parallel(n_jobs=-1)]: Done  31 out of  36 | elapsed:    0.0s remaining:    0.0s\n",
      "[Parallel(n_jobs=-1)]: Done  36 out of  36 | elapsed:    0.0s finished\n",
      "[Parallel(n_jobs=-1)]: Using backend LokyBackend with 8 concurrent workers.\n",
      "[Parallel(n_jobs=-1)]: Done   9 tasks      | elapsed:    0.0s\n",
      "[Parallel(n_jobs=-1)]: Done  21 out of  36 | elapsed:    0.0s remaining:    0.0s\n",
      "[Parallel(n_jobs=-1)]: Done  31 out of  36 | elapsed:    0.0s remaining:    0.0s\n",
      "[Parallel(n_jobs=-1)]: Done  36 out of  36 | elapsed:    0.0s finished\n",
      " 33%|███▎      | 18/54 [00:07<00:11,  3.04it/s][Parallel(n_jobs=-1)]: Using backend LokyBackend with 8 concurrent workers.\n"
     ]
    },
    {
     "name": "stdout",
     "output_type": "stream",
     "text": [
      "Starting Grid search for numerical model ...\n",
      "Fitting 3 folds for each of 12 candidates, totalling 36 fits\n",
      "Starting Grid search for text model ...\n",
      "Fitting 3 folds for each of 12 candidates, totalling 36 fits\n",
      "Starting Grid search for numerical model ...\n",
      "Fitting 3 folds for each of 36 candidates, totalling 108 fits\n"
     ]
    },
    {
     "name": "stderr",
     "output_type": "stream",
     "text": [
      "[Parallel(n_jobs=-1)]: Done   9 tasks      | elapsed:    0.1s\n",
      "[Parallel(n_jobs=-1)]: Done  93 out of 108 | elapsed:    0.3s remaining:    0.0s\n",
      "[Parallel(n_jobs=-1)]: Done 108 out of 108 | elapsed:    0.3s finished\n",
      "[Parallel(n_jobs=-1)]: Using backend LokyBackend with 8 concurrent workers.\n"
     ]
    },
    {
     "name": "stdout",
     "output_type": "stream",
     "text": [
      "Starting Grid search for text model ...\n",
      "Fitting 3 folds for each of 36 candidates, totalling 108 fits\n"
     ]
    },
    {
     "name": "stderr",
     "output_type": "stream",
     "text": [
      "[Parallel(n_jobs=-1)]: Done   9 tasks      | elapsed:    0.2s\n",
      "[Parallel(n_jobs=-1)]: Done  93 out of 108 | elapsed:    0.4s remaining:    0.1s\n",
      "[Parallel(n_jobs=-1)]: Done 108 out of 108 | elapsed:    0.5s finished\n",
      " 35%|███▌      | 19/54 [00:08<00:17,  2.02it/s][Parallel(n_jobs=-1)]: Using backend LokyBackend with 8 concurrent workers.\n",
      "[Parallel(n_jobs=-1)]: Done   9 tasks      | elapsed:    0.0s\n"
     ]
    },
    {
     "name": "stdout",
     "output_type": "stream",
     "text": [
      "Starting Grid search for numerical model ...\n",
      "Fitting 3 folds for each of 24 candidates, totalling 72 fits\n",
      "Starting Grid search for text model ...\n",
      "Fitting 3 folds for each of 24 candidates, totalling 72 fits\n"
     ]
    },
    {
     "name": "stderr",
     "output_type": "stream",
     "text": [
      "[Parallel(n_jobs=-1)]: Done  72 out of  72 | elapsed:    0.1s finished\n",
      "[Parallel(n_jobs=-1)]: Using backend LokyBackend with 8 concurrent workers.\n",
      "[Parallel(n_jobs=-1)]: Done   9 tasks      | elapsed:    0.0s\n",
      "[Parallel(n_jobs=-1)]: Done  72 out of  72 | elapsed:    0.1s finished\n",
      " 37%|███▋      | 20/54 [00:08<00:14,  2.31it/s][Parallel(n_jobs=-1)]: Using backend LokyBackend with 8 concurrent workers.\n",
      "[Parallel(n_jobs=-1)]: Done   9 tasks      | elapsed:    0.0s\n",
      "[Parallel(n_jobs=-1)]: Done  31 out of  36 | elapsed:    0.0s remaining:    0.0s\n",
      "[Parallel(n_jobs=-1)]: Done  36 out of  36 | elapsed:    0.0s finished\n",
      "[Parallel(n_jobs=-1)]: Using backend LokyBackend with 8 concurrent workers.\n",
      "[Parallel(n_jobs=-1)]: Done   9 tasks      | elapsed:    0.0s\n",
      "[Parallel(n_jobs=-1)]: Done  21 out of  36 | elapsed:    0.0s remaining:    0.0s\n",
      "[Parallel(n_jobs=-1)]: Done  36 out of  36 | elapsed:    0.0s finished\n",
      " 39%|███▉      | 21/54 [00:08<00:11,  2.95it/s][Parallel(n_jobs=-1)]: Using backend LokyBackend with 8 concurrent workers.\n"
     ]
    },
    {
     "name": "stdout",
     "output_type": "stream",
     "text": [
      "Starting Grid search for numerical model ...\n",
      "Fitting 3 folds for each of 12 candidates, totalling 36 fits\n",
      "Starting Grid search for text model ...\n",
      "Fitting 3 folds for each of 12 candidates, totalling 36 fits\n",
      "Starting Grid search for numerical model ...\n",
      "Fitting 3 folds for each of 36 candidates, totalling 108 fits\n"
     ]
    },
    {
     "name": "stderr",
     "output_type": "stream",
     "text": [
      "[Parallel(n_jobs=-1)]: Done   9 tasks      | elapsed:    0.1s\n",
      "[Parallel(n_jobs=-1)]: Done  93 out of 108 | elapsed:    0.2s remaining:    0.0s\n",
      "[Parallel(n_jobs=-1)]: Done 108 out of 108 | elapsed:    0.3s finished\n",
      "[Parallel(n_jobs=-1)]: Using backend LokyBackend with 8 concurrent workers.\n",
      "[Parallel(n_jobs=-1)]: Done   9 tasks      | elapsed:    0.1s\n"
     ]
    },
    {
     "name": "stdout",
     "output_type": "stream",
     "text": [
      "Starting Grid search for text model ...\n",
      "Fitting 3 folds for each of 36 candidates, totalling 108 fits\n"
     ]
    },
    {
     "name": "stderr",
     "output_type": "stream",
     "text": [
      "[Parallel(n_jobs=-1)]: Done 108 out of 108 | elapsed:    0.4s finished\n",
      " 41%|████      | 22/54 [00:09<00:15,  2.10it/s][Parallel(n_jobs=-1)]: Using backend LokyBackend with 8 concurrent workers.\n",
      "[Parallel(n_jobs=-1)]: Done  22 tasks      | elapsed:    0.0s\n",
      "[Parallel(n_jobs=-1)]: Done  72 out of  72 | elapsed:    0.1s finished\n",
      "[Parallel(n_jobs=-1)]: Using backend LokyBackend with 8 concurrent workers.\n"
     ]
    },
    {
     "name": "stdout",
     "output_type": "stream",
     "text": [
      "Starting Grid search for numerical model ...\n",
      "Fitting 3 folds for each of 24 candidates, totalling 72 fits\n",
      "Starting Grid search for text model ...\n",
      "Fitting 3 folds for each of 24 candidates, totalling 72 fits\n"
     ]
    },
    {
     "name": "stderr",
     "output_type": "stream",
     "text": [
      "[Parallel(n_jobs=-1)]: Done   9 tasks      | elapsed:    0.1s\n",
      "[Parallel(n_jobs=-1)]: Done  72 out of  72 | elapsed:    0.1s finished\n",
      " 43%|████▎     | 23/54 [00:10<00:13,  2.38it/s][Parallel(n_jobs=-1)]: Using backend LokyBackend with 8 concurrent workers.\n",
      "[Parallel(n_jobs=-1)]: Done   9 tasks      | elapsed:    0.0s\n",
      "[Parallel(n_jobs=-1)]: Done  36 out of  36 | elapsed:    0.0s finished\n",
      "[Parallel(n_jobs=-1)]: Using backend LokyBackend with 8 concurrent workers.\n",
      "[Parallel(n_jobs=-1)]: Done   9 tasks      | elapsed:    0.0s\n",
      "[Parallel(n_jobs=-1)]: Done  36 out of  36 | elapsed:    0.0s finished\n",
      " 44%|████▍     | 24/54 [00:10<00:10,  3.00it/s][Parallel(n_jobs=-1)]: Using backend LokyBackend with 8 concurrent workers.\n"
     ]
    },
    {
     "name": "stdout",
     "output_type": "stream",
     "text": [
      "Starting Grid search for numerical model ...\n",
      "Fitting 3 folds for each of 12 candidates, totalling 36 fits\n",
      "Starting Grid search for text model ...\n",
      "Fitting 3 folds for each of 12 candidates, totalling 36 fits\n",
      "Starting Grid search for numerical model ...\n",
      "Fitting 3 folds for each of 36 candidates, totalling 108 fits\n"
     ]
    },
    {
     "name": "stderr",
     "output_type": "stream",
     "text": [
      "[Parallel(n_jobs=-1)]: Done   9 tasks      | elapsed:    0.1s\n",
      "[Parallel(n_jobs=-1)]: Done 108 out of 108 | elapsed:    0.3s finished\n",
      "[Parallel(n_jobs=-1)]: Using backend LokyBackend with 8 concurrent workers.\n"
     ]
    },
    {
     "name": "stdout",
     "output_type": "stream",
     "text": [
      "Starting Grid search for text model ...\n",
      "Fitting 3 folds for each of 36 candidates, totalling 108 fits\n"
     ]
    },
    {
     "name": "stderr",
     "output_type": "stream",
     "text": [
      "[Parallel(n_jobs=-1)]: Done   9 tasks      | elapsed:    0.2s\n",
      "[Parallel(n_jobs=-1)]: Done  93 out of 108 | elapsed:    0.5s remaining:    0.1s\n",
      "[Parallel(n_jobs=-1)]: Done 108 out of 108 | elapsed:    0.5s finished\n",
      " 46%|████▋     | 25/54 [00:11<00:15,  1.91it/s][Parallel(n_jobs=-1)]: Using backend LokyBackend with 8 concurrent workers.\n",
      "[Parallel(n_jobs=-1)]: Done   9 tasks      | elapsed:    0.0s\n",
      "[Parallel(n_jobs=-1)]: Done  57 out of  72 | elapsed:    0.1s remaining:    0.0s\n",
      "[Parallel(n_jobs=-1)]: Done  72 out of  72 | elapsed:    0.1s finished\n",
      "[Parallel(n_jobs=-1)]: Using backend LokyBackend with 8 concurrent workers.\n"
     ]
    },
    {
     "name": "stdout",
     "output_type": "stream",
     "text": [
      "Starting Grid search for numerical model ...\n",
      "Fitting 3 folds for each of 24 candidates, totalling 72 fits\n",
      "Starting Grid search for text model ...\n",
      "Fitting 3 folds for each of 24 candidates, totalling 72 fits\n"
     ]
    },
    {
     "name": "stderr",
     "output_type": "stream",
     "text": [
      "[Parallel(n_jobs=-1)]: Done   9 tasks      | elapsed:    0.0s\n",
      "[Parallel(n_jobs=-1)]: Done  72 out of  72 | elapsed:    0.1s finished\n",
      " 48%|████▊     | 26/54 [00:11<00:12,  2.22it/s][Parallel(n_jobs=-1)]: Using backend LokyBackend with 8 concurrent workers.\n",
      "[Parallel(n_jobs=-1)]: Done   9 tasks      | elapsed:    0.0s\n",
      "[Parallel(n_jobs=-1)]: Done  31 out of  36 | elapsed:    0.0s remaining:    0.0s\n",
      "[Parallel(n_jobs=-1)]: Done  36 out of  36 | elapsed:    0.0s finished\n",
      "/home/bigdata/anaconda3/lib/python3.8/site-packages/sklearn/svm/_base.py:976: ConvergenceWarning: Liblinear failed to converge, increase the number of iterations.\n",
      "  warnings.warn(\"Liblinear failed to converge, increase \"\n",
      "[Parallel(n_jobs=-1)]: Using backend LokyBackend with 8 concurrent workers.\n",
      "[Parallel(n_jobs=-1)]: Done   9 tasks      | elapsed:    0.0s\n",
      "[Parallel(n_jobs=-1)]: Done  31 out of  36 | elapsed:    0.0s remaining:    0.0s\n",
      "[Parallel(n_jobs=-1)]: Done  36 out of  36 | elapsed:    0.0s finished\n",
      " 50%|█████     | 27/54 [00:11<00:09,  2.78it/s][Parallel(n_jobs=-1)]: Using backend LokyBackend with 8 concurrent workers.\n"
     ]
    },
    {
     "name": "stdout",
     "output_type": "stream",
     "text": [
      "Starting Grid search for numerical model ...\n",
      "Fitting 3 folds for each of 12 candidates, totalling 36 fits\n",
      "Starting Grid search for text model ...\n",
      "Fitting 3 folds for each of 12 candidates, totalling 36 fits\n",
      "Starting Grid search for numerical model ...\n",
      "Fitting 3 folds for each of 36 candidates, totalling 108 fits\n"
     ]
    },
    {
     "name": "stderr",
     "output_type": "stream",
     "text": [
      "[Parallel(n_jobs=-1)]: Done   9 tasks      | elapsed:    0.1s\n",
      "[Parallel(n_jobs=-1)]: Done 108 out of 108 | elapsed:    0.2s finished\n",
      "[Parallel(n_jobs=-1)]: Using backend LokyBackend with 8 concurrent workers.\n",
      "[Parallel(n_jobs=-1)]: Done   9 tasks      | elapsed:    0.1s\n"
     ]
    },
    {
     "name": "stdout",
     "output_type": "stream",
     "text": [
      "Starting Grid search for text model ...\n",
      "Fitting 3 folds for each of 36 candidates, totalling 108 fits\n"
     ]
    },
    {
     "name": "stderr",
     "output_type": "stream",
     "text": [
      "[Parallel(n_jobs=-1)]: Done 108 out of 108 | elapsed:    0.5s finished\n",
      " 52%|█████▏    | 28/54 [00:12<00:13,  1.96it/s][Parallel(n_jobs=-1)]: Using backend LokyBackend with 8 concurrent workers.\n",
      "[Parallel(n_jobs=-1)]: Done   9 tasks      | elapsed:    0.0s\n"
     ]
    },
    {
     "name": "stdout",
     "output_type": "stream",
     "text": [
      "Starting Grid search for numerical model ...\n",
      "Fitting 3 folds for each of 24 candidates, totalling 72 fits\n",
      "Starting Grid search for text model ...\n",
      "Fitting 3 folds for each of 24 candidates, totalling 72 fits\n"
     ]
    },
    {
     "name": "stderr",
     "output_type": "stream",
     "text": [
      "[Parallel(n_jobs=-1)]: Done  72 out of  72 | elapsed:    0.1s finished\n",
      "[Parallel(n_jobs=-1)]: Using backend LokyBackend with 8 concurrent workers.\n",
      "[Parallel(n_jobs=-1)]: Done   9 tasks      | elapsed:    0.0s\n",
      "[Parallel(n_jobs=-1)]: Done  72 out of  72 | elapsed:    0.1s finished\n",
      " 54%|█████▎    | 29/54 [00:12<00:11,  2.26it/s][Parallel(n_jobs=-1)]: Using backend LokyBackend with 8 concurrent workers.\n",
      "[Parallel(n_jobs=-1)]: Done   9 tasks      | elapsed:    0.0s\n",
      "[Parallel(n_jobs=-1)]: Done  31 out of  36 | elapsed:    0.0s remaining:    0.0s\n",
      "[Parallel(n_jobs=-1)]: Done  36 out of  36 | elapsed:    0.0s finished\n",
      "[Parallel(n_jobs=-1)]: Using backend LokyBackend with 8 concurrent workers.\n",
      "[Parallel(n_jobs=-1)]: Done   7 tasks      | elapsed:    0.0s\n",
      "[Parallel(n_jobs=-1)]: Done  21 out of  36 | elapsed:    0.0s remaining:    0.0s\n",
      "[Parallel(n_jobs=-1)]: Done  31 out of  36 | elapsed:    0.0s remaining:    0.0s\n",
      "[Parallel(n_jobs=-1)]: Done  36 out of  36 | elapsed:    0.1s finished\n",
      " 56%|█████▌    | 30/54 [00:12<00:08,  2.74it/s]"
     ]
    },
    {
     "name": "stdout",
     "output_type": "stream",
     "text": [
      "Starting Grid search for numerical model ...\n",
      "Fitting 3 folds for each of 12 candidates, totalling 36 fits\n",
      "Starting Grid search for text model ...\n",
      "Fitting 3 folds for each of 12 candidates, totalling 36 fits\n",
      "Starting Grid search for numerical model ...\n",
      "Fitting 3 folds for each of 36 candidates, totalling 108 fits\n"
     ]
    },
    {
     "name": "stderr",
     "output_type": "stream",
     "text": [
      "[Parallel(n_jobs=-1)]: Using backend LokyBackend with 8 concurrent workers.\n",
      "[Parallel(n_jobs=-1)]: Done   9 tasks      | elapsed:    0.1s\n",
      "[Parallel(n_jobs=-1)]: Done 108 out of 108 | elapsed:    0.3s finished\n",
      "[Parallel(n_jobs=-1)]: Using backend LokyBackend with 8 concurrent workers.\n",
      "[Parallel(n_jobs=-1)]: Done  16 tasks      | elapsed:    0.1s\n"
     ]
    },
    {
     "name": "stdout",
     "output_type": "stream",
     "text": [
      "Starting Grid search for text model ...\n",
      "Fitting 3 folds for each of 36 candidates, totalling 108 fits\n"
     ]
    },
    {
     "name": "stderr",
     "output_type": "stream",
     "text": [
      "[Parallel(n_jobs=-1)]: Done 108 out of 108 | elapsed:    0.3s finished\n",
      " 57%|█████▋    | 31/54 [00:13<00:10,  2.17it/s][Parallel(n_jobs=-1)]: Using backend LokyBackend with 8 concurrent workers.\n",
      "[Parallel(n_jobs=-1)]: Done   9 tasks      | elapsed:    0.0s\n"
     ]
    },
    {
     "name": "stdout",
     "output_type": "stream",
     "text": [
      "Starting Grid search for numerical model ...\n",
      "Fitting 3 folds for each of 24 candidates, totalling 72 fits\n",
      "Starting Grid search for text model ...\n",
      "Fitting 3 folds for each of 24 candidates, totalling 72 fits\n"
     ]
    },
    {
     "name": "stderr",
     "output_type": "stream",
     "text": [
      "[Parallel(n_jobs=-1)]: Done  72 out of  72 | elapsed:    0.1s finished\n",
      "[Parallel(n_jobs=-1)]: Using backend LokyBackend with 8 concurrent workers.\n",
      "[Parallel(n_jobs=-1)]: Done   9 tasks      | elapsed:    0.0s\n",
      "[Parallel(n_jobs=-1)]: Done  72 out of  72 | elapsed:    0.1s finished\n",
      " 59%|█████▉    | 32/54 [00:13<00:09,  2.39it/s][Parallel(n_jobs=-1)]: Using backend LokyBackend with 8 concurrent workers.\n",
      "[Parallel(n_jobs=-1)]: Done   9 tasks      | elapsed:    0.0s\n",
      "[Parallel(n_jobs=-1)]: Done  21 out of  36 | elapsed:    0.0s remaining:    0.0s\n",
      "[Parallel(n_jobs=-1)]: Done  31 out of  36 | elapsed:    0.0s remaining:    0.0s\n",
      "[Parallel(n_jobs=-1)]: Done  36 out of  36 | elapsed:    0.0s finished\n",
      "[Parallel(n_jobs=-1)]: Using backend LokyBackend with 8 concurrent workers.\n",
      "[Parallel(n_jobs=-1)]: Done   9 tasks      | elapsed:    0.0s\n",
      "[Parallel(n_jobs=-1)]: Done  31 out of  36 | elapsed:    0.0s remaining:    0.0s\n",
      "[Parallel(n_jobs=-1)]: Done  36 out of  36 | elapsed:    0.0s finished\n",
      " 61%|██████    | 33/54 [00:14<00:07,  2.97it/s][Parallel(n_jobs=-1)]: Using backend LokyBackend with 8 concurrent workers.\n"
     ]
    },
    {
     "name": "stdout",
     "output_type": "stream",
     "text": [
      "Starting Grid search for numerical model ...\n",
      "Fitting 3 folds for each of 12 candidates, totalling 36 fits\n",
      "Starting Grid search for text model ...\n",
      "Fitting 3 folds for each of 12 candidates, totalling 36 fits\n",
      "Starting Grid search for numerical model ...\n",
      "Fitting 3 folds for each of 36 candidates, totalling 108 fits\n"
     ]
    },
    {
     "name": "stderr",
     "output_type": "stream",
     "text": [
      "[Parallel(n_jobs=-1)]: Done   9 tasks      | elapsed:    0.1s\n",
      "[Parallel(n_jobs=-1)]: Done  93 out of 108 | elapsed:    0.2s remaining:    0.0s\n",
      "[Parallel(n_jobs=-1)]: Done 108 out of 108 | elapsed:    0.3s finished\n",
      "[Parallel(n_jobs=-1)]: Using backend LokyBackend with 8 concurrent workers.\n",
      "[Parallel(n_jobs=-1)]: Done   9 tasks      | elapsed:    0.1s\n"
     ]
    },
    {
     "name": "stdout",
     "output_type": "stream",
     "text": [
      "Starting Grid search for text model ...\n",
      "Fitting 3 folds for each of 36 candidates, totalling 108 fits\n"
     ]
    },
    {
     "name": "stderr",
     "output_type": "stream",
     "text": [
      "[Parallel(n_jobs=-1)]: Done 108 out of 108 | elapsed:    0.3s finished\n",
      " 63%|██████▎   | 34/54 [00:14<00:08,  2.25it/s][Parallel(n_jobs=-1)]: Using backend LokyBackend with 8 concurrent workers.\n",
      "[Parallel(n_jobs=-1)]: Done  10 tasks      | elapsed:    0.0s\n"
     ]
    },
    {
     "name": "stdout",
     "output_type": "stream",
     "text": [
      "Starting Grid search for numerical model ...\n",
      "Fitting 3 folds for each of 24 candidates, totalling 72 fits\n",
      "Starting Grid search for text model ...\n",
      "Fitting 3 folds for each of 24 candidates, totalling 72 fits\n"
     ]
    },
    {
     "name": "stderr",
     "output_type": "stream",
     "text": [
      "[Parallel(n_jobs=-1)]: Done  72 out of  72 | elapsed:    0.1s finished\n",
      "[Parallel(n_jobs=-1)]: Using backend LokyBackend with 8 concurrent workers.\n",
      "[Parallel(n_jobs=-1)]: Done   9 tasks      | elapsed:    0.1s\n",
      "[Parallel(n_jobs=-1)]: Done  72 out of  72 | elapsed:    0.1s finished\n",
      " 65%|██████▍   | 35/54 [00:15<00:07,  2.53it/s][Parallel(n_jobs=-1)]: Using backend LokyBackend with 8 concurrent workers.\n",
      "[Parallel(n_jobs=-1)]: Done   9 tasks      | elapsed:    0.0s\n",
      "[Parallel(n_jobs=-1)]: Done  36 out of  36 | elapsed:    0.0s finished\n",
      "/home/bigdata/anaconda3/lib/python3.8/site-packages/sklearn/svm/_base.py:976: ConvergenceWarning: Liblinear failed to converge, increase the number of iterations.\n",
      "  warnings.warn(\"Liblinear failed to converge, increase \"\n",
      "[Parallel(n_jobs=-1)]: Using backend LokyBackend with 8 concurrent workers.\n",
      "[Parallel(n_jobs=-1)]: Done   9 tasks      | elapsed:    0.0s\n",
      "[Parallel(n_jobs=-1)]: Done  36 out of  36 | elapsed:    0.0s finished\n",
      " 67%|██████▋   | 36/54 [00:15<00:05,  3.21it/s][Parallel(n_jobs=-1)]: Using backend LokyBackend with 8 concurrent workers.\n"
     ]
    },
    {
     "name": "stdout",
     "output_type": "stream",
     "text": [
      "Starting Grid search for numerical model ...\n",
      "Fitting 3 folds for each of 12 candidates, totalling 36 fits\n",
      "Starting Grid search for text model ...\n",
      "Fitting 3 folds for each of 12 candidates, totalling 36 fits\n",
      "Starting Grid search for numerical model ...\n",
      "Fitting 3 folds for each of 36 candidates, totalling 108 fits\n"
     ]
    },
    {
     "name": "stderr",
     "output_type": "stream",
     "text": [
      "[Parallel(n_jobs=-1)]: Done   9 tasks      | elapsed:    0.1s\n",
      "[Parallel(n_jobs=-1)]: Done 108 out of 108 | elapsed:    0.3s finished\n",
      "[Parallel(n_jobs=-1)]: Using backend LokyBackend with 8 concurrent workers.\n"
     ]
    },
    {
     "name": "stdout",
     "output_type": "stream",
     "text": [
      "Starting Grid search for text model ...\n",
      "Fitting 3 folds for each of 36 candidates, totalling 108 fits\n"
     ]
    },
    {
     "name": "stderr",
     "output_type": "stream",
     "text": [
      "[Parallel(n_jobs=-1)]: Done  11 tasks      | elapsed:    0.1s\n",
      "[Parallel(n_jobs=-1)]: Done 108 out of 108 | elapsed:    0.4s finished\n",
      " 69%|██████▊   | 37/54 [00:15<00:07,  2.14it/s][Parallel(n_jobs=-1)]: Using backend LokyBackend with 8 concurrent workers.\n",
      "[Parallel(n_jobs=-1)]: Done   9 tasks      | elapsed:    0.0s\n",
      "[Parallel(n_jobs=-1)]: Done  72 out of  72 | elapsed:    0.1s finished\n",
      "[Parallel(n_jobs=-1)]: Using backend LokyBackend with 8 concurrent workers.\n"
     ]
    },
    {
     "name": "stdout",
     "output_type": "stream",
     "text": [
      "Starting Grid search for numerical model ...\n",
      "Fitting 3 folds for each of 24 candidates, totalling 72 fits\n",
      "Starting Grid search for text model ...\n",
      "Fitting 3 folds for each of 24 candidates, totalling 72 fits\n"
     ]
    },
    {
     "name": "stderr",
     "output_type": "stream",
     "text": [
      "[Parallel(n_jobs=-1)]: Done   9 tasks      | elapsed:    0.0s\n",
      "[Parallel(n_jobs=-1)]: Done  72 out of  72 | elapsed:    0.1s finished\n",
      " 70%|███████   | 38/54 [00:16<00:06,  2.49it/s][Parallel(n_jobs=-1)]: Using backend LokyBackend with 8 concurrent workers.\n",
      "[Parallel(n_jobs=-1)]: Done   9 tasks      | elapsed:    0.0s\n",
      "[Parallel(n_jobs=-1)]: Done  36 out of  36 | elapsed:    0.0s finished\n",
      "/home/bigdata/anaconda3/lib/python3.8/site-packages/sklearn/svm/_base.py:976: ConvergenceWarning: Liblinear failed to converge, increase the number of iterations.\n",
      "  warnings.warn(\"Liblinear failed to converge, increase \"\n",
      "[Parallel(n_jobs=-1)]: Using backend LokyBackend with 8 concurrent workers.\n",
      "[Parallel(n_jobs=-1)]: Done   9 tasks      | elapsed:    0.0s\n",
      "[Parallel(n_jobs=-1)]: Done  21 out of  36 | elapsed:    0.0s remaining:    0.0s\n",
      "[Parallel(n_jobs=-1)]: Done  31 out of  36 | elapsed:    0.0s remaining:    0.0s\n",
      "[Parallel(n_jobs=-1)]: Done  36 out of  36 | elapsed:    0.0s finished\n",
      " 72%|███████▏  | 39/54 [00:16<00:04,  3.15it/s][Parallel(n_jobs=-1)]: Using backend LokyBackend with 8 concurrent workers.\n"
     ]
    },
    {
     "name": "stdout",
     "output_type": "stream",
     "text": [
      "Starting Grid search for numerical model ...\n",
      "Fitting 3 folds for each of 12 candidates, totalling 36 fits\n",
      "Starting Grid search for text model ...\n",
      "Fitting 3 folds for each of 12 candidates, totalling 36 fits\n",
      "Starting Grid search for numerical model ...\n",
      "Fitting 3 folds for each of 36 candidates, totalling 108 fits\n"
     ]
    },
    {
     "name": "stderr",
     "output_type": "stream",
     "text": [
      "[Parallel(n_jobs=-1)]: Done   9 tasks      | elapsed:    0.1s\n",
      "[Parallel(n_jobs=-1)]: Done  93 out of 108 | elapsed:    0.2s remaining:    0.0s\n",
      "[Parallel(n_jobs=-1)]: Done 108 out of 108 | elapsed:    0.3s finished\n",
      "[Parallel(n_jobs=-1)]: Using backend LokyBackend with 8 concurrent workers.\n",
      "[Parallel(n_jobs=-1)]: Done   9 tasks      | elapsed:    0.1s\n"
     ]
    },
    {
     "name": "stdout",
     "output_type": "stream",
     "text": [
      "Starting Grid search for text model ...\n",
      "Fitting 3 folds for each of 36 candidates, totalling 108 fits\n"
     ]
    },
    {
     "name": "stderr",
     "output_type": "stream",
     "text": [
      "[Parallel(n_jobs=-1)]: Done 108 out of 108 | elapsed:    0.4s finished\n",
      " 74%|███████▍  | 40/54 [00:17<00:06,  2.25it/s][Parallel(n_jobs=-1)]: Using backend LokyBackend with 8 concurrent workers.\n",
      "[Parallel(n_jobs=-1)]: Done  10 tasks      | elapsed:    0.0s\n",
      "[Parallel(n_jobs=-1)]: Done  72 out of  72 | elapsed:    0.1s finished\n",
      "[Parallel(n_jobs=-1)]: Using backend LokyBackend with 8 concurrent workers.\n"
     ]
    },
    {
     "name": "stdout",
     "output_type": "stream",
     "text": [
      "Starting Grid search for numerical model ...\n",
      "Fitting 3 folds for each of 24 candidates, totalling 72 fits\n",
      "Starting Grid search for text model ...\n",
      "Fitting 3 folds for each of 24 candidates, totalling 72 fits\n"
     ]
    },
    {
     "name": "stderr",
     "output_type": "stream",
     "text": [
      "[Parallel(n_jobs=-1)]: Done   9 tasks      | elapsed:    0.0s\n",
      "[Parallel(n_jobs=-1)]: Done  72 out of  72 | elapsed:    0.1s finished\n",
      " 76%|███████▌  | 41/54 [00:17<00:05,  2.54it/s][Parallel(n_jobs=-1)]: Using backend LokyBackend with 8 concurrent workers.\n",
      "[Parallel(n_jobs=-1)]: Done  10 tasks      | elapsed:    0.0s\n",
      "[Parallel(n_jobs=-1)]: Done  36 out of  36 | elapsed:    0.1s finished\n",
      "[Parallel(n_jobs=-1)]: Using backend LokyBackend with 8 concurrent workers.\n",
      "[Parallel(n_jobs=-1)]: Done  10 tasks      | elapsed:    0.0s\n",
      "[Parallel(n_jobs=-1)]: Done  31 out of  36 | elapsed:    0.0s remaining:    0.0s\n",
      "[Parallel(n_jobs=-1)]: Done  36 out of  36 | elapsed:    0.1s finished\n",
      " 78%|███████▊  | 42/54 [00:17<00:03,  3.11it/s]"
     ]
    },
    {
     "name": "stdout",
     "output_type": "stream",
     "text": [
      "Starting Grid search for numerical model ...\n",
      "Fitting 3 folds for each of 12 candidates, totalling 36 fits\n",
      "Starting Grid search for text model ...\n",
      "Fitting 3 folds for each of 12 candidates, totalling 36 fits\n",
      "Starting Grid search for numerical model ...\n",
      "Fitting 3 folds for each of 36 candidates, totalling 108 fits\n"
     ]
    },
    {
     "name": "stderr",
     "output_type": "stream",
     "text": [
      "[Parallel(n_jobs=-1)]: Using backend LokyBackend with 8 concurrent workers.\n",
      "[Parallel(n_jobs=-1)]: Done   9 tasks      | elapsed:    0.1s\n",
      "[Parallel(n_jobs=-1)]: Done 108 out of 108 | elapsed:    0.3s finished\n",
      "[Parallel(n_jobs=-1)]: Using backend LokyBackend with 8 concurrent workers.\n",
      "[Parallel(n_jobs=-1)]: Done   9 tasks      | elapsed:    0.1s\n"
     ]
    },
    {
     "name": "stdout",
     "output_type": "stream",
     "text": [
      "Starting Grid search for text model ...\n",
      "Fitting 3 folds for each of 36 candidates, totalling 108 fits\n"
     ]
    },
    {
     "name": "stderr",
     "output_type": "stream",
     "text": [
      "[Parallel(n_jobs=-1)]: Done  93 out of 108 | elapsed:    0.3s remaining:    0.1s\n",
      "[Parallel(n_jobs=-1)]: Done 108 out of 108 | elapsed:    0.4s finished\n",
      " 80%|███████▉  | 43/54 [00:18<00:04,  2.21it/s][Parallel(n_jobs=-1)]: Using backend LokyBackend with 8 concurrent workers.\n"
     ]
    },
    {
     "name": "stdout",
     "output_type": "stream",
     "text": [
      "Starting Grid search for numerical model ...\n",
      "Fitting 3 folds for each of 24 candidates, totalling 72 fits\n",
      "Starting Grid search for text model ...\n",
      "Fitting 3 folds for each of 24 candidates, totalling 72 fits\n"
     ]
    },
    {
     "name": "stderr",
     "output_type": "stream",
     "text": [
      "[Parallel(n_jobs=-1)]: Done  10 tasks      | elapsed:    0.0s\n",
      "[Parallel(n_jobs=-1)]: Done  72 out of  72 | elapsed:    0.1s finished\n",
      "[Parallel(n_jobs=-1)]: Using backend LokyBackend with 8 concurrent workers.\n",
      "[Parallel(n_jobs=-1)]: Done   9 tasks      | elapsed:    0.0s\n",
      "[Parallel(n_jobs=-1)]: Done  72 out of  72 | elapsed:    0.1s finished\n",
      " 81%|████████▏ | 44/54 [00:18<00:04,  2.43it/s][Parallel(n_jobs=-1)]: Using backend LokyBackend with 8 concurrent workers.\n",
      "[Parallel(n_jobs=-1)]: Done   6 tasks      | elapsed:    0.0s\n",
      "[Parallel(n_jobs=-1)]: Done  11 out of  36 | elapsed:    0.0s remaining:    0.1s\n",
      "[Parallel(n_jobs=-1)]: Done  31 out of  36 | elapsed:    0.0s remaining:    0.0s\n",
      "[Parallel(n_jobs=-1)]: Done  36 out of  36 | elapsed:    0.0s finished\n",
      "/home/bigdata/anaconda3/lib/python3.8/site-packages/sklearn/svm/_base.py:976: ConvergenceWarning: Liblinear failed to converge, increase the number of iterations.\n",
      "  warnings.warn(\"Liblinear failed to converge, increase \"\n",
      "[Parallel(n_jobs=-1)]: Using backend LokyBackend with 8 concurrent workers.\n",
      "[Parallel(n_jobs=-1)]: Done   9 tasks      | elapsed:    0.0s\n",
      "[Parallel(n_jobs=-1)]: Done  31 out of  36 | elapsed:    0.0s remaining:    0.0s\n",
      "[Parallel(n_jobs=-1)]: Done  36 out of  36 | elapsed:    0.0s finished\n",
      " 83%|████████▎ | 45/54 [00:18<00:03,  2.99it/s][Parallel(n_jobs=-1)]: Using backend LokyBackend with 8 concurrent workers.\n"
     ]
    },
    {
     "name": "stdout",
     "output_type": "stream",
     "text": [
      "Starting Grid search for numerical model ...\n",
      "Fitting 3 folds for each of 12 candidates, totalling 36 fits\n",
      "Starting Grid search for text model ...\n",
      "Fitting 3 folds for each of 12 candidates, totalling 36 fits\n",
      "Starting Grid search for numerical model ...\n",
      "Fitting 3 folds for each of 36 candidates, totalling 108 fits\n"
     ]
    },
    {
     "name": "stderr",
     "output_type": "stream",
     "text": [
      "[Parallel(n_jobs=-1)]: Done   9 tasks      | elapsed:    0.1s\n",
      "[Parallel(n_jobs=-1)]: Done 108 out of 108 | elapsed:    0.3s finished\n",
      "[Parallel(n_jobs=-1)]: Using backend LokyBackend with 8 concurrent workers.\n",
      "[Parallel(n_jobs=-1)]: Done  11 tasks      | elapsed:    0.1s\n"
     ]
    },
    {
     "name": "stdout",
     "output_type": "stream",
     "text": [
      "Starting Grid search for text model ...\n",
      "Fitting 3 folds for each of 36 candidates, totalling 108 fits\n"
     ]
    },
    {
     "name": "stderr",
     "output_type": "stream",
     "text": [
      "[Parallel(n_jobs=-1)]: Done 108 out of 108 | elapsed:    0.3s finished\n",
      " 85%|████████▌ | 46/54 [00:19<00:03,  2.20it/s][Parallel(n_jobs=-1)]: Using backend LokyBackend with 8 concurrent workers.\n",
      "[Parallel(n_jobs=-1)]: Done   9 tasks      | elapsed:    0.0s\n"
     ]
    },
    {
     "name": "stdout",
     "output_type": "stream",
     "text": [
      "Starting Grid search for numerical model ...\n",
      "Fitting 3 folds for each of 24 candidates, totalling 72 fits\n",
      "Starting Grid search for text model ...\n",
      "Fitting 3 folds for each of 24 candidates, totalling 72 fits\n"
     ]
    },
    {
     "name": "stderr",
     "output_type": "stream",
     "text": [
      "[Parallel(n_jobs=-1)]: Done  72 out of  72 | elapsed:    0.1s finished\n",
      "[Parallel(n_jobs=-1)]: Using backend LokyBackend with 8 concurrent workers.\n",
      "[Parallel(n_jobs=-1)]: Done   9 tasks      | elapsed:    0.0s\n",
      "[Parallel(n_jobs=-1)]: Done  72 out of  72 | elapsed:    0.1s finished\n",
      " 87%|████████▋ | 47/54 [00:19<00:02,  2.46it/s][Parallel(n_jobs=-1)]: Using backend LokyBackend with 8 concurrent workers.\n",
      "[Parallel(n_jobs=-1)]: Done   9 tasks      | elapsed:    0.0s\n",
      "[Parallel(n_jobs=-1)]: Done  31 out of  36 | elapsed:    0.1s remaining:    0.0s\n",
      "[Parallel(n_jobs=-1)]: Done  36 out of  36 | elapsed:    0.1s finished\n",
      "[Parallel(n_jobs=-1)]: Using backend LokyBackend with 8 concurrent workers.\n",
      "[Parallel(n_jobs=-1)]: Done   9 tasks      | elapsed:    0.0s\n",
      "[Parallel(n_jobs=-1)]: Done  21 out of  36 | elapsed:    0.0s remaining:    0.0s\n",
      "[Parallel(n_jobs=-1)]: Done  31 out of  36 | elapsed:    0.0s remaining:    0.0s\n",
      "[Parallel(n_jobs=-1)]: Done  36 out of  36 | elapsed:    0.0s finished\n",
      " 89%|████████▉ | 48/54 [00:19<00:01,  3.06it/s][Parallel(n_jobs=-1)]: Using backend LokyBackend with 8 concurrent workers.\n"
     ]
    },
    {
     "name": "stdout",
     "output_type": "stream",
     "text": [
      "Starting Grid search for numerical model ...\n",
      "Fitting 3 folds for each of 12 candidates, totalling 36 fits\n",
      "Starting Grid search for text model ...\n",
      "Fitting 3 folds for each of 12 candidates, totalling 36 fits\n",
      "Starting Grid search for numerical model ...\n",
      "Fitting 3 folds for each of 36 candidates, totalling 108 fits\n"
     ]
    },
    {
     "name": "stderr",
     "output_type": "stream",
     "text": [
      "[Parallel(n_jobs=-1)]: Done   9 tasks      | elapsed:    0.1s\n",
      "[Parallel(n_jobs=-1)]: Done 108 out of 108 | elapsed:    0.3s finished\n",
      "[Parallel(n_jobs=-1)]: Using backend LokyBackend with 8 concurrent workers.\n",
      "[Parallel(n_jobs=-1)]: Done   9 tasks      | elapsed:    0.1s\n"
     ]
    },
    {
     "name": "stdout",
     "output_type": "stream",
     "text": [
      "Starting Grid search for text model ...\n",
      "Fitting 3 folds for each of 36 candidates, totalling 108 fits\n"
     ]
    },
    {
     "name": "stderr",
     "output_type": "stream",
     "text": [
      "[Parallel(n_jobs=-1)]: Done  93 out of 108 | elapsed:    0.2s remaining:    0.0s\n",
      "[Parallel(n_jobs=-1)]: Done 108 out of 108 | elapsed:    0.3s finished\n",
      " 91%|█████████ | 49/54 [00:20<00:02,  2.29it/s][Parallel(n_jobs=-1)]: Using backend LokyBackend with 8 concurrent workers.\n",
      "[Parallel(n_jobs=-1)]: Done  10 tasks      | elapsed:    0.0s\n"
     ]
    },
    {
     "name": "stdout",
     "output_type": "stream",
     "text": [
      "Starting Grid search for numerical model ...\n",
      "Fitting 3 folds for each of 24 candidates, totalling 72 fits\n",
      "Starting Grid search for text model ...\n",
      "Fitting 3 folds for each of 24 candidates, totalling 72 fits\n"
     ]
    },
    {
     "name": "stderr",
     "output_type": "stream",
     "text": [
      "[Parallel(n_jobs=-1)]: Done  72 out of  72 | elapsed:    0.1s finished\n",
      "[Parallel(n_jobs=-1)]: Using backend LokyBackend with 8 concurrent workers.\n",
      "[Parallel(n_jobs=-1)]: Done   9 tasks      | elapsed:    0.0s\n",
      "[Parallel(n_jobs=-1)]: Done  72 out of  72 | elapsed:    0.1s finished\n",
      " 93%|█████████▎| 50/54 [00:20<00:01,  2.56it/s][Parallel(n_jobs=-1)]: Using backend LokyBackend with 8 concurrent workers.\n",
      "[Parallel(n_jobs=-1)]: Done   9 tasks      | elapsed:    0.0s\n",
      "[Parallel(n_jobs=-1)]: Done  21 out of  36 | elapsed:    0.0s remaining:    0.0s\n",
      "[Parallel(n_jobs=-1)]: Done  36 out of  36 | elapsed:    0.0s finished\n",
      "[Parallel(n_jobs=-1)]: Using backend LokyBackend with 8 concurrent workers.\n",
      "[Parallel(n_jobs=-1)]: Done   9 tasks      | elapsed:    0.0s\n",
      "[Parallel(n_jobs=-1)]: Done  31 out of  36 | elapsed:    0.0s remaining:    0.0s\n",
      "[Parallel(n_jobs=-1)]: Done  36 out of  36 | elapsed:    0.0s finished\n",
      " 94%|█████████▍| 51/54 [00:20<00:00,  3.21it/s][Parallel(n_jobs=-1)]: Using backend LokyBackend with 8 concurrent workers.\n"
     ]
    },
    {
     "name": "stdout",
     "output_type": "stream",
     "text": [
      "Starting Grid search for numerical model ...\n",
      "Fitting 3 folds for each of 12 candidates, totalling 36 fits\n",
      "Starting Grid search for text model ...\n",
      "Fitting 3 folds for each of 12 candidates, totalling 36 fits\n",
      "Starting Grid search for numerical model ...\n",
      "Fitting 3 folds for each of 36 candidates, totalling 108 fits\n"
     ]
    },
    {
     "name": "stderr",
     "output_type": "stream",
     "text": [
      "[Parallel(n_jobs=-1)]: Done   9 tasks      | elapsed:    0.1s\n",
      "[Parallel(n_jobs=-1)]: Done 108 out of 108 | elapsed:    0.2s finished\n",
      "[Parallel(n_jobs=-1)]: Using backend LokyBackend with 8 concurrent workers.\n",
      "[Parallel(n_jobs=-1)]: Done  12 tasks      | elapsed:    0.1s\n"
     ]
    },
    {
     "name": "stdout",
     "output_type": "stream",
     "text": [
      "Starting Grid search for text model ...\n",
      "Fitting 3 folds for each of 36 candidates, totalling 108 fits\n"
     ]
    },
    {
     "name": "stderr",
     "output_type": "stream",
     "text": [
      "[Parallel(n_jobs=-1)]: Done 108 out of 108 | elapsed:    0.3s finished\n",
      " 96%|█████████▋| 52/54 [00:21<00:00,  2.46it/s][Parallel(n_jobs=-1)]: Using backend LokyBackend with 8 concurrent workers.\n",
      "[Parallel(n_jobs=-1)]: Done  12 tasks      | elapsed:    0.1s\n",
      "[Parallel(n_jobs=-1)]: Done  72 out of  72 | elapsed:    0.1s finished\n",
      "[Parallel(n_jobs=-1)]: Using backend LokyBackend with 8 concurrent workers.\n"
     ]
    },
    {
     "name": "stdout",
     "output_type": "stream",
     "text": [
      "Starting Grid search for numerical model ...\n",
      "Fitting 3 folds for each of 24 candidates, totalling 72 fits\n",
      "Starting Grid search for text model ...\n",
      "Fitting 3 folds for each of 24 candidates, totalling 72 fits\n"
     ]
    },
    {
     "name": "stderr",
     "output_type": "stream",
     "text": [
      "[Parallel(n_jobs=-1)]: Done   9 tasks      | elapsed:    0.0s\n",
      "[Parallel(n_jobs=-1)]: Done  72 out of  72 | elapsed:    0.1s finished\n",
      " 98%|█████████▊| 53/54 [00:21<00:00,  2.73it/s][Parallel(n_jobs=-1)]: Using backend LokyBackend with 8 concurrent workers.\n",
      "[Parallel(n_jobs=-1)]: Done   9 tasks      | elapsed:    0.0s\n",
      "[Parallel(n_jobs=-1)]: Done  31 out of  36 | elapsed:    0.0s remaining:    0.0s\n",
      "[Parallel(n_jobs=-1)]: Done  36 out of  36 | elapsed:    0.0s finished\n",
      "/home/bigdata/anaconda3/lib/python3.8/site-packages/sklearn/svm/_base.py:976: ConvergenceWarning: Liblinear failed to converge, increase the number of iterations.\n",
      "  warnings.warn(\"Liblinear failed to converge, increase \"\n",
      "[Parallel(n_jobs=-1)]: Using backend LokyBackend with 8 concurrent workers.\n",
      "[Parallel(n_jobs=-1)]: Done   9 tasks      | elapsed:    0.0s\n",
      "[Parallel(n_jobs=-1)]: Done  31 out of  36 | elapsed:    0.0s remaining:    0.0s\n",
      "[Parallel(n_jobs=-1)]: Done  36 out of  36 | elapsed:    0.0s finished\n",
      "100%|██████████| 54/54 [00:22<00:00,  2.45it/s]\n"
     ]
    },
    {
     "name": "stdout",
     "output_type": "stream",
     "text": [
      "Starting Grid search for numerical model ...\n",
      "Fitting 3 folds for each of 12 candidates, totalling 36 fits\n",
      "Starting Grid search for text model ...\n",
      "Fitting 3 folds for each of 12 candidates, totalling 36 fits\n"
     ]
    },
    {
     "data": {
      "text/html": [
       "<div>\n",
       "<style scoped>\n",
       "    .dataframe tbody tr th:only-of-type {\n",
       "        vertical-align: middle;\n",
       "    }\n",
       "\n",
       "    .dataframe tbody tr th {\n",
       "        vertical-align: top;\n",
       "    }\n",
       "\n",
       "    .dataframe thead th {\n",
       "        text-align: right;\n",
       "    }\n",
       "</style>\n",
       "<table border=\"1\" class=\"dataframe\">\n",
       "  <thead>\n",
       "    <tr style=\"text-align: right;\">\n",
       "      <th></th>\n",
       "      <th>CV_numerical</th>\n",
       "      <th>CV_text</th>\n",
       "      <th>target_type</th>\n",
       "      <th>target_variable</th>\n",
       "      <th>grid_search_metric</th>\n",
       "      <th>categorial_variables</th>\n",
       "      <th>min_df_exponents</th>\n",
       "      <th>n_gram_range</th>\n",
       "      <th>use_tfidf</th>\n",
       "      <th>ml_algorithms_params</th>\n",
       "      <th>CV_numerical_best_params</th>\n",
       "      <th>CV_numerical_best_score</th>\n",
       "      <th>CV_text_best_params</th>\n",
       "      <th>CV_text_best_score</th>\n",
       "    </tr>\n",
       "  </thead>\n",
       "  <tbody>\n",
       "    <tr>\n",
       "      <th>0</th>\n",
       "      <td>{'model': &lt;class 'xgboost.sklearn.XGBClassifie...</td>\n",
       "      <td>{'model': &lt;class 'xgboost.sklearn.XGBClassifie...</td>\n",
       "      <td>classification</td>\n",
       "      <td>gender</td>\n",
       "      <td>accuracy</td>\n",
       "      <td>[topic, sign]</td>\n",
       "      <td>0.250000</td>\n",
       "      <td>(1, 1)</td>\n",
       "      <td>True</td>\n",
       "      <td>(&lt;class 'xgboost.sklearn.XGBClassifier'&gt;, {'le...</td>\n",
       "      <td>{'learning_rate': 0.1, 'max_depth': 7, 'n_esti...</td>\n",
       "      <td>0.577778</td>\n",
       "      <td>{'learning_rate': 1, 'max_depth': 7, 'n_estima...</td>\n",
       "      <td>0.534444</td>\n",
       "    </tr>\n",
       "    <tr>\n",
       "      <th>1</th>\n",
       "      <td>{'model': &lt;class 'sklearn.linear_model._stocha...</td>\n",
       "      <td>{'model': &lt;class 'sklearn.linear_model._stocha...</td>\n",
       "      <td>classification</td>\n",
       "      <td>gender</td>\n",
       "      <td>accuracy</td>\n",
       "      <td>[topic, sign]</td>\n",
       "      <td>0.250000</td>\n",
       "      <td>(1, 1)</td>\n",
       "      <td>True</td>\n",
       "      <td>(&lt;class 'sklearn.linear_model._stochastic_grad...</td>\n",
       "      <td>{'alpha': 1e-05, 'loss': 'modified_huber', 'pe...</td>\n",
       "      <td>0.630000</td>\n",
       "      <td>{'alpha': 1e-05, 'loss': 'hinge', 'penalty': '...</td>\n",
       "      <td>0.563333</td>\n",
       "    </tr>\n",
       "    <tr>\n",
       "      <th>2</th>\n",
       "      <td>{'model': &lt;class 'sklearn.svm._classes.LinearS...</td>\n",
       "      <td>{'model': &lt;class 'sklearn.svm._classes.LinearS...</td>\n",
       "      <td>classification</td>\n",
       "      <td>gender</td>\n",
       "      <td>accuracy</td>\n",
       "      <td>[topic, sign]</td>\n",
       "      <td>0.250000</td>\n",
       "      <td>(1, 1)</td>\n",
       "      <td>True</td>\n",
       "      <td>(&lt;class 'sklearn.svm._classes.LinearSVC'&gt;, {'p...</td>\n",
       "      <td>{'C': 1.2, 'loss': 'squared_hinge', 'penalty':...</td>\n",
       "      <td>0.561111</td>\n",
       "      <td>{'C': 0.8, 'loss': 'squared_hinge', 'penalty':...</td>\n",
       "      <td>0.495556</td>\n",
       "    </tr>\n",
       "    <tr>\n",
       "      <th>3</th>\n",
       "      <td>{'model': &lt;class 'xgboost.sklearn.XGBClassifie...</td>\n",
       "      <td>{'model': &lt;class 'xgboost.sklearn.XGBClassifie...</td>\n",
       "      <td>classification</td>\n",
       "      <td>gender</td>\n",
       "      <td>accuracy</td>\n",
       "      <td>[topic, sign]</td>\n",
       "      <td>0.250000</td>\n",
       "      <td>(1, 1)</td>\n",
       "      <td>False</td>\n",
       "      <td>(&lt;class 'xgboost.sklearn.XGBClassifier'&gt;, {'le...</td>\n",
       "      <td>{'learning_rate': 0.1, 'max_depth': 7, 'n_esti...</td>\n",
       "      <td>0.577778</td>\n",
       "      <td>{'learning_rate': 1.2, 'max_depth': 7, 'n_esti...</td>\n",
       "      <td>0.590556</td>\n",
       "    </tr>\n",
       "    <tr>\n",
       "      <th>4</th>\n",
       "      <td>{'model': &lt;class 'sklearn.linear_model._stocha...</td>\n",
       "      <td>{'model': &lt;class 'sklearn.linear_model._stocha...</td>\n",
       "      <td>classification</td>\n",
       "      <td>gender</td>\n",
       "      <td>accuracy</td>\n",
       "      <td>[topic, sign]</td>\n",
       "      <td>0.250000</td>\n",
       "      <td>(1, 1)</td>\n",
       "      <td>False</td>\n",
       "      <td>(&lt;class 'sklearn.linear_model._stochastic_grad...</td>\n",
       "      <td>{'alpha': 1e-05, 'loss': 'hinge', 'penalty': '...</td>\n",
       "      <td>0.616667</td>\n",
       "      <td>{'alpha': 1e-05, 'loss': 'hinge', 'penalty': '...</td>\n",
       "      <td>0.588889</td>\n",
       "    </tr>\n",
       "    <tr>\n",
       "      <th>5</th>\n",
       "      <td>{'model': &lt;class 'sklearn.svm._classes.LinearS...</td>\n",
       "      <td>{'model': &lt;class 'sklearn.svm._classes.LinearS...</td>\n",
       "      <td>classification</td>\n",
       "      <td>gender</td>\n",
       "      <td>accuracy</td>\n",
       "      <td>[topic, sign]</td>\n",
       "      <td>0.250000</td>\n",
       "      <td>(1, 1)</td>\n",
       "      <td>False</td>\n",
       "      <td>(&lt;class 'sklearn.svm._classes.LinearSVC'&gt;, {'p...</td>\n",
       "      <td>{'C': 1.2, 'loss': 'squared_hinge', 'penalty':...</td>\n",
       "      <td>0.561111</td>\n",
       "      <td>{'C': 1, 'loss': 'squared_hinge', 'penalty': '...</td>\n",
       "      <td>0.494444</td>\n",
       "    </tr>\n",
       "    <tr>\n",
       "      <th>6</th>\n",
       "      <td>{'model': &lt;class 'xgboost.sklearn.XGBClassifie...</td>\n",
       "      <td>{'model': &lt;class 'xgboost.sklearn.XGBClassifie...</td>\n",
       "      <td>classification</td>\n",
       "      <td>gender</td>\n",
       "      <td>accuracy</td>\n",
       "      <td>[topic, sign]</td>\n",
       "      <td>0.250000</td>\n",
       "      <td>(1, 2)</td>\n",
       "      <td>True</td>\n",
       "      <td>(&lt;class 'xgboost.sklearn.XGBClassifier'&gt;, {'le...</td>\n",
       "      <td>{'learning_rate': 0.1, 'max_depth': 7, 'n_esti...</td>\n",
       "      <td>0.577778</td>\n",
       "      <td>{'learning_rate': 1, 'max_depth': 7, 'n_estima...</td>\n",
       "      <td>0.493889</td>\n",
       "    </tr>\n",
       "    <tr>\n",
       "      <th>7</th>\n",
       "      <td>{'model': &lt;class 'sklearn.linear_model._stocha...</td>\n",
       "      <td>{'model': &lt;class 'sklearn.linear_model._stocha...</td>\n",
       "      <td>classification</td>\n",
       "      <td>gender</td>\n",
       "      <td>accuracy</td>\n",
       "      <td>[topic, sign]</td>\n",
       "      <td>0.250000</td>\n",
       "      <td>(1, 2)</td>\n",
       "      <td>True</td>\n",
       "      <td>(&lt;class 'sklearn.linear_model._stochastic_grad...</td>\n",
       "      <td>{'alpha': 0.001, 'loss': 'squared_hinge', 'pen...</td>\n",
       "      <td>0.602222</td>\n",
       "      <td>{'alpha': 0.001, 'loss': 'squared_hinge', 'pen...</td>\n",
       "      <td>0.576667</td>\n",
       "    </tr>\n",
       "    <tr>\n",
       "      <th>8</th>\n",
       "      <td>{'model': &lt;class 'sklearn.svm._classes.LinearS...</td>\n",
       "      <td>{'model': &lt;class 'sklearn.svm._classes.LinearS...</td>\n",
       "      <td>classification</td>\n",
       "      <td>gender</td>\n",
       "      <td>accuracy</td>\n",
       "      <td>[topic, sign]</td>\n",
       "      <td>0.250000</td>\n",
       "      <td>(1, 2)</td>\n",
       "      <td>True</td>\n",
       "      <td>(&lt;class 'sklearn.svm._classes.LinearSVC'&gt;, {'p...</td>\n",
       "      <td>{'C': 1.2, 'loss': 'squared_hinge', 'penalty':...</td>\n",
       "      <td>0.561111</td>\n",
       "      <td>{'C': 1.2, 'loss': 'squared_hinge', 'penalty':...</td>\n",
       "      <td>0.508889</td>\n",
       "    </tr>\n",
       "    <tr>\n",
       "      <th>9</th>\n",
       "      <td>{'model': &lt;class 'xgboost.sklearn.XGBClassifie...</td>\n",
       "      <td>{'model': &lt;class 'xgboost.sklearn.XGBClassifie...</td>\n",
       "      <td>classification</td>\n",
       "      <td>gender</td>\n",
       "      <td>accuracy</td>\n",
       "      <td>[topic, sign]</td>\n",
       "      <td>0.250000</td>\n",
       "      <td>(1, 2)</td>\n",
       "      <td>False</td>\n",
       "      <td>(&lt;class 'xgboost.sklearn.XGBClassifier'&gt;, {'le...</td>\n",
       "      <td>{'learning_rate': 0.1, 'max_depth': 7, 'n_esti...</td>\n",
       "      <td>0.577778</td>\n",
       "      <td>{'learning_rate': 1.2, 'max_depth': 7, 'n_esti...</td>\n",
       "      <td>0.603889</td>\n",
       "    </tr>\n",
       "    <tr>\n",
       "      <th>10</th>\n",
       "      <td>{'model': &lt;class 'sklearn.linear_model._stocha...</td>\n",
       "      <td>{'model': &lt;class 'sklearn.linear_model._stocha...</td>\n",
       "      <td>classification</td>\n",
       "      <td>gender</td>\n",
       "      <td>accuracy</td>\n",
       "      <td>[topic, sign]</td>\n",
       "      <td>0.250000</td>\n",
       "      <td>(1, 2)</td>\n",
       "      <td>False</td>\n",
       "      <td>(&lt;class 'sklearn.linear_model._stochastic_grad...</td>\n",
       "      <td>{'alpha': 0.001, 'loss': 'hinge', 'penalty': '...</td>\n",
       "      <td>0.617778</td>\n",
       "      <td>{'alpha': 0.001, 'loss': 'hinge', 'penalty': '...</td>\n",
       "      <td>0.617222</td>\n",
       "    </tr>\n",
       "    <tr>\n",
       "      <th>11</th>\n",
       "      <td>{'model': &lt;class 'sklearn.svm._classes.LinearS...</td>\n",
       "      <td>{'model': &lt;class 'sklearn.svm._classes.LinearS...</td>\n",
       "      <td>classification</td>\n",
       "      <td>gender</td>\n",
       "      <td>accuracy</td>\n",
       "      <td>[topic, sign]</td>\n",
       "      <td>0.250000</td>\n",
       "      <td>(1, 2)</td>\n",
       "      <td>False</td>\n",
       "      <td>(&lt;class 'sklearn.svm._classes.LinearSVC'&gt;, {'p...</td>\n",
       "      <td>{'C': 1.2, 'loss': 'squared_hinge', 'penalty':...</td>\n",
       "      <td>0.561111</td>\n",
       "      <td>{'C': 0.8, 'loss': 'squared_hinge', 'penalty':...</td>\n",
       "      <td>0.507778</td>\n",
       "    </tr>\n",
       "    <tr>\n",
       "      <th>12</th>\n",
       "      <td>{'model': &lt;class 'xgboost.sklearn.XGBClassifie...</td>\n",
       "      <td>{'model': &lt;class 'xgboost.sklearn.XGBClassifie...</td>\n",
       "      <td>classification</td>\n",
       "      <td>gender</td>\n",
       "      <td>accuracy</td>\n",
       "      <td>[topic, sign]</td>\n",
       "      <td>0.250000</td>\n",
       "      <td>(2, 2)</td>\n",
       "      <td>True</td>\n",
       "      <td>(&lt;class 'xgboost.sklearn.XGBClassifier'&gt;, {'le...</td>\n",
       "      <td>{'learning_rate': 0.1, 'max_depth': 7, 'n_esti...</td>\n",
       "      <td>0.577778</td>\n",
       "      <td>{'learning_rate': 0.8, 'max_depth': 7, 'n_esti...</td>\n",
       "      <td>0.617778</td>\n",
       "    </tr>\n",
       "    <tr>\n",
       "      <th>13</th>\n",
       "      <td>{'model': &lt;class 'sklearn.linear_model._stocha...</td>\n",
       "      <td>{'model': &lt;class 'sklearn.linear_model._stocha...</td>\n",
       "      <td>classification</td>\n",
       "      <td>gender</td>\n",
       "      <td>accuracy</td>\n",
       "      <td>[topic, sign]</td>\n",
       "      <td>0.250000</td>\n",
       "      <td>(2, 2)</td>\n",
       "      <td>True</td>\n",
       "      <td>(&lt;class 'sklearn.linear_model._stochastic_grad...</td>\n",
       "      <td>{'alpha': 1e-05, 'loss': 'log', 'penalty': 'l2'}</td>\n",
       "      <td>0.644444</td>\n",
       "      <td>{'alpha': 1e-05, 'loss': 'squared_hinge', 'pen...</td>\n",
       "      <td>0.575556</td>\n",
       "    </tr>\n",
       "    <tr>\n",
       "      <th>14</th>\n",
       "      <td>{'model': &lt;class 'sklearn.svm._classes.LinearS...</td>\n",
       "      <td>{'model': &lt;class 'sklearn.svm._classes.LinearS...</td>\n",
       "      <td>classification</td>\n",
       "      <td>gender</td>\n",
       "      <td>accuracy</td>\n",
       "      <td>[topic, sign]</td>\n",
       "      <td>0.250000</td>\n",
       "      <td>(2, 2)</td>\n",
       "      <td>True</td>\n",
       "      <td>(&lt;class 'sklearn.svm._classes.LinearSVC'&gt;, {'p...</td>\n",
       "      <td>{'C': 1.2, 'loss': 'squared_hinge', 'penalty':...</td>\n",
       "      <td>0.561111</td>\n",
       "      <td>{'C': 0.8, 'loss': 'hinge', 'penalty': 'l2'}</td>\n",
       "      <td>0.535000</td>\n",
       "    </tr>\n",
       "    <tr>\n",
       "      <th>15</th>\n",
       "      <td>{'model': &lt;class 'xgboost.sklearn.XGBClassifie...</td>\n",
       "      <td>{'model': &lt;class 'xgboost.sklearn.XGBClassifie...</td>\n",
       "      <td>classification</td>\n",
       "      <td>gender</td>\n",
       "      <td>accuracy</td>\n",
       "      <td>[topic, sign]</td>\n",
       "      <td>0.250000</td>\n",
       "      <td>(2, 2)</td>\n",
       "      <td>False</td>\n",
       "      <td>(&lt;class 'xgboost.sklearn.XGBClassifier'&gt;, {'le...</td>\n",
       "      <td>{'learning_rate': 0.1, 'max_depth': 7, 'n_esti...</td>\n",
       "      <td>0.577778</td>\n",
       "      <td>{'learning_rate': 1, 'max_depth': 7, 'n_estima...</td>\n",
       "      <td>0.630556</td>\n",
       "    </tr>\n",
       "    <tr>\n",
       "      <th>16</th>\n",
       "      <td>{'model': &lt;class 'sklearn.linear_model._stocha...</td>\n",
       "      <td>{'model': &lt;class 'sklearn.linear_model._stocha...</td>\n",
       "      <td>classification</td>\n",
       "      <td>gender</td>\n",
       "      <td>accuracy</td>\n",
       "      <td>[topic, sign]</td>\n",
       "      <td>0.250000</td>\n",
       "      <td>(2, 2)</td>\n",
       "      <td>False</td>\n",
       "      <td>(&lt;class 'sklearn.linear_model._stochastic_grad...</td>\n",
       "      <td>{'alpha': 0.001, 'loss': 'hinge', 'penalty': '...</td>\n",
       "      <td>0.603333</td>\n",
       "      <td>{'alpha': 1e-05, 'loss': 'squared_hinge', 'pen...</td>\n",
       "      <td>0.588889</td>\n",
       "    </tr>\n",
       "    <tr>\n",
       "      <th>17</th>\n",
       "      <td>{'model': &lt;class 'sklearn.svm._classes.LinearS...</td>\n",
       "      <td>{'model': &lt;class 'sklearn.svm._classes.LinearS...</td>\n",
       "      <td>classification</td>\n",
       "      <td>gender</td>\n",
       "      <td>accuracy</td>\n",
       "      <td>[topic, sign]</td>\n",
       "      <td>0.250000</td>\n",
       "      <td>(2, 2)</td>\n",
       "      <td>False</td>\n",
       "      <td>(&lt;class 'sklearn.svm._classes.LinearSVC'&gt;, {'p...</td>\n",
       "      <td>{'C': 1.2, 'loss': 'squared_hinge', 'penalty':...</td>\n",
       "      <td>0.561111</td>\n",
       "      <td>{'C': 0.8, 'loss': 'hinge', 'penalty': 'l2'}</td>\n",
       "      <td>0.535000</td>\n",
       "    </tr>\n",
       "    <tr>\n",
       "      <th>18</th>\n",
       "      <td>{'model': &lt;class 'xgboost.sklearn.XGBClassifie...</td>\n",
       "      <td>{'model': &lt;class 'xgboost.sklearn.XGBClassifie...</td>\n",
       "      <td>classification</td>\n",
       "      <td>gender</td>\n",
       "      <td>accuracy</td>\n",
       "      <td>[topic, sign]</td>\n",
       "      <td>0.333333</td>\n",
       "      <td>(1, 1)</td>\n",
       "      <td>True</td>\n",
       "      <td>(&lt;class 'xgboost.sklearn.XGBClassifier'&gt;, {'le...</td>\n",
       "      <td>{'learning_rate': 0.1, 'max_depth': 7, 'n_esti...</td>\n",
       "      <td>0.577778</td>\n",
       "      <td>{'learning_rate': 0.8, 'max_depth': 7, 'n_esti...</td>\n",
       "      <td>0.547778</td>\n",
       "    </tr>\n",
       "    <tr>\n",
       "      <th>19</th>\n",
       "      <td>{'model': &lt;class 'sklearn.linear_model._stocha...</td>\n",
       "      <td>{'model': &lt;class 'sklearn.linear_model._stocha...</td>\n",
       "      <td>classification</td>\n",
       "      <td>gender</td>\n",
       "      <td>accuracy</td>\n",
       "      <td>[topic, sign]</td>\n",
       "      <td>0.333333</td>\n",
       "      <td>(1, 1)</td>\n",
       "      <td>True</td>\n",
       "      <td>(&lt;class 'sklearn.linear_model._stochastic_grad...</td>\n",
       "      <td>{'alpha': 1e-05, 'loss': 'hinge', 'penalty': '...</td>\n",
       "      <td>0.616111</td>\n",
       "      <td>{'alpha': 0.001, 'loss': 'squared_hinge', 'pen...</td>\n",
       "      <td>0.590000</td>\n",
       "    </tr>\n",
       "    <tr>\n",
       "      <th>20</th>\n",
       "      <td>{'model': &lt;class 'sklearn.svm._classes.LinearS...</td>\n",
       "      <td>{'model': &lt;class 'sklearn.svm._classes.LinearS...</td>\n",
       "      <td>classification</td>\n",
       "      <td>gender</td>\n",
       "      <td>accuracy</td>\n",
       "      <td>[topic, sign]</td>\n",
       "      <td>0.333333</td>\n",
       "      <td>(1, 1)</td>\n",
       "      <td>True</td>\n",
       "      <td>(&lt;class 'sklearn.svm._classes.LinearSVC'&gt;, {'p...</td>\n",
       "      <td>{'C': 1.2, 'loss': 'squared_hinge', 'penalty':...</td>\n",
       "      <td>0.561111</td>\n",
       "      <td>{'C': 1, 'loss': 'squared_hinge', 'penalty': '...</td>\n",
       "      <td>0.494444</td>\n",
       "    </tr>\n",
       "    <tr>\n",
       "      <th>21</th>\n",
       "      <td>{'model': &lt;class 'xgboost.sklearn.XGBClassifie...</td>\n",
       "      <td>{'model': &lt;class 'xgboost.sklearn.XGBClassifie...</td>\n",
       "      <td>classification</td>\n",
       "      <td>gender</td>\n",
       "      <td>accuracy</td>\n",
       "      <td>[topic, sign]</td>\n",
       "      <td>0.333333</td>\n",
       "      <td>(1, 1)</td>\n",
       "      <td>False</td>\n",
       "      <td>(&lt;class 'xgboost.sklearn.XGBClassifier'&gt;, {'le...</td>\n",
       "      <td>{'learning_rate': 0.1, 'max_depth': 7, 'n_esti...</td>\n",
       "      <td>0.577778</td>\n",
       "      <td>{'learning_rate': 0.8, 'max_depth': 7, 'n_esti...</td>\n",
       "      <td>0.604444</td>\n",
       "    </tr>\n",
       "    <tr>\n",
       "      <th>22</th>\n",
       "      <td>{'model': &lt;class 'sklearn.linear_model._stocha...</td>\n",
       "      <td>{'model': &lt;class 'sklearn.linear_model._stocha...</td>\n",
       "      <td>classification</td>\n",
       "      <td>gender</td>\n",
       "      <td>accuracy</td>\n",
       "      <td>[topic, sign]</td>\n",
       "      <td>0.333333</td>\n",
       "      <td>(1, 1)</td>\n",
       "      <td>False</td>\n",
       "      <td>(&lt;class 'sklearn.linear_model._stochastic_grad...</td>\n",
       "      <td>{'alpha': 1e-05, 'loss': 'squared_hinge', 'pen...</td>\n",
       "      <td>0.616667</td>\n",
       "      <td>{'alpha': 0.001, 'loss': 'hinge', 'penalty': '...</td>\n",
       "      <td>0.590000</td>\n",
       "    </tr>\n",
       "    <tr>\n",
       "      <th>23</th>\n",
       "      <td>{'model': &lt;class 'sklearn.svm._classes.LinearS...</td>\n",
       "      <td>{'model': &lt;class 'sklearn.svm._classes.LinearS...</td>\n",
       "      <td>classification</td>\n",
       "      <td>gender</td>\n",
       "      <td>accuracy</td>\n",
       "      <td>[topic, sign]</td>\n",
       "      <td>0.333333</td>\n",
       "      <td>(1, 1)</td>\n",
       "      <td>False</td>\n",
       "      <td>(&lt;class 'sklearn.svm._classes.LinearSVC'&gt;, {'p...</td>\n",
       "      <td>{'C': 1.2, 'loss': 'squared_hinge', 'penalty':...</td>\n",
       "      <td>0.561111</td>\n",
       "      <td>{'C': 1.2, 'loss': 'squared_hinge', 'penalty':...</td>\n",
       "      <td>0.494444</td>\n",
       "    </tr>\n",
       "    <tr>\n",
       "      <th>24</th>\n",
       "      <td>{'model': &lt;class 'xgboost.sklearn.XGBClassifie...</td>\n",
       "      <td>{'model': &lt;class 'xgboost.sklearn.XGBClassifie...</td>\n",
       "      <td>classification</td>\n",
       "      <td>gender</td>\n",
       "      <td>accuracy</td>\n",
       "      <td>[topic, sign]</td>\n",
       "      <td>0.333333</td>\n",
       "      <td>(1, 2)</td>\n",
       "      <td>True</td>\n",
       "      <td>(&lt;class 'xgboost.sklearn.XGBClassifier'&gt;, {'le...</td>\n",
       "      <td>{'learning_rate': 0.1, 'max_depth': 7, 'n_esti...</td>\n",
       "      <td>0.577778</td>\n",
       "      <td>{'learning_rate': 1, 'max_depth': 7, 'n_estima...</td>\n",
       "      <td>0.548333</td>\n",
       "    </tr>\n",
       "    <tr>\n",
       "      <th>25</th>\n",
       "      <td>{'model': &lt;class 'sklearn.linear_model._stocha...</td>\n",
       "      <td>{'model': &lt;class 'sklearn.linear_model._stocha...</td>\n",
       "      <td>classification</td>\n",
       "      <td>gender</td>\n",
       "      <td>accuracy</td>\n",
       "      <td>[topic, sign]</td>\n",
       "      <td>0.333333</td>\n",
       "      <td>(1, 2)</td>\n",
       "      <td>True</td>\n",
       "      <td>(&lt;class 'sklearn.linear_model._stochastic_grad...</td>\n",
       "      <td>{'alpha': 1e-05, 'loss': 'squared_hinge', 'pen...</td>\n",
       "      <td>0.602778</td>\n",
       "      <td>{'alpha': 1e-05, 'loss': 'modified_huber', 'pe...</td>\n",
       "      <td>0.576667</td>\n",
       "    </tr>\n",
       "    <tr>\n",
       "      <th>26</th>\n",
       "      <td>{'model': &lt;class 'sklearn.svm._classes.LinearS...</td>\n",
       "      <td>{'model': &lt;class 'sklearn.svm._classes.LinearS...</td>\n",
       "      <td>classification</td>\n",
       "      <td>gender</td>\n",
       "      <td>accuracy</td>\n",
       "      <td>[topic, sign]</td>\n",
       "      <td>0.333333</td>\n",
       "      <td>(1, 2)</td>\n",
       "      <td>True</td>\n",
       "      <td>(&lt;class 'sklearn.svm._classes.LinearSVC'&gt;, {'p...</td>\n",
       "      <td>{'C': 1.2, 'loss': 'squared_hinge', 'penalty':...</td>\n",
       "      <td>0.561111</td>\n",
       "      <td>{'C': 1, 'loss': 'squared_hinge', 'penalty': '...</td>\n",
       "      <td>0.508333</td>\n",
       "    </tr>\n",
       "    <tr>\n",
       "      <th>27</th>\n",
       "      <td>{'model': &lt;class 'xgboost.sklearn.XGBClassifie...</td>\n",
       "      <td>{'model': &lt;class 'xgboost.sklearn.XGBClassifie...</td>\n",
       "      <td>classification</td>\n",
       "      <td>gender</td>\n",
       "      <td>accuracy</td>\n",
       "      <td>[topic, sign]</td>\n",
       "      <td>0.333333</td>\n",
       "      <td>(1, 2)</td>\n",
       "      <td>False</td>\n",
       "      <td>(&lt;class 'xgboost.sklearn.XGBClassifier'&gt;, {'le...</td>\n",
       "      <td>{'learning_rate': 0.1, 'max_depth': 7, 'n_esti...</td>\n",
       "      <td>0.577778</td>\n",
       "      <td>{'learning_rate': 0.8, 'max_depth': 7, 'n_esti...</td>\n",
       "      <td>0.602778</td>\n",
       "    </tr>\n",
       "    <tr>\n",
       "      <th>28</th>\n",
       "      <td>{'model': &lt;class 'sklearn.linear_model._stocha...</td>\n",
       "      <td>{'model': &lt;class 'sklearn.linear_model._stocha...</td>\n",
       "      <td>classification</td>\n",
       "      <td>gender</td>\n",
       "      <td>accuracy</td>\n",
       "      <td>[topic, sign]</td>\n",
       "      <td>0.333333</td>\n",
       "      <td>(1, 2)</td>\n",
       "      <td>False</td>\n",
       "      <td>(&lt;class 'sklearn.linear_model._stochastic_grad...</td>\n",
       "      <td>{'alpha': 1e-05, 'loss': 'hinge', 'penalty': '...</td>\n",
       "      <td>0.590000</td>\n",
       "      <td>{'alpha': 0.001, 'loss': 'squared_hinge', 'pen...</td>\n",
       "      <td>0.617778</td>\n",
       "    </tr>\n",
       "    <tr>\n",
       "      <th>29</th>\n",
       "      <td>{'model': &lt;class 'sklearn.svm._classes.LinearS...</td>\n",
       "      <td>{'model': &lt;class 'sklearn.svm._classes.LinearS...</td>\n",
       "      <td>classification</td>\n",
       "      <td>gender</td>\n",
       "      <td>accuracy</td>\n",
       "      <td>[topic, sign]</td>\n",
       "      <td>0.333333</td>\n",
       "      <td>(1, 2)</td>\n",
       "      <td>False</td>\n",
       "      <td>(&lt;class 'sklearn.svm._classes.LinearSVC'&gt;, {'p...</td>\n",
       "      <td>{'C': 1.2, 'loss': 'squared_hinge', 'penalty':...</td>\n",
       "      <td>0.561111</td>\n",
       "      <td>{'C': 1, 'loss': 'squared_hinge', 'penalty': '...</td>\n",
       "      <td>0.493889</td>\n",
       "    </tr>\n",
       "    <tr>\n",
       "      <th>30</th>\n",
       "      <td>{'model': &lt;class 'xgboost.sklearn.XGBClassifie...</td>\n",
       "      <td>{'model': &lt;class 'xgboost.sklearn.XGBClassifie...</td>\n",
       "      <td>classification</td>\n",
       "      <td>gender</td>\n",
       "      <td>accuracy</td>\n",
       "      <td>[topic, sign]</td>\n",
       "      <td>0.333333</td>\n",
       "      <td>(2, 2)</td>\n",
       "      <td>True</td>\n",
       "      <td>(&lt;class 'xgboost.sklearn.XGBClassifier'&gt;, {'le...</td>\n",
       "      <td>{'learning_rate': 0.1, 'max_depth': 7, 'n_esti...</td>\n",
       "      <td>0.577778</td>\n",
       "      <td>{'learning_rate': 0.8, 'max_depth': 7, 'n_esti...</td>\n",
       "      <td>0.617222</td>\n",
       "    </tr>\n",
       "    <tr>\n",
       "      <th>31</th>\n",
       "      <td>{'model': &lt;class 'sklearn.linear_model._stocha...</td>\n",
       "      <td>{'model': &lt;class 'sklearn.linear_model._stocha...</td>\n",
       "      <td>classification</td>\n",
       "      <td>gender</td>\n",
       "      <td>accuracy</td>\n",
       "      <td>[topic, sign]</td>\n",
       "      <td>0.333333</td>\n",
       "      <td>(2, 2)</td>\n",
       "      <td>True</td>\n",
       "      <td>(&lt;class 'sklearn.linear_model._stochastic_grad...</td>\n",
       "      <td>{'alpha': 1e-05, 'loss': 'squared_hinge', 'pen...</td>\n",
       "      <td>0.631667</td>\n",
       "      <td>{'alpha': 1e-05, 'loss': 'squared_hinge', 'pen...</td>\n",
       "      <td>0.590000</td>\n",
       "    </tr>\n",
       "    <tr>\n",
       "      <th>32</th>\n",
       "      <td>{'model': &lt;class 'sklearn.svm._classes.LinearS...</td>\n",
       "      <td>{'model': &lt;class 'sklearn.svm._classes.LinearS...</td>\n",
       "      <td>classification</td>\n",
       "      <td>gender</td>\n",
       "      <td>accuracy</td>\n",
       "      <td>[topic, sign]</td>\n",
       "      <td>0.333333</td>\n",
       "      <td>(2, 2)</td>\n",
       "      <td>True</td>\n",
       "      <td>(&lt;class 'sklearn.svm._classes.LinearSVC'&gt;, {'p...</td>\n",
       "      <td>{'C': 1.2, 'loss': 'squared_hinge', 'penalty':...</td>\n",
       "      <td>0.561111</td>\n",
       "      <td>{'C': 0.8, 'loss': 'hinge', 'penalty': 'l2'}</td>\n",
       "      <td>0.562778</td>\n",
       "    </tr>\n",
       "    <tr>\n",
       "      <th>33</th>\n",
       "      <td>{'model': &lt;class 'xgboost.sklearn.XGBClassifie...</td>\n",
       "      <td>{'model': &lt;class 'xgboost.sklearn.XGBClassifie...</td>\n",
       "      <td>classification</td>\n",
       "      <td>gender</td>\n",
       "      <td>accuracy</td>\n",
       "      <td>[topic, sign]</td>\n",
       "      <td>0.333333</td>\n",
       "      <td>(2, 2)</td>\n",
       "      <td>False</td>\n",
       "      <td>(&lt;class 'xgboost.sklearn.XGBClassifier'&gt;, {'le...</td>\n",
       "      <td>{'learning_rate': 0.1, 'max_depth': 7, 'n_esti...</td>\n",
       "      <td>0.577778</td>\n",
       "      <td>{'learning_rate': 0.1, 'max_depth': 7, 'n_esti...</td>\n",
       "      <td>0.617222</td>\n",
       "    </tr>\n",
       "    <tr>\n",
       "      <th>34</th>\n",
       "      <td>{'model': &lt;class 'sklearn.linear_model._stocha...</td>\n",
       "      <td>{'model': &lt;class 'sklearn.linear_model._stocha...</td>\n",
       "      <td>classification</td>\n",
       "      <td>gender</td>\n",
       "      <td>accuracy</td>\n",
       "      <td>[topic, sign]</td>\n",
       "      <td>0.333333</td>\n",
       "      <td>(2, 2)</td>\n",
       "      <td>False</td>\n",
       "      <td>(&lt;class 'sklearn.linear_model._stochastic_grad...</td>\n",
       "      <td>{'alpha': 1e-05, 'loss': 'squared_hinge', 'pen...</td>\n",
       "      <td>0.631111</td>\n",
       "      <td>{'alpha': 1e-05, 'loss': 'squared_hinge', 'pen...</td>\n",
       "      <td>0.590000</td>\n",
       "    </tr>\n",
       "    <tr>\n",
       "      <th>35</th>\n",
       "      <td>{'model': &lt;class 'sklearn.svm._classes.LinearS...</td>\n",
       "      <td>{'model': &lt;class 'sklearn.svm._classes.LinearS...</td>\n",
       "      <td>classification</td>\n",
       "      <td>gender</td>\n",
       "      <td>accuracy</td>\n",
       "      <td>[topic, sign]</td>\n",
       "      <td>0.333333</td>\n",
       "      <td>(2, 2)</td>\n",
       "      <td>False</td>\n",
       "      <td>(&lt;class 'sklearn.svm._classes.LinearSVC'&gt;, {'p...</td>\n",
       "      <td>{'C': 1.2, 'loss': 'squared_hinge', 'penalty':...</td>\n",
       "      <td>0.561111</td>\n",
       "      <td>{'C': 0.8, 'loss': 'squared_hinge', 'penalty':...</td>\n",
       "      <td>0.561667</td>\n",
       "    </tr>\n",
       "    <tr>\n",
       "      <th>36</th>\n",
       "      <td>{'model': &lt;class 'xgboost.sklearn.XGBClassifie...</td>\n",
       "      <td>{'model': &lt;class 'xgboost.sklearn.XGBClassifie...</td>\n",
       "      <td>classification</td>\n",
       "      <td>gender</td>\n",
       "      <td>accuracy</td>\n",
       "      <td>[topic, sign]</td>\n",
       "      <td>0.500000</td>\n",
       "      <td>(1, 1)</td>\n",
       "      <td>True</td>\n",
       "      <td>(&lt;class 'xgboost.sklearn.XGBClassifier'&gt;, {'le...</td>\n",
       "      <td>{'learning_rate': 0.1, 'max_depth': 7, 'n_esti...</td>\n",
       "      <td>0.577778</td>\n",
       "      <td>{'learning_rate': 0.8, 'max_depth': 7, 'n_esti...</td>\n",
       "      <td>0.465556</td>\n",
       "    </tr>\n",
       "    <tr>\n",
       "      <th>37</th>\n",
       "      <td>{'model': &lt;class 'sklearn.linear_model._stocha...</td>\n",
       "      <td>{'model': &lt;class 'sklearn.linear_model._stocha...</td>\n",
       "      <td>classification</td>\n",
       "      <td>gender</td>\n",
       "      <td>accuracy</td>\n",
       "      <td>[topic, sign]</td>\n",
       "      <td>0.500000</td>\n",
       "      <td>(1, 1)</td>\n",
       "      <td>True</td>\n",
       "      <td>(&lt;class 'sklearn.linear_model._stochastic_grad...</td>\n",
       "      <td>{'alpha': 1e-05, 'loss': 'log', 'penalty': 'l1'}</td>\n",
       "      <td>0.602778</td>\n",
       "      <td>{'alpha': 0.001, 'loss': 'modified_huber', 'pe...</td>\n",
       "      <td>0.521111</td>\n",
       "    </tr>\n",
       "    <tr>\n",
       "      <th>38</th>\n",
       "      <td>{'model': &lt;class 'sklearn.svm._classes.LinearS...</td>\n",
       "      <td>{'model': &lt;class 'sklearn.svm._classes.LinearS...</td>\n",
       "      <td>classification</td>\n",
       "      <td>gender</td>\n",
       "      <td>accuracy</td>\n",
       "      <td>[topic, sign]</td>\n",
       "      <td>0.500000</td>\n",
       "      <td>(1, 1)</td>\n",
       "      <td>True</td>\n",
       "      <td>(&lt;class 'sklearn.svm._classes.LinearSVC'&gt;, {'p...</td>\n",
       "      <td>{'C': 1.2, 'loss': 'squared_hinge', 'penalty':...</td>\n",
       "      <td>0.561111</td>\n",
       "      <td>{'C': 1.2, 'loss': 'hinge', 'penalty': 'l2'}</td>\n",
       "      <td>0.535000</td>\n",
       "    </tr>\n",
       "    <tr>\n",
       "      <th>39</th>\n",
       "      <td>{'model': &lt;class 'xgboost.sklearn.XGBClassifie...</td>\n",
       "      <td>{'model': &lt;class 'xgboost.sklearn.XGBClassifie...</td>\n",
       "      <td>classification</td>\n",
       "      <td>gender</td>\n",
       "      <td>accuracy</td>\n",
       "      <td>[topic, sign]</td>\n",
       "      <td>0.500000</td>\n",
       "      <td>(1, 1)</td>\n",
       "      <td>False</td>\n",
       "      <td>(&lt;class 'xgboost.sklearn.XGBClassifier'&gt;, {'le...</td>\n",
       "      <td>{'learning_rate': 0.1, 'max_depth': 7, 'n_esti...</td>\n",
       "      <td>0.577778</td>\n",
       "      <td>{'learning_rate': 1.2, 'max_depth': 7, 'n_esti...</td>\n",
       "      <td>0.576111</td>\n",
       "    </tr>\n",
       "    <tr>\n",
       "      <th>40</th>\n",
       "      <td>{'model': &lt;class 'sklearn.linear_model._stocha...</td>\n",
       "      <td>{'model': &lt;class 'sklearn.linear_model._stocha...</td>\n",
       "      <td>classification</td>\n",
       "      <td>gender</td>\n",
       "      <td>accuracy</td>\n",
       "      <td>[topic, sign]</td>\n",
       "      <td>0.500000</td>\n",
       "      <td>(1, 1)</td>\n",
       "      <td>False</td>\n",
       "      <td>(&lt;class 'sklearn.linear_model._stochastic_grad...</td>\n",
       "      <td>{'alpha': 1e-05, 'loss': 'hinge', 'penalty': '...</td>\n",
       "      <td>0.603333</td>\n",
       "      <td>{'alpha': 1e-05, 'loss': 'modified_huber', 'pe...</td>\n",
       "      <td>0.549444</td>\n",
       "    </tr>\n",
       "    <tr>\n",
       "      <th>41</th>\n",
       "      <td>{'model': &lt;class 'sklearn.svm._classes.LinearS...</td>\n",
       "      <td>{'model': &lt;class 'sklearn.svm._classes.LinearS...</td>\n",
       "      <td>classification</td>\n",
       "      <td>gender</td>\n",
       "      <td>accuracy</td>\n",
       "      <td>[topic, sign]</td>\n",
       "      <td>0.500000</td>\n",
       "      <td>(1, 1)</td>\n",
       "      <td>False</td>\n",
       "      <td>(&lt;class 'sklearn.svm._classes.LinearSVC'&gt;, {'p...</td>\n",
       "      <td>{'C': 1.2, 'loss': 'squared_hinge', 'penalty':...</td>\n",
       "      <td>0.561111</td>\n",
       "      <td>{'C': 1.2, 'loss': 'hinge', 'penalty': 'l2'}</td>\n",
       "      <td>0.548333</td>\n",
       "    </tr>\n",
       "    <tr>\n",
       "      <th>42</th>\n",
       "      <td>{'model': &lt;class 'xgboost.sklearn.XGBClassifie...</td>\n",
       "      <td>{'model': &lt;class 'xgboost.sklearn.XGBClassifie...</td>\n",
       "      <td>classification</td>\n",
       "      <td>gender</td>\n",
       "      <td>accuracy</td>\n",
       "      <td>[topic, sign]</td>\n",
       "      <td>0.500000</td>\n",
       "      <td>(1, 2)</td>\n",
       "      <td>True</td>\n",
       "      <td>(&lt;class 'xgboost.sklearn.XGBClassifier'&gt;, {'le...</td>\n",
       "      <td>{'learning_rate': 0.1, 'max_depth': 7, 'n_esti...</td>\n",
       "      <td>0.577778</td>\n",
       "      <td>{'learning_rate': 1.2, 'max_depth': 7, 'n_esti...</td>\n",
       "      <td>0.576667</td>\n",
       "    </tr>\n",
       "    <tr>\n",
       "      <th>43</th>\n",
       "      <td>{'model': &lt;class 'sklearn.linear_model._stocha...</td>\n",
       "      <td>{'model': &lt;class 'sklearn.linear_model._stocha...</td>\n",
       "      <td>classification</td>\n",
       "      <td>gender</td>\n",
       "      <td>accuracy</td>\n",
       "      <td>[topic, sign]</td>\n",
       "      <td>0.500000</td>\n",
       "      <td>(1, 2)</td>\n",
       "      <td>True</td>\n",
       "      <td>(&lt;class 'sklearn.linear_model._stochastic_grad...</td>\n",
       "      <td>{'alpha': 0.001, 'loss': 'log', 'penalty': 'el...</td>\n",
       "      <td>0.616667</td>\n",
       "      <td>{'alpha': 0.001, 'loss': 'squared_hinge', 'pen...</td>\n",
       "      <td>0.561111</td>\n",
       "    </tr>\n",
       "    <tr>\n",
       "      <th>44</th>\n",
       "      <td>{'model': &lt;class 'sklearn.svm._classes.LinearS...</td>\n",
       "      <td>{'model': &lt;class 'sklearn.svm._classes.LinearS...</td>\n",
       "      <td>classification</td>\n",
       "      <td>gender</td>\n",
       "      <td>accuracy</td>\n",
       "      <td>[topic, sign]</td>\n",
       "      <td>0.500000</td>\n",
       "      <td>(1, 2)</td>\n",
       "      <td>True</td>\n",
       "      <td>(&lt;class 'sklearn.svm._classes.LinearSVC'&gt;, {'p...</td>\n",
       "      <td>{'C': 1.2, 'loss': 'squared_hinge', 'penalty':...</td>\n",
       "      <td>0.561111</td>\n",
       "      <td>{'C': 1.2, 'loss': 'hinge', 'penalty': 'l2'}</td>\n",
       "      <td>0.562222</td>\n",
       "    </tr>\n",
       "    <tr>\n",
       "      <th>45</th>\n",
       "      <td>{'model': &lt;class 'xgboost.sklearn.XGBClassifie...</td>\n",
       "      <td>{'model': &lt;class 'xgboost.sklearn.XGBClassifie...</td>\n",
       "      <td>classification</td>\n",
       "      <td>gender</td>\n",
       "      <td>accuracy</td>\n",
       "      <td>[topic, sign]</td>\n",
       "      <td>0.500000</td>\n",
       "      <td>(1, 2)</td>\n",
       "      <td>False</td>\n",
       "      <td>(&lt;class 'xgboost.sklearn.XGBClassifier'&gt;, {'le...</td>\n",
       "      <td>{'learning_rate': 0.1, 'max_depth': 7, 'n_esti...</td>\n",
       "      <td>0.577778</td>\n",
       "      <td>{'learning_rate': 1, 'max_depth': 7, 'n_estima...</td>\n",
       "      <td>0.602778</td>\n",
       "    </tr>\n",
       "    <tr>\n",
       "      <th>46</th>\n",
       "      <td>{'model': &lt;class 'sklearn.linear_model._stocha...</td>\n",
       "      <td>{'model': &lt;class 'sklearn.linear_model._stocha...</td>\n",
       "      <td>classification</td>\n",
       "      <td>gender</td>\n",
       "      <td>accuracy</td>\n",
       "      <td>[topic, sign]</td>\n",
       "      <td>0.500000</td>\n",
       "      <td>(1, 2)</td>\n",
       "      <td>False</td>\n",
       "      <td>(&lt;class 'sklearn.linear_model._stochastic_grad...</td>\n",
       "      <td>{'alpha': 0.001, 'loss': 'hinge', 'penalty': '...</td>\n",
       "      <td>0.589444</td>\n",
       "      <td>{'alpha': 1e-05, 'loss': 'modified_huber', 'pe...</td>\n",
       "      <td>0.577222</td>\n",
       "    </tr>\n",
       "    <tr>\n",
       "      <th>47</th>\n",
       "      <td>{'model': &lt;class 'sklearn.svm._classes.LinearS...</td>\n",
       "      <td>{'model': &lt;class 'sklearn.svm._classes.LinearS...</td>\n",
       "      <td>classification</td>\n",
       "      <td>gender</td>\n",
       "      <td>accuracy</td>\n",
       "      <td>[topic, sign]</td>\n",
       "      <td>0.500000</td>\n",
       "      <td>(1, 2)</td>\n",
       "      <td>False</td>\n",
       "      <td>(&lt;class 'sklearn.svm._classes.LinearSVC'&gt;, {'p...</td>\n",
       "      <td>{'C': 1.2, 'loss': 'squared_hinge', 'penalty':...</td>\n",
       "      <td>0.561111</td>\n",
       "      <td>{'C': 1, 'loss': 'squared_hinge', 'penalty': '...</td>\n",
       "      <td>0.602778</td>\n",
       "    </tr>\n",
       "    <tr>\n",
       "      <th>48</th>\n",
       "      <td>{'model': &lt;class 'xgboost.sklearn.XGBClassifie...</td>\n",
       "      <td>{'model': &lt;class 'xgboost.sklearn.XGBClassifie...</td>\n",
       "      <td>classification</td>\n",
       "      <td>gender</td>\n",
       "      <td>accuracy</td>\n",
       "      <td>[topic, sign]</td>\n",
       "      <td>0.500000</td>\n",
       "      <td>(2, 2)</td>\n",
       "      <td>True</td>\n",
       "      <td>(&lt;class 'xgboost.sklearn.XGBClassifier'&gt;, {'le...</td>\n",
       "      <td>{'learning_rate': 0.1, 'max_depth': 7, 'n_esti...</td>\n",
       "      <td>0.577778</td>\n",
       "      <td>{'learning_rate': 0.8, 'max_depth': 7, 'n_esti...</td>\n",
       "      <td>0.631111</td>\n",
       "    </tr>\n",
       "    <tr>\n",
       "      <th>49</th>\n",
       "      <td>{'model': &lt;class 'sklearn.linear_model._stocha...</td>\n",
       "      <td>{'model': &lt;class 'sklearn.linear_model._stocha...</td>\n",
       "      <td>classification</td>\n",
       "      <td>gender</td>\n",
       "      <td>accuracy</td>\n",
       "      <td>[topic, sign]</td>\n",
       "      <td>0.500000</td>\n",
       "      <td>(2, 2)</td>\n",
       "      <td>True</td>\n",
       "      <td>(&lt;class 'sklearn.linear_model._stochastic_grad...</td>\n",
       "      <td>{'alpha': 1e-05, 'loss': 'log', 'penalty': 'l2'}</td>\n",
       "      <td>0.616667</td>\n",
       "      <td>{'alpha': 1e-05, 'loss': 'squared_hinge', 'pen...</td>\n",
       "      <td>0.630556</td>\n",
       "    </tr>\n",
       "    <tr>\n",
       "      <th>50</th>\n",
       "      <td>{'model': &lt;class 'sklearn.svm._classes.LinearS...</td>\n",
       "      <td>{'model': &lt;class 'sklearn.svm._classes.LinearS...</td>\n",
       "      <td>classification</td>\n",
       "      <td>gender</td>\n",
       "      <td>accuracy</td>\n",
       "      <td>[topic, sign]</td>\n",
       "      <td>0.500000</td>\n",
       "      <td>(2, 2)</td>\n",
       "      <td>True</td>\n",
       "      <td>(&lt;class 'sklearn.svm._classes.LinearSVC'&gt;, {'p...</td>\n",
       "      <td>{'C': 1.2, 'loss': 'squared_hinge', 'penalty':...</td>\n",
       "      <td>0.561111</td>\n",
       "      <td>{'C': 0.8, 'loss': 'squared_hinge', 'penalty':...</td>\n",
       "      <td>0.616667</td>\n",
       "    </tr>\n",
       "    <tr>\n",
       "      <th>51</th>\n",
       "      <td>{'model': &lt;class 'xgboost.sklearn.XGBClassifie...</td>\n",
       "      <td>{'model': &lt;class 'xgboost.sklearn.XGBClassifie...</td>\n",
       "      <td>classification</td>\n",
       "      <td>gender</td>\n",
       "      <td>accuracy</td>\n",
       "      <td>[topic, sign]</td>\n",
       "      <td>0.500000</td>\n",
       "      <td>(2, 2)</td>\n",
       "      <td>False</td>\n",
       "      <td>(&lt;class 'xgboost.sklearn.XGBClassifier'&gt;, {'le...</td>\n",
       "      <td>{'learning_rate': 0.1, 'max_depth': 7, 'n_esti...</td>\n",
       "      <td>0.577778</td>\n",
       "      <td>{'learning_rate': 0.1, 'max_depth': 7, 'n_esti...</td>\n",
       "      <td>0.617222</td>\n",
       "    </tr>\n",
       "    <tr>\n",
       "      <th>52</th>\n",
       "      <td>{'model': &lt;class 'sklearn.linear_model._stocha...</td>\n",
       "      <td>{'model': &lt;class 'sklearn.linear_model._stocha...</td>\n",
       "      <td>classification</td>\n",
       "      <td>gender</td>\n",
       "      <td>accuracy</td>\n",
       "      <td>[topic, sign]</td>\n",
       "      <td>0.500000</td>\n",
       "      <td>(2, 2)</td>\n",
       "      <td>False</td>\n",
       "      <td>(&lt;class 'sklearn.linear_model._stochastic_grad...</td>\n",
       "      <td>{'alpha': 1e-05, 'loss': 'log', 'penalty': 'l1'}</td>\n",
       "      <td>0.617778</td>\n",
       "      <td>{'alpha': 1e-05, 'loss': 'modified_huber', 'pe...</td>\n",
       "      <td>0.617778</td>\n",
       "    </tr>\n",
       "    <tr>\n",
       "      <th>53</th>\n",
       "      <td>{'model': &lt;class 'sklearn.svm._classes.LinearS...</td>\n",
       "      <td>{'model': &lt;class 'sklearn.svm._classes.LinearS...</td>\n",
       "      <td>classification</td>\n",
       "      <td>gender</td>\n",
       "      <td>accuracy</td>\n",
       "      <td>[topic, sign]</td>\n",
       "      <td>0.500000</td>\n",
       "      <td>(2, 2)</td>\n",
       "      <td>False</td>\n",
       "      <td>(&lt;class 'sklearn.svm._classes.LinearSVC'&gt;, {'p...</td>\n",
       "      <td>{'C': 1.2, 'loss': 'squared_hinge', 'penalty':...</td>\n",
       "      <td>0.561111</td>\n",
       "      <td>{'C': 0.8, 'loss': 'squared_hinge', 'penalty':...</td>\n",
       "      <td>0.616667</td>\n",
       "    </tr>\n",
       "  </tbody>\n",
       "</table>\n",
       "</div>"
      ],
      "text/plain": [
       "                                         CV_numerical  \\\n",
       "0   {'model': <class 'xgboost.sklearn.XGBClassifie...   \n",
       "1   {'model': <class 'sklearn.linear_model._stocha...   \n",
       "2   {'model': <class 'sklearn.svm._classes.LinearS...   \n",
       "3   {'model': <class 'xgboost.sklearn.XGBClassifie...   \n",
       "4   {'model': <class 'sklearn.linear_model._stocha...   \n",
       "5   {'model': <class 'sklearn.svm._classes.LinearS...   \n",
       "6   {'model': <class 'xgboost.sklearn.XGBClassifie...   \n",
       "7   {'model': <class 'sklearn.linear_model._stocha...   \n",
       "8   {'model': <class 'sklearn.svm._classes.LinearS...   \n",
       "9   {'model': <class 'xgboost.sklearn.XGBClassifie...   \n",
       "10  {'model': <class 'sklearn.linear_model._stocha...   \n",
       "11  {'model': <class 'sklearn.svm._classes.LinearS...   \n",
       "12  {'model': <class 'xgboost.sklearn.XGBClassifie...   \n",
       "13  {'model': <class 'sklearn.linear_model._stocha...   \n",
       "14  {'model': <class 'sklearn.svm._classes.LinearS...   \n",
       "15  {'model': <class 'xgboost.sklearn.XGBClassifie...   \n",
       "16  {'model': <class 'sklearn.linear_model._stocha...   \n",
       "17  {'model': <class 'sklearn.svm._classes.LinearS...   \n",
       "18  {'model': <class 'xgboost.sklearn.XGBClassifie...   \n",
       "19  {'model': <class 'sklearn.linear_model._stocha...   \n",
       "20  {'model': <class 'sklearn.svm._classes.LinearS...   \n",
       "21  {'model': <class 'xgboost.sklearn.XGBClassifie...   \n",
       "22  {'model': <class 'sklearn.linear_model._stocha...   \n",
       "23  {'model': <class 'sklearn.svm._classes.LinearS...   \n",
       "24  {'model': <class 'xgboost.sklearn.XGBClassifie...   \n",
       "25  {'model': <class 'sklearn.linear_model._stocha...   \n",
       "26  {'model': <class 'sklearn.svm._classes.LinearS...   \n",
       "27  {'model': <class 'xgboost.sklearn.XGBClassifie...   \n",
       "28  {'model': <class 'sklearn.linear_model._stocha...   \n",
       "29  {'model': <class 'sklearn.svm._classes.LinearS...   \n",
       "30  {'model': <class 'xgboost.sklearn.XGBClassifie...   \n",
       "31  {'model': <class 'sklearn.linear_model._stocha...   \n",
       "32  {'model': <class 'sklearn.svm._classes.LinearS...   \n",
       "33  {'model': <class 'xgboost.sklearn.XGBClassifie...   \n",
       "34  {'model': <class 'sklearn.linear_model._stocha...   \n",
       "35  {'model': <class 'sklearn.svm._classes.LinearS...   \n",
       "36  {'model': <class 'xgboost.sklearn.XGBClassifie...   \n",
       "37  {'model': <class 'sklearn.linear_model._stocha...   \n",
       "38  {'model': <class 'sklearn.svm._classes.LinearS...   \n",
       "39  {'model': <class 'xgboost.sklearn.XGBClassifie...   \n",
       "40  {'model': <class 'sklearn.linear_model._stocha...   \n",
       "41  {'model': <class 'sklearn.svm._classes.LinearS...   \n",
       "42  {'model': <class 'xgboost.sklearn.XGBClassifie...   \n",
       "43  {'model': <class 'sklearn.linear_model._stocha...   \n",
       "44  {'model': <class 'sklearn.svm._classes.LinearS...   \n",
       "45  {'model': <class 'xgboost.sklearn.XGBClassifie...   \n",
       "46  {'model': <class 'sklearn.linear_model._stocha...   \n",
       "47  {'model': <class 'sklearn.svm._classes.LinearS...   \n",
       "48  {'model': <class 'xgboost.sklearn.XGBClassifie...   \n",
       "49  {'model': <class 'sklearn.linear_model._stocha...   \n",
       "50  {'model': <class 'sklearn.svm._classes.LinearS...   \n",
       "51  {'model': <class 'xgboost.sklearn.XGBClassifie...   \n",
       "52  {'model': <class 'sklearn.linear_model._stocha...   \n",
       "53  {'model': <class 'sklearn.svm._classes.LinearS...   \n",
       "\n",
       "                                              CV_text     target_type  \\\n",
       "0   {'model': <class 'xgboost.sklearn.XGBClassifie...  classification   \n",
       "1   {'model': <class 'sklearn.linear_model._stocha...  classification   \n",
       "2   {'model': <class 'sklearn.svm._classes.LinearS...  classification   \n",
       "3   {'model': <class 'xgboost.sklearn.XGBClassifie...  classification   \n",
       "4   {'model': <class 'sklearn.linear_model._stocha...  classification   \n",
       "5   {'model': <class 'sklearn.svm._classes.LinearS...  classification   \n",
       "6   {'model': <class 'xgboost.sklearn.XGBClassifie...  classification   \n",
       "7   {'model': <class 'sklearn.linear_model._stocha...  classification   \n",
       "8   {'model': <class 'sklearn.svm._classes.LinearS...  classification   \n",
       "9   {'model': <class 'xgboost.sklearn.XGBClassifie...  classification   \n",
       "10  {'model': <class 'sklearn.linear_model._stocha...  classification   \n",
       "11  {'model': <class 'sklearn.svm._classes.LinearS...  classification   \n",
       "12  {'model': <class 'xgboost.sklearn.XGBClassifie...  classification   \n",
       "13  {'model': <class 'sklearn.linear_model._stocha...  classification   \n",
       "14  {'model': <class 'sklearn.svm._classes.LinearS...  classification   \n",
       "15  {'model': <class 'xgboost.sklearn.XGBClassifie...  classification   \n",
       "16  {'model': <class 'sklearn.linear_model._stocha...  classification   \n",
       "17  {'model': <class 'sklearn.svm._classes.LinearS...  classification   \n",
       "18  {'model': <class 'xgboost.sklearn.XGBClassifie...  classification   \n",
       "19  {'model': <class 'sklearn.linear_model._stocha...  classification   \n",
       "20  {'model': <class 'sklearn.svm._classes.LinearS...  classification   \n",
       "21  {'model': <class 'xgboost.sklearn.XGBClassifie...  classification   \n",
       "22  {'model': <class 'sklearn.linear_model._stocha...  classification   \n",
       "23  {'model': <class 'sklearn.svm._classes.LinearS...  classification   \n",
       "24  {'model': <class 'xgboost.sklearn.XGBClassifie...  classification   \n",
       "25  {'model': <class 'sklearn.linear_model._stocha...  classification   \n",
       "26  {'model': <class 'sklearn.svm._classes.LinearS...  classification   \n",
       "27  {'model': <class 'xgboost.sklearn.XGBClassifie...  classification   \n",
       "28  {'model': <class 'sklearn.linear_model._stocha...  classification   \n",
       "29  {'model': <class 'sklearn.svm._classes.LinearS...  classification   \n",
       "30  {'model': <class 'xgboost.sklearn.XGBClassifie...  classification   \n",
       "31  {'model': <class 'sklearn.linear_model._stocha...  classification   \n",
       "32  {'model': <class 'sklearn.svm._classes.LinearS...  classification   \n",
       "33  {'model': <class 'xgboost.sklearn.XGBClassifie...  classification   \n",
       "34  {'model': <class 'sklearn.linear_model._stocha...  classification   \n",
       "35  {'model': <class 'sklearn.svm._classes.LinearS...  classification   \n",
       "36  {'model': <class 'xgboost.sklearn.XGBClassifie...  classification   \n",
       "37  {'model': <class 'sklearn.linear_model._stocha...  classification   \n",
       "38  {'model': <class 'sklearn.svm._classes.LinearS...  classification   \n",
       "39  {'model': <class 'xgboost.sklearn.XGBClassifie...  classification   \n",
       "40  {'model': <class 'sklearn.linear_model._stocha...  classification   \n",
       "41  {'model': <class 'sklearn.svm._classes.LinearS...  classification   \n",
       "42  {'model': <class 'xgboost.sklearn.XGBClassifie...  classification   \n",
       "43  {'model': <class 'sklearn.linear_model._stocha...  classification   \n",
       "44  {'model': <class 'sklearn.svm._classes.LinearS...  classification   \n",
       "45  {'model': <class 'xgboost.sklearn.XGBClassifie...  classification   \n",
       "46  {'model': <class 'sklearn.linear_model._stocha...  classification   \n",
       "47  {'model': <class 'sklearn.svm._classes.LinearS...  classification   \n",
       "48  {'model': <class 'xgboost.sklearn.XGBClassifie...  classification   \n",
       "49  {'model': <class 'sklearn.linear_model._stocha...  classification   \n",
       "50  {'model': <class 'sklearn.svm._classes.LinearS...  classification   \n",
       "51  {'model': <class 'xgboost.sklearn.XGBClassifie...  classification   \n",
       "52  {'model': <class 'sklearn.linear_model._stocha...  classification   \n",
       "53  {'model': <class 'sklearn.svm._classes.LinearS...  classification   \n",
       "\n",
       "   target_variable grid_search_metric categorial_variables  min_df_exponents  \\\n",
       "0           gender           accuracy        [topic, sign]          0.250000   \n",
       "1           gender           accuracy        [topic, sign]          0.250000   \n",
       "2           gender           accuracy        [topic, sign]          0.250000   \n",
       "3           gender           accuracy        [topic, sign]          0.250000   \n",
       "4           gender           accuracy        [topic, sign]          0.250000   \n",
       "5           gender           accuracy        [topic, sign]          0.250000   \n",
       "6           gender           accuracy        [topic, sign]          0.250000   \n",
       "7           gender           accuracy        [topic, sign]          0.250000   \n",
       "8           gender           accuracy        [topic, sign]          0.250000   \n",
       "9           gender           accuracy        [topic, sign]          0.250000   \n",
       "10          gender           accuracy        [topic, sign]          0.250000   \n",
       "11          gender           accuracy        [topic, sign]          0.250000   \n",
       "12          gender           accuracy        [topic, sign]          0.250000   \n",
       "13          gender           accuracy        [topic, sign]          0.250000   \n",
       "14          gender           accuracy        [topic, sign]          0.250000   \n",
       "15          gender           accuracy        [topic, sign]          0.250000   \n",
       "16          gender           accuracy        [topic, sign]          0.250000   \n",
       "17          gender           accuracy        [topic, sign]          0.250000   \n",
       "18          gender           accuracy        [topic, sign]          0.333333   \n",
       "19          gender           accuracy        [topic, sign]          0.333333   \n",
       "20          gender           accuracy        [topic, sign]          0.333333   \n",
       "21          gender           accuracy        [topic, sign]          0.333333   \n",
       "22          gender           accuracy        [topic, sign]          0.333333   \n",
       "23          gender           accuracy        [topic, sign]          0.333333   \n",
       "24          gender           accuracy        [topic, sign]          0.333333   \n",
       "25          gender           accuracy        [topic, sign]          0.333333   \n",
       "26          gender           accuracy        [topic, sign]          0.333333   \n",
       "27          gender           accuracy        [topic, sign]          0.333333   \n",
       "28          gender           accuracy        [topic, sign]          0.333333   \n",
       "29          gender           accuracy        [topic, sign]          0.333333   \n",
       "30          gender           accuracy        [topic, sign]          0.333333   \n",
       "31          gender           accuracy        [topic, sign]          0.333333   \n",
       "32          gender           accuracy        [topic, sign]          0.333333   \n",
       "33          gender           accuracy        [topic, sign]          0.333333   \n",
       "34          gender           accuracy        [topic, sign]          0.333333   \n",
       "35          gender           accuracy        [topic, sign]          0.333333   \n",
       "36          gender           accuracy        [topic, sign]          0.500000   \n",
       "37          gender           accuracy        [topic, sign]          0.500000   \n",
       "38          gender           accuracy        [topic, sign]          0.500000   \n",
       "39          gender           accuracy        [topic, sign]          0.500000   \n",
       "40          gender           accuracy        [topic, sign]          0.500000   \n",
       "41          gender           accuracy        [topic, sign]          0.500000   \n",
       "42          gender           accuracy        [topic, sign]          0.500000   \n",
       "43          gender           accuracy        [topic, sign]          0.500000   \n",
       "44          gender           accuracy        [topic, sign]          0.500000   \n",
       "45          gender           accuracy        [topic, sign]          0.500000   \n",
       "46          gender           accuracy        [topic, sign]          0.500000   \n",
       "47          gender           accuracy        [topic, sign]          0.500000   \n",
       "48          gender           accuracy        [topic, sign]          0.500000   \n",
       "49          gender           accuracy        [topic, sign]          0.500000   \n",
       "50          gender           accuracy        [topic, sign]          0.500000   \n",
       "51          gender           accuracy        [topic, sign]          0.500000   \n",
       "52          gender           accuracy        [topic, sign]          0.500000   \n",
       "53          gender           accuracy        [topic, sign]          0.500000   \n",
       "\n",
       "   n_gram_range  use_tfidf                               ml_algorithms_params  \\\n",
       "0        (1, 1)       True  (<class 'xgboost.sklearn.XGBClassifier'>, {'le...   \n",
       "1        (1, 1)       True  (<class 'sklearn.linear_model._stochastic_grad...   \n",
       "2        (1, 1)       True  (<class 'sklearn.svm._classes.LinearSVC'>, {'p...   \n",
       "3        (1, 1)      False  (<class 'xgboost.sklearn.XGBClassifier'>, {'le...   \n",
       "4        (1, 1)      False  (<class 'sklearn.linear_model._stochastic_grad...   \n",
       "5        (1, 1)      False  (<class 'sklearn.svm._classes.LinearSVC'>, {'p...   \n",
       "6        (1, 2)       True  (<class 'xgboost.sklearn.XGBClassifier'>, {'le...   \n",
       "7        (1, 2)       True  (<class 'sklearn.linear_model._stochastic_grad...   \n",
       "8        (1, 2)       True  (<class 'sklearn.svm._classes.LinearSVC'>, {'p...   \n",
       "9        (1, 2)      False  (<class 'xgboost.sklearn.XGBClassifier'>, {'le...   \n",
       "10       (1, 2)      False  (<class 'sklearn.linear_model._stochastic_grad...   \n",
       "11       (1, 2)      False  (<class 'sklearn.svm._classes.LinearSVC'>, {'p...   \n",
       "12       (2, 2)       True  (<class 'xgboost.sklearn.XGBClassifier'>, {'le...   \n",
       "13       (2, 2)       True  (<class 'sklearn.linear_model._stochastic_grad...   \n",
       "14       (2, 2)       True  (<class 'sklearn.svm._classes.LinearSVC'>, {'p...   \n",
       "15       (2, 2)      False  (<class 'xgboost.sklearn.XGBClassifier'>, {'le...   \n",
       "16       (2, 2)      False  (<class 'sklearn.linear_model._stochastic_grad...   \n",
       "17       (2, 2)      False  (<class 'sklearn.svm._classes.LinearSVC'>, {'p...   \n",
       "18       (1, 1)       True  (<class 'xgboost.sklearn.XGBClassifier'>, {'le...   \n",
       "19       (1, 1)       True  (<class 'sklearn.linear_model._stochastic_grad...   \n",
       "20       (1, 1)       True  (<class 'sklearn.svm._classes.LinearSVC'>, {'p...   \n",
       "21       (1, 1)      False  (<class 'xgboost.sklearn.XGBClassifier'>, {'le...   \n",
       "22       (1, 1)      False  (<class 'sklearn.linear_model._stochastic_grad...   \n",
       "23       (1, 1)      False  (<class 'sklearn.svm._classes.LinearSVC'>, {'p...   \n",
       "24       (1, 2)       True  (<class 'xgboost.sklearn.XGBClassifier'>, {'le...   \n",
       "25       (1, 2)       True  (<class 'sklearn.linear_model._stochastic_grad...   \n",
       "26       (1, 2)       True  (<class 'sklearn.svm._classes.LinearSVC'>, {'p...   \n",
       "27       (1, 2)      False  (<class 'xgboost.sklearn.XGBClassifier'>, {'le...   \n",
       "28       (1, 2)      False  (<class 'sklearn.linear_model._stochastic_grad...   \n",
       "29       (1, 2)      False  (<class 'sklearn.svm._classes.LinearSVC'>, {'p...   \n",
       "30       (2, 2)       True  (<class 'xgboost.sklearn.XGBClassifier'>, {'le...   \n",
       "31       (2, 2)       True  (<class 'sklearn.linear_model._stochastic_grad...   \n",
       "32       (2, 2)       True  (<class 'sklearn.svm._classes.LinearSVC'>, {'p...   \n",
       "33       (2, 2)      False  (<class 'xgboost.sklearn.XGBClassifier'>, {'le...   \n",
       "34       (2, 2)      False  (<class 'sklearn.linear_model._stochastic_grad...   \n",
       "35       (2, 2)      False  (<class 'sklearn.svm._classes.LinearSVC'>, {'p...   \n",
       "36       (1, 1)       True  (<class 'xgboost.sklearn.XGBClassifier'>, {'le...   \n",
       "37       (1, 1)       True  (<class 'sklearn.linear_model._stochastic_grad...   \n",
       "38       (1, 1)       True  (<class 'sklearn.svm._classes.LinearSVC'>, {'p...   \n",
       "39       (1, 1)      False  (<class 'xgboost.sklearn.XGBClassifier'>, {'le...   \n",
       "40       (1, 1)      False  (<class 'sklearn.linear_model._stochastic_grad...   \n",
       "41       (1, 1)      False  (<class 'sklearn.svm._classes.LinearSVC'>, {'p...   \n",
       "42       (1, 2)       True  (<class 'xgboost.sklearn.XGBClassifier'>, {'le...   \n",
       "43       (1, 2)       True  (<class 'sklearn.linear_model._stochastic_grad...   \n",
       "44       (1, 2)       True  (<class 'sklearn.svm._classes.LinearSVC'>, {'p...   \n",
       "45       (1, 2)      False  (<class 'xgboost.sklearn.XGBClassifier'>, {'le...   \n",
       "46       (1, 2)      False  (<class 'sklearn.linear_model._stochastic_grad...   \n",
       "47       (1, 2)      False  (<class 'sklearn.svm._classes.LinearSVC'>, {'p...   \n",
       "48       (2, 2)       True  (<class 'xgboost.sklearn.XGBClassifier'>, {'le...   \n",
       "49       (2, 2)       True  (<class 'sklearn.linear_model._stochastic_grad...   \n",
       "50       (2, 2)       True  (<class 'sklearn.svm._classes.LinearSVC'>, {'p...   \n",
       "51       (2, 2)      False  (<class 'xgboost.sklearn.XGBClassifier'>, {'le...   \n",
       "52       (2, 2)      False  (<class 'sklearn.linear_model._stochastic_grad...   \n",
       "53       (2, 2)      False  (<class 'sklearn.svm._classes.LinearSVC'>, {'p...   \n",
       "\n",
       "                             CV_numerical_best_params  \\\n",
       "0   {'learning_rate': 0.1, 'max_depth': 7, 'n_esti...   \n",
       "1   {'alpha': 1e-05, 'loss': 'modified_huber', 'pe...   \n",
       "2   {'C': 1.2, 'loss': 'squared_hinge', 'penalty':...   \n",
       "3   {'learning_rate': 0.1, 'max_depth': 7, 'n_esti...   \n",
       "4   {'alpha': 1e-05, 'loss': 'hinge', 'penalty': '...   \n",
       "5   {'C': 1.2, 'loss': 'squared_hinge', 'penalty':...   \n",
       "6   {'learning_rate': 0.1, 'max_depth': 7, 'n_esti...   \n",
       "7   {'alpha': 0.001, 'loss': 'squared_hinge', 'pen...   \n",
       "8   {'C': 1.2, 'loss': 'squared_hinge', 'penalty':...   \n",
       "9   {'learning_rate': 0.1, 'max_depth': 7, 'n_esti...   \n",
       "10  {'alpha': 0.001, 'loss': 'hinge', 'penalty': '...   \n",
       "11  {'C': 1.2, 'loss': 'squared_hinge', 'penalty':...   \n",
       "12  {'learning_rate': 0.1, 'max_depth': 7, 'n_esti...   \n",
       "13   {'alpha': 1e-05, 'loss': 'log', 'penalty': 'l2'}   \n",
       "14  {'C': 1.2, 'loss': 'squared_hinge', 'penalty':...   \n",
       "15  {'learning_rate': 0.1, 'max_depth': 7, 'n_esti...   \n",
       "16  {'alpha': 0.001, 'loss': 'hinge', 'penalty': '...   \n",
       "17  {'C': 1.2, 'loss': 'squared_hinge', 'penalty':...   \n",
       "18  {'learning_rate': 0.1, 'max_depth': 7, 'n_esti...   \n",
       "19  {'alpha': 1e-05, 'loss': 'hinge', 'penalty': '...   \n",
       "20  {'C': 1.2, 'loss': 'squared_hinge', 'penalty':...   \n",
       "21  {'learning_rate': 0.1, 'max_depth': 7, 'n_esti...   \n",
       "22  {'alpha': 1e-05, 'loss': 'squared_hinge', 'pen...   \n",
       "23  {'C': 1.2, 'loss': 'squared_hinge', 'penalty':...   \n",
       "24  {'learning_rate': 0.1, 'max_depth': 7, 'n_esti...   \n",
       "25  {'alpha': 1e-05, 'loss': 'squared_hinge', 'pen...   \n",
       "26  {'C': 1.2, 'loss': 'squared_hinge', 'penalty':...   \n",
       "27  {'learning_rate': 0.1, 'max_depth': 7, 'n_esti...   \n",
       "28  {'alpha': 1e-05, 'loss': 'hinge', 'penalty': '...   \n",
       "29  {'C': 1.2, 'loss': 'squared_hinge', 'penalty':...   \n",
       "30  {'learning_rate': 0.1, 'max_depth': 7, 'n_esti...   \n",
       "31  {'alpha': 1e-05, 'loss': 'squared_hinge', 'pen...   \n",
       "32  {'C': 1.2, 'loss': 'squared_hinge', 'penalty':...   \n",
       "33  {'learning_rate': 0.1, 'max_depth': 7, 'n_esti...   \n",
       "34  {'alpha': 1e-05, 'loss': 'squared_hinge', 'pen...   \n",
       "35  {'C': 1.2, 'loss': 'squared_hinge', 'penalty':...   \n",
       "36  {'learning_rate': 0.1, 'max_depth': 7, 'n_esti...   \n",
       "37   {'alpha': 1e-05, 'loss': 'log', 'penalty': 'l1'}   \n",
       "38  {'C': 1.2, 'loss': 'squared_hinge', 'penalty':...   \n",
       "39  {'learning_rate': 0.1, 'max_depth': 7, 'n_esti...   \n",
       "40  {'alpha': 1e-05, 'loss': 'hinge', 'penalty': '...   \n",
       "41  {'C': 1.2, 'loss': 'squared_hinge', 'penalty':...   \n",
       "42  {'learning_rate': 0.1, 'max_depth': 7, 'n_esti...   \n",
       "43  {'alpha': 0.001, 'loss': 'log', 'penalty': 'el...   \n",
       "44  {'C': 1.2, 'loss': 'squared_hinge', 'penalty':...   \n",
       "45  {'learning_rate': 0.1, 'max_depth': 7, 'n_esti...   \n",
       "46  {'alpha': 0.001, 'loss': 'hinge', 'penalty': '...   \n",
       "47  {'C': 1.2, 'loss': 'squared_hinge', 'penalty':...   \n",
       "48  {'learning_rate': 0.1, 'max_depth': 7, 'n_esti...   \n",
       "49   {'alpha': 1e-05, 'loss': 'log', 'penalty': 'l2'}   \n",
       "50  {'C': 1.2, 'loss': 'squared_hinge', 'penalty':...   \n",
       "51  {'learning_rate': 0.1, 'max_depth': 7, 'n_esti...   \n",
       "52   {'alpha': 1e-05, 'loss': 'log', 'penalty': 'l1'}   \n",
       "53  {'C': 1.2, 'loss': 'squared_hinge', 'penalty':...   \n",
       "\n",
       "    CV_numerical_best_score  \\\n",
       "0                  0.577778   \n",
       "1                  0.630000   \n",
       "2                  0.561111   \n",
       "3                  0.577778   \n",
       "4                  0.616667   \n",
       "5                  0.561111   \n",
       "6                  0.577778   \n",
       "7                  0.602222   \n",
       "8                  0.561111   \n",
       "9                  0.577778   \n",
       "10                 0.617778   \n",
       "11                 0.561111   \n",
       "12                 0.577778   \n",
       "13                 0.644444   \n",
       "14                 0.561111   \n",
       "15                 0.577778   \n",
       "16                 0.603333   \n",
       "17                 0.561111   \n",
       "18                 0.577778   \n",
       "19                 0.616111   \n",
       "20                 0.561111   \n",
       "21                 0.577778   \n",
       "22                 0.616667   \n",
       "23                 0.561111   \n",
       "24                 0.577778   \n",
       "25                 0.602778   \n",
       "26                 0.561111   \n",
       "27                 0.577778   \n",
       "28                 0.590000   \n",
       "29                 0.561111   \n",
       "30                 0.577778   \n",
       "31                 0.631667   \n",
       "32                 0.561111   \n",
       "33                 0.577778   \n",
       "34                 0.631111   \n",
       "35                 0.561111   \n",
       "36                 0.577778   \n",
       "37                 0.602778   \n",
       "38                 0.561111   \n",
       "39                 0.577778   \n",
       "40                 0.603333   \n",
       "41                 0.561111   \n",
       "42                 0.577778   \n",
       "43                 0.616667   \n",
       "44                 0.561111   \n",
       "45                 0.577778   \n",
       "46                 0.589444   \n",
       "47                 0.561111   \n",
       "48                 0.577778   \n",
       "49                 0.616667   \n",
       "50                 0.561111   \n",
       "51                 0.577778   \n",
       "52                 0.617778   \n",
       "53                 0.561111   \n",
       "\n",
       "                                  CV_text_best_params  CV_text_best_score  \n",
       "0   {'learning_rate': 1, 'max_depth': 7, 'n_estima...            0.534444  \n",
       "1   {'alpha': 1e-05, 'loss': 'hinge', 'penalty': '...            0.563333  \n",
       "2   {'C': 0.8, 'loss': 'squared_hinge', 'penalty':...            0.495556  \n",
       "3   {'learning_rate': 1.2, 'max_depth': 7, 'n_esti...            0.590556  \n",
       "4   {'alpha': 1e-05, 'loss': 'hinge', 'penalty': '...            0.588889  \n",
       "5   {'C': 1, 'loss': 'squared_hinge', 'penalty': '...            0.494444  \n",
       "6   {'learning_rate': 1, 'max_depth': 7, 'n_estima...            0.493889  \n",
       "7   {'alpha': 0.001, 'loss': 'squared_hinge', 'pen...            0.576667  \n",
       "8   {'C': 1.2, 'loss': 'squared_hinge', 'penalty':...            0.508889  \n",
       "9   {'learning_rate': 1.2, 'max_depth': 7, 'n_esti...            0.603889  \n",
       "10  {'alpha': 0.001, 'loss': 'hinge', 'penalty': '...            0.617222  \n",
       "11  {'C': 0.8, 'loss': 'squared_hinge', 'penalty':...            0.507778  \n",
       "12  {'learning_rate': 0.8, 'max_depth': 7, 'n_esti...            0.617778  \n",
       "13  {'alpha': 1e-05, 'loss': 'squared_hinge', 'pen...            0.575556  \n",
       "14       {'C': 0.8, 'loss': 'hinge', 'penalty': 'l2'}            0.535000  \n",
       "15  {'learning_rate': 1, 'max_depth': 7, 'n_estima...            0.630556  \n",
       "16  {'alpha': 1e-05, 'loss': 'squared_hinge', 'pen...            0.588889  \n",
       "17       {'C': 0.8, 'loss': 'hinge', 'penalty': 'l2'}            0.535000  \n",
       "18  {'learning_rate': 0.8, 'max_depth': 7, 'n_esti...            0.547778  \n",
       "19  {'alpha': 0.001, 'loss': 'squared_hinge', 'pen...            0.590000  \n",
       "20  {'C': 1, 'loss': 'squared_hinge', 'penalty': '...            0.494444  \n",
       "21  {'learning_rate': 0.8, 'max_depth': 7, 'n_esti...            0.604444  \n",
       "22  {'alpha': 0.001, 'loss': 'hinge', 'penalty': '...            0.590000  \n",
       "23  {'C': 1.2, 'loss': 'squared_hinge', 'penalty':...            0.494444  \n",
       "24  {'learning_rate': 1, 'max_depth': 7, 'n_estima...            0.548333  \n",
       "25  {'alpha': 1e-05, 'loss': 'modified_huber', 'pe...            0.576667  \n",
       "26  {'C': 1, 'loss': 'squared_hinge', 'penalty': '...            0.508333  \n",
       "27  {'learning_rate': 0.8, 'max_depth': 7, 'n_esti...            0.602778  \n",
       "28  {'alpha': 0.001, 'loss': 'squared_hinge', 'pen...            0.617778  \n",
       "29  {'C': 1, 'loss': 'squared_hinge', 'penalty': '...            0.493889  \n",
       "30  {'learning_rate': 0.8, 'max_depth': 7, 'n_esti...            0.617222  \n",
       "31  {'alpha': 1e-05, 'loss': 'squared_hinge', 'pen...            0.590000  \n",
       "32       {'C': 0.8, 'loss': 'hinge', 'penalty': 'l2'}            0.562778  \n",
       "33  {'learning_rate': 0.1, 'max_depth': 7, 'n_esti...            0.617222  \n",
       "34  {'alpha': 1e-05, 'loss': 'squared_hinge', 'pen...            0.590000  \n",
       "35  {'C': 0.8, 'loss': 'squared_hinge', 'penalty':...            0.561667  \n",
       "36  {'learning_rate': 0.8, 'max_depth': 7, 'n_esti...            0.465556  \n",
       "37  {'alpha': 0.001, 'loss': 'modified_huber', 'pe...            0.521111  \n",
       "38       {'C': 1.2, 'loss': 'hinge', 'penalty': 'l2'}            0.535000  \n",
       "39  {'learning_rate': 1.2, 'max_depth': 7, 'n_esti...            0.576111  \n",
       "40  {'alpha': 1e-05, 'loss': 'modified_huber', 'pe...            0.549444  \n",
       "41       {'C': 1.2, 'loss': 'hinge', 'penalty': 'l2'}            0.548333  \n",
       "42  {'learning_rate': 1.2, 'max_depth': 7, 'n_esti...            0.576667  \n",
       "43  {'alpha': 0.001, 'loss': 'squared_hinge', 'pen...            0.561111  \n",
       "44       {'C': 1.2, 'loss': 'hinge', 'penalty': 'l2'}            0.562222  \n",
       "45  {'learning_rate': 1, 'max_depth': 7, 'n_estima...            0.602778  \n",
       "46  {'alpha': 1e-05, 'loss': 'modified_huber', 'pe...            0.577222  \n",
       "47  {'C': 1, 'loss': 'squared_hinge', 'penalty': '...            0.602778  \n",
       "48  {'learning_rate': 0.8, 'max_depth': 7, 'n_esti...            0.631111  \n",
       "49  {'alpha': 1e-05, 'loss': 'squared_hinge', 'pen...            0.630556  \n",
       "50  {'C': 0.8, 'loss': 'squared_hinge', 'penalty':...            0.616667  \n",
       "51  {'learning_rate': 0.1, 'max_depth': 7, 'n_esti...            0.617222  \n",
       "52  {'alpha': 1e-05, 'loss': 'modified_huber', 'pe...            0.617778  \n",
       "53  {'C': 0.8, 'loss': 'squared_hinge', 'penalty':...            0.616667  "
      ]
     },
     "execution_count": 30,
     "metadata": {},
     "output_type": "execute_result"
    }
   ],
   "source": [
    "df_results = process(case_gender, df_filtered)"
   ]
  }
 ],
 "metadata": {
  "kernelspec": {
   "display_name": "Python 3",
   "language": "python",
   "name": "python3"
  },
  "language_info": {
   "codemirror_mode": {
    "name": "ipython",
    "version": 3
   },
   "file_extension": ".py",
   "mimetype": "text/x-python",
   "name": "python",
   "nbconvert_exporter": "python",
   "pygments_lexer": "ipython3",
   "version": "3.8.3"
  }
 },
 "nbformat": 4,
 "nbformat_minor": 4
}
