{
 "cells": [
  {
   "cell_type": "code",
   "execution_count": 1,
   "metadata": {},
   "outputs": [],
   "source": [
    "import pandas as pd\n",
    "from tqdm import tqdm\n",
    "import matplotlib.pyplot as plt\n",
    "from sklearn.cluster import KMeans\n",
    "from sklearn.preprocessing import OneHotEncoder\n",
    "from sklearn.preprocessing import StandardScaler\n",
    "from sklearn.compose import make_column_transformer\n",
    "from sklearn.model_selection import train_test_split\n",
    "from sklearn.feature_extraction.text import TfidfVectorizer"
   ]
  },
  {
   "cell_type": "code",
   "execution_count": 2,
   "metadata": {},
   "outputs": [],
   "source": [
    "df_full_preprocessed = pd.read_pickle(\"./df_full_preprocessed.pkl\")"
   ]
  },
  {
   "cell_type": "code",
   "execution_count": 3,
   "metadata": {},
   "outputs": [],
   "source": [
    "# use the  text transformer class to create two transformers for the textual and the numerical model\n",
    "text_transformer = TfidfVectorizer(ngram_range=(1,1), min_df=int(len(df_full_preprocessed)**(1/4)), use_idf=True)\n",
    "numerical_transformer = make_column_transformer((OneHotEncoder(handle_unknown=\"ignore\"), [\"gender\",\"topic\",\"sign\"])\\\n",
    "                                                           , remainder=StandardScaler())\n"
   ]
  },
  {
   "cell_type": "code",
   "execution_count": null,
   "metadata": {},
   "outputs": [],
   "source": [
    "# create dataset\n",
    "X_text = text_transformer.fit_transform(df_full_preprocessed[\"text_preprocessed\"])\n",
    "X_numerical = numerical_transformer.fit_transform(df_full_preprocessed.drop(\"text_preprocessed\", axis=1))"
   ]
  },
  {
   "cell_type": "code",
   "execution_count": null,
   "metadata": {},
   "outputs": [],
   "source": [
    "validation_results = pd.DataFrame(data={'Features': [], 'Sum of squared distances': []})"
   ]
  },
  {
   "cell_type": "code",
   "execution_count": null,
   "metadata": {},
   "outputs": [],
   "source": [
    "# Validate the correct K of the text kmeans models by testing Ks between 2 and 20 and save the results\n",
    "Sum_of_squared_distances = {}\n",
    "K = range(2,40)\n",
    "for k in tqdm(K):\n",
    "    km = KMeans(n_clusters=k, max_iter=200)\n",
    "    km = km.fit(X_text)\n",
    "    Sum_of_squared_distances[k] = km.inertia_\n",
    "        \n",
    "new_row = {'Features':'Text', 'Sum of squared distances':Sum_of_squared_distances}\n",
    "validation_results = validation_results.append(new_row, ignore_index=True)"
   ]
  },
  {
   "cell_type": "code",
   "execution_count": null,
   "metadata": {},
   "outputs": [],
   "source": [
    "# Validate the correct K of the numerical kmeans models by testing Ks between 2 and 30 and save the results\n",
    "Sum_of_squared_distances = {}\n",
    "K = range(2,40)\n",
    "for k in tqdm(K):\n",
    "    km = KMeans(n_clusters=k, max_iter=200)\n",
    "    km = km.fit(X_numerical)\n",
    "    Sum_of_squared_distances[k] = km.inertia_\n",
    "        \n",
    "new_row = {'Features':'Numerical', 'Sum of squared distances':Sum_of_squared_distances}\n",
    "validation_results = validation_results.append(new_row, ignore_index=True)"
   ]
  },
  {
   "cell_type": "code",
   "execution_count": null,
   "metadata": {},
   "outputs": [],
   "source": [
    "# Print the validation results for each model\n",
    "for i in validation_results.iterrows():\n",
    "    print(i[1][0])\n",
    "    try:\n",
    "        dictionary = ast.literal_eval(i[1][1])\n",
    "    except:\n",
    "        dictionary = i[1][1]\n",
    "    plt.plot(list(dictionary.keys()), list(dictionary.values()), 'bx-')\n",
    "    plt.xlabel('k')\n",
    "    plt.ylabel('Sum_of_squared_distances')\n",
    "    plt.title(f'Elbow Method for optimal k')\n",
    "    plt.savefig(f'{i[1][0]}.png')\n",
    "    plt.show()\n",
    "    print('---------------------------------------------------')"
   ]
  },
  {
   "cell_type": "code",
   "execution_count": null,
   "metadata": {},
   "outputs": [],
   "source": []
  }
 ],
 "metadata": {
  "kernelspec": {
   "display_name": "Python 3",
   "language": "python",
   "name": "python3"
  },
  "language_info": {
   "codemirror_mode": {
    "name": "ipython",
    "version": 3
   },
   "file_extension": ".py",
   "mimetype": "text/x-python",
   "name": "python",
   "nbconvert_exporter": "python",
   "pygments_lexer": "ipython3",
   "version": "3.8.3"
  }
 },
 "nbformat": 4,
 "nbformat_minor": 4
}
